{
 "cells": [
  {
   "cell_type": "markdown",
   "metadata": {},
   "source": [
    "How much of the data processing can be automated? Is it possible to manage all aspects of data analysis with a single click? Our best friends for the decision-making process are the insights from the results. Organizations that have been effective in adopting and evangelizing analytics have set themselves apart from their competitors. However, it is always a huge hassle for small-size companies to use data for a better-informed decision. Hiring a data analyst or scientist might not always be cost effective. The first step toward alleviating the burden is automated data processing. It offers a systematic approach to reviewing, cleaning, transforming, and modeling data to uncover valuable knowledge, make recommendations and help decision-making for further investigation.\n",
    "\n",
    "This project aims to guide enterprise stakeholders in their future business decisions. The users can upload several datasets and choose the target subjects, target variables, and requested prediction interval.\n",
    "\n",
    "It will bring the following for its users:\n",
    "\n",
    "•\tthe predictions for the target subjects and variables,\n",
    "\n",
    "•\tdata insights related to target subjects and target variables,\n",
    "\n",
    "•\ta combined dataset that all missing entries are interpolated.\n",
    "\n",
    "For example, if a shoe store manager knows how many units each brand would sell for the next two months, s(he) can adjust his/her stock accordingly.\n",
    "\n",
    "For the best user experience, it is deployed as a webapp on heroku. One can simply go to https://automated-insight-capstone.herokuapp.com/ to give it a try.\n",
    "\n",
    "I will use the GDP and inflation forecast example to demonstrate how automated data analysis can be done and what values it will bring to the users.\n",
    "\n",
    "DATA: \n",
    "\n",
    "I have used 2019 dataset from across 13 publicly available sources. (15312 observations, 3451 variables, 403.2MB memory usage, 196 countries observed for 58 years)\n",
    "1.\tWorld Bank Development Indicators (https://datacatalog.worldbank.org/dataset/world-development-indicators)\n",
    "2.\tPenn World tables (https://www.rug.nl/ggdc/productivity/pwt/?lang=en)\n",
    "3.\tGlobal competitiveness indices (https://govdata360.worldbank.org/indicators/h93b3b7a4)\n",
    "4.\tGlobal competitiveness report (https://www.weforum.org/reports/how-to-end-a-decade-of-lost-productivity-growth)\n",
    "5.\tWorld governance indicators (https://info.worldbank.org/governance/wgi/)\n",
    "6.\tIMF World economic outlook (https://www.imf.org/en/Publications/SPROLLs/world-economic-outlook-databases)\n",
    "7.\tAtlas of Economic complexity (https://atlas.cid.harvard.edu/)\n",
    "8.\tReinhart and Rogoff FX (https://www.ilzetzki.com/irr-data)\n",
    "9.\tBarro-Lee education data (http://www.barrolee.com/)\n",
    "10.\tEnterprise survey (https://www.enterprisesurveys.org/en/enterprisesurveys)\n",
    "11.\tDoing business indicators (DBI) (https://www.doingbusiness.org/en/data)\n",
    "12.\tEconomist intelligence unit (https://country.eiu.com/united-states)\n",
    "13.\tQuality of government (https://www.gu.se/en/quality-government/qog-data)\n",
    "\n",
    "MODEL HIGHLIGHTS:\n",
    "\n",
    "•\tAutomated univariate and multivariate/parallel time series implementation\n",
    "\n",
    "•\tAbility to handle messy data by learning optimal NaN imputation (lead and lag backward forward filled + IterativeImputer)\n",
    "\n",
    "•\tFeature Selection + linear and nonlinear feature reduction (SelectKBest, PCA, umap) \n",
    "\n",
    "•\tOptimal periodicity searching for the LSTM model (Power Spectral Density)\n",
    "\n",
    "•\tLSTM for forecasting\n",
    "\n",
    "MODEL:\n",
    "\n",
    "The users will upload the datasets and select their target subjects and variables to predict. They will also choose the prediction interval in the future. The example is a panel (longitudinal) data set. It is multi-dimensional data involving measurements over time. Time-series and cross-sectional data can be considered special cases of panel data in one dimension only. I pick this type of dataset since it is the most common type of data we see in business data analysis. The aim is to both automate all steps and find fast and reliable predictions.\n",
    "\n",
    "I used the combined dataset and built a generic preprocessing step. The aim is to accommodate all types of uncleaned datasets. The dataset in my example has too many missing values. The first step is imputation of missing data.\n",
    "\n",
    "I first encode the categorical columns (leave out the missing values and save encoders as a dictionary). Then I created lag and lead terms for each observation (ensure that lags and leads are coming from the same subject). Then I use Bayesian Ridge iterative imputer (ensure that the estimates for categorical variables do not go outside their bounds). Then, I transform the scaled data to obtain the imputed dataset. This is the first output of the project. The users can use utilize this dataset for past information if they choose to. The next step is creating automated prediction and insight.\n",
    "\n",
    "I used a feature reduction technique to transform high-dimensional non-target columns into a space of fewer dimensions. I utilized the UMAP dimension reduction technique. It is very similar to t-SNE but is very general non-linear dimension reduction and faster than t-SNE. It can accommodate both local and global properties. The next step is detecting the possible periodicity in target variables. It would be very beneficial to know this periodicity information for the LSTM model. It would optimize how long data window model needs to feed into LSTM. It finds the highest power periods in the FFT transformation of the target columns.\n",
    "\n",
    "Long Short-Term Memory (LSTM) recurrent neural networks are an excellent algorithm for time series data that also can easily adapt to multivariate or multiple input forecasting problems. LSTM models require reshaping your dataset to a 3-dimensional object. I fed all these seven variables with found optimal periodicity lag (found from previous FFT spectrum analysis). There are two hidden layers in the model. It takes around 1 minute to train the model and gives a similar result to the baseline model that does not use any feature reduction.\n",
    "\n",
    "The deliverable of this project will be a web app. What it yields and the inputs are listed below.\n",
    "\n",
    "•\tSeveral datasets: uploaded by users\n",
    "\n",
    "•\tTarget subject columns, target subject names, target variables, date columns, prediction interval: selected by user\n",
    "\n",
    "•\tImputed data set: created by the webapp\n",
    "\n",
    "•\tScatter graphs: created using plotly\n",
    "\n",
    "•\tPrediction data set: created by the webapp\n",
    "\n",
    "•\tPerformance of the model in backtesting: created by the model"
   ]
  },
  {
   "cell_type": "code",
   "execution_count": 556,
   "metadata": {},
   "outputs": [],
   "source": [
    "import pandas as pd\n",
    "import numpy as np\n",
    "import matplotlib.pyplot as plt\n",
    "import seaborn as sns\n",
    "\n",
    "from collections import defaultdict\n",
    "from sklearn.preprocessing import LabelEncoder\n",
    "\n",
    "from sklearn.preprocessing import MinMaxScaler\n",
    "\n",
    "from sklearn.experimental import enable_iterative_imputer  # noqa\n",
    "from sklearn.impute import IterativeImputer\n",
    "from sklearn.linear_model import BayesianRidge\n",
    "\n",
    "from sklearn.feature_selection import SelectKBest, f_regression\n",
    "from sklearn.decomposition import PCA\n",
    "import umap\n",
    "\n",
    "import tensorflow as tf\n",
    "from tensorflow.keras.models import Sequential\n",
    "from tensorflow.keras.layers import Dense, Activation,Dropout, LSTM, TimeDistributed\n",
    "from tensorflow.keras.callbacks import EarlyStopping\n",
    "import time\n",
    "\n",
    "from scipy import fftpack\n",
    "from sklearn.metrics import mean_squared_error"
   ]
  },
  {
   "cell_type": "code",
   "execution_count": 557,
   "metadata": {},
   "outputs": [],
   "source": [
    "#user inputs\n",
    "subject_iden_col=['iso']\n",
    "time_iden_cols=['year']\n",
    "target_cols=['WB_ny_gdp_mktp_cd']\n",
    "target_subjects=['USA', 'OED']\n",
    "target_periods=3\n",
    "\n",
    "#user datasets\n",
    "df1=pd.read_csv('data/dataset1.csv', index_col=subject_iden_col+time_iden_cols)\n",
    "df2=pd.read_csv('data/dataset2.csv', index_col=subject_iden_col+time_iden_cols)\n",
    "df3=pd.read_csv('data/dataset3.csv', index_col=subject_iden_col+time_iden_cols)\n",
    "df4=pd.read_csv('data/dataset4.csv', index_col=subject_iden_col+time_iden_cols)\n",
    "df5=pd.read_csv('data/dataset5.csv', index_col=subject_iden_col+time_iden_cols)\n",
    "df6=pd.read_csv('data/dataset6.csv', index_col=subject_iden_col+time_iden_cols)\n",
    "df7=pd.read_csv('data/dataset7.csv', index_col=subject_iden_col+time_iden_cols)"
   ]
  },
  {
   "cell_type": "code",
   "execution_count": 558,
   "metadata": {},
   "outputs": [],
   "source": [
    "df=pd.concat([df1,df2,df3,df4,df5,df6,df7],axis=1).reset_index()"
   ]
  },
  {
   "cell_type": "markdown",
   "metadata": {},
   "source": [
    "Data Set (first 5 observations):"
   ]
  },
  {
   "cell_type": "code",
   "execution_count": 561,
   "metadata": {
    "scrolled": true
   },
   "outputs": [
    {
     "data": {
      "text/html": [
       "<div>\n",
       "<style scoped>\n",
       "    .dataframe tbody tr th:only-of-type {\n",
       "        vertical-align: middle;\n",
       "    }\n",
       "\n",
       "    .dataframe tbody tr th {\n",
       "        vertical-align: top;\n",
       "    }\n",
       "\n",
       "    .dataframe thead th {\n",
       "        text-align: right;\n",
       "    }\n",
       "</style>\n",
       "<table border=\"1\" class=\"dataframe\">\n",
       "  <thead>\n",
       "    <tr style=\"text-align: right;\">\n",
       "      <th></th>\n",
       "      <th>iso</th>\n",
       "      <th>year</th>\n",
       "      <th>countrycode</th>\n",
       "      <th>countryname</th>\n",
       "      <th>regionname</th>\n",
       "      <th>adminregion</th>\n",
       "      <th>adminregionname</th>\n",
       "      <th>incomelevel</th>\n",
       "      <th>incomelevelname</th>\n",
       "      <th>lendingtype</th>\n",
       "      <th>...</th>\n",
       "      <th>QG_wdi_unempfilo</th>\n",
       "      <th>QG_wdi_unempilo</th>\n",
       "      <th>QG_wdi_unempmilo</th>\n",
       "      <th>QG_wdi_unempyfilo</th>\n",
       "      <th>QG_wdi_unempyilo</th>\n",
       "      <th>QG_wdi_unempymilo</th>\n",
       "      <th>QG_wdi_wip</th>\n",
       "      <th>QG_who_sanittot</th>\n",
       "      <th>QG_whr_hap</th>\n",
       "      <th>QG_wr_regtype</th>\n",
       "    </tr>\n",
       "  </thead>\n",
       "  <tbody>\n",
       "    <tr>\n",
       "      <th>0</th>\n",
       "      <td>ABW</td>\n",
       "      <td>1961</td>\n",
       "      <td>ABW</td>\n",
       "      <td>Aruba</td>\n",
       "      <td>Latin America and Caribbean</td>\n",
       "      <td>NaN</td>\n",
       "      <td>NaN</td>\n",
       "      <td>HIC</td>\n",
       "      <td>High income</td>\n",
       "      <td>LNX</td>\n",
       "      <td>...</td>\n",
       "      <td>NaN</td>\n",
       "      <td>NaN</td>\n",
       "      <td>NaN</td>\n",
       "      <td>NaN</td>\n",
       "      <td>NaN</td>\n",
       "      <td>NaN</td>\n",
       "      <td>NaN</td>\n",
       "      <td>NaN</td>\n",
       "      <td>NaN</td>\n",
       "      <td>NaN</td>\n",
       "    </tr>\n",
       "    <tr>\n",
       "      <th>1</th>\n",
       "      <td>ABW</td>\n",
       "      <td>1962</td>\n",
       "      <td>ABW</td>\n",
       "      <td>Aruba</td>\n",
       "      <td>Latin America and Caribbean</td>\n",
       "      <td>NaN</td>\n",
       "      <td>NaN</td>\n",
       "      <td>HIC</td>\n",
       "      <td>High income</td>\n",
       "      <td>LNX</td>\n",
       "      <td>...</td>\n",
       "      <td>NaN</td>\n",
       "      <td>NaN</td>\n",
       "      <td>NaN</td>\n",
       "      <td>NaN</td>\n",
       "      <td>NaN</td>\n",
       "      <td>NaN</td>\n",
       "      <td>NaN</td>\n",
       "      <td>NaN</td>\n",
       "      <td>NaN</td>\n",
       "      <td>NaN</td>\n",
       "    </tr>\n",
       "    <tr>\n",
       "      <th>2</th>\n",
       "      <td>ABW</td>\n",
       "      <td>1963</td>\n",
       "      <td>ABW</td>\n",
       "      <td>Aruba</td>\n",
       "      <td>Latin America and Caribbean</td>\n",
       "      <td>NaN</td>\n",
       "      <td>NaN</td>\n",
       "      <td>HIC</td>\n",
       "      <td>High income</td>\n",
       "      <td>LNX</td>\n",
       "      <td>...</td>\n",
       "      <td>NaN</td>\n",
       "      <td>NaN</td>\n",
       "      <td>NaN</td>\n",
       "      <td>NaN</td>\n",
       "      <td>NaN</td>\n",
       "      <td>NaN</td>\n",
       "      <td>NaN</td>\n",
       "      <td>NaN</td>\n",
       "      <td>NaN</td>\n",
       "      <td>NaN</td>\n",
       "    </tr>\n",
       "    <tr>\n",
       "      <th>3</th>\n",
       "      <td>ABW</td>\n",
       "      <td>1964</td>\n",
       "      <td>ABW</td>\n",
       "      <td>Aruba</td>\n",
       "      <td>Latin America and Caribbean</td>\n",
       "      <td>NaN</td>\n",
       "      <td>NaN</td>\n",
       "      <td>HIC</td>\n",
       "      <td>High income</td>\n",
       "      <td>LNX</td>\n",
       "      <td>...</td>\n",
       "      <td>NaN</td>\n",
       "      <td>NaN</td>\n",
       "      <td>NaN</td>\n",
       "      <td>NaN</td>\n",
       "      <td>NaN</td>\n",
       "      <td>NaN</td>\n",
       "      <td>NaN</td>\n",
       "      <td>NaN</td>\n",
       "      <td>NaN</td>\n",
       "      <td>NaN</td>\n",
       "    </tr>\n",
       "    <tr>\n",
       "      <th>4</th>\n",
       "      <td>ABW</td>\n",
       "      <td>1965</td>\n",
       "      <td>ABW</td>\n",
       "      <td>Aruba</td>\n",
       "      <td>Latin America and Caribbean</td>\n",
       "      <td>NaN</td>\n",
       "      <td>NaN</td>\n",
       "      <td>HIC</td>\n",
       "      <td>High income</td>\n",
       "      <td>LNX</td>\n",
       "      <td>...</td>\n",
       "      <td>NaN</td>\n",
       "      <td>NaN</td>\n",
       "      <td>NaN</td>\n",
       "      <td>NaN</td>\n",
       "      <td>NaN</td>\n",
       "      <td>NaN</td>\n",
       "      <td>NaN</td>\n",
       "      <td>NaN</td>\n",
       "      <td>NaN</td>\n",
       "      <td>NaN</td>\n",
       "    </tr>\n",
       "  </tbody>\n",
       "</table>\n",
       "<p>5 rows × 3451 columns</p>\n",
       "</div>"
      ],
      "text/plain": [
       "   iso  year countrycode countryname                   regionname adminregion  \\\n",
       "0  ABW  1961         ABW       Aruba  Latin America and Caribbean         NaN   \n",
       "1  ABW  1962         ABW       Aruba  Latin America and Caribbean         NaN   \n",
       "2  ABW  1963         ABW       Aruba  Latin America and Caribbean         NaN   \n",
       "3  ABW  1964         ABW       Aruba  Latin America and Caribbean         NaN   \n",
       "4  ABW  1965         ABW       Aruba  Latin America and Caribbean         NaN   \n",
       "\n",
       "  adminregionname incomelevel incomelevelname lendingtype  ...  \\\n",
       "0             NaN         HIC     High income         LNX  ...   \n",
       "1             NaN         HIC     High income         LNX  ...   \n",
       "2             NaN         HIC     High income         LNX  ...   \n",
       "3             NaN         HIC     High income         LNX  ...   \n",
       "4             NaN         HIC     High income         LNX  ...   \n",
       "\n",
       "  QG_wdi_unempfilo  QG_wdi_unempilo  QG_wdi_unempmilo  QG_wdi_unempyfilo  \\\n",
       "0              NaN              NaN               NaN                NaN   \n",
       "1              NaN              NaN               NaN                NaN   \n",
       "2              NaN              NaN               NaN                NaN   \n",
       "3              NaN              NaN               NaN                NaN   \n",
       "4              NaN              NaN               NaN                NaN   \n",
       "\n",
       "   QG_wdi_unempyilo  QG_wdi_unempymilo  QG_wdi_wip  QG_who_sanittot  \\\n",
       "0               NaN                NaN         NaN              NaN   \n",
       "1               NaN                NaN         NaN              NaN   \n",
       "2               NaN                NaN         NaN              NaN   \n",
       "3               NaN                NaN         NaN              NaN   \n",
       "4               NaN                NaN         NaN              NaN   \n",
       "\n",
       "   QG_whr_hap  QG_wr_regtype  \n",
       "0         NaN            NaN  \n",
       "1         NaN            NaN  \n",
       "2         NaN            NaN  \n",
       "3         NaN            NaN  \n",
       "4         NaN            NaN  \n",
       "\n",
       "[5 rows x 3451 columns]"
      ]
     },
     "execution_count": 561,
     "metadata": {},
     "output_type": "execute_result"
    }
   ],
   "source": [
    "df.head()"
   ]
  },
  {
   "cell_type": "markdown",
   "metadata": {},
   "source": [
    "Information about dataset:"
   ]
  },
  {
   "cell_type": "code",
   "execution_count": 562,
   "metadata": {},
   "outputs": [
    {
     "name": "stdout",
     "output_type": "stream",
     "text": [
      "<class 'pandas.core.frame.DataFrame'>\n",
      "RangeIndex: 15312 entries, 0 to 15311\n",
      "Columns: 3451 entries, iso to QG_wr_regtype\n",
      "dtypes: float64(3398), int64(1), object(52)\n",
      "memory usage: 403.2+ MB\n"
     ]
    }
   ],
   "source": [
    "df.info()"
   ]
  },
  {
   "cell_type": "code",
   "execution_count": 563,
   "metadata": {},
   "outputs": [
    {
     "name": "stdout",
     "output_type": "stream",
     "text": [
      "Target subjects are : ['USA', 'OED']\n"
     ]
    }
   ],
   "source": [
    "print('Target subjects are : %s' %(target_subjects))"
   ]
  },
  {
   "cell_type": "code",
   "execution_count": 564,
   "metadata": {},
   "outputs": [
    {
     "name": "stdout",
     "output_type": "stream",
     "text": [
      "Forecast for next 3 periods.\n"
     ]
    }
   ],
   "source": [
    "print('Forecast for next %d periods.' %(target_periods))"
   ]
  },
  {
   "cell_type": "code",
   "execution_count": 565,
   "metadata": {},
   "outputs": [],
   "source": [
    "data_info = pd.read_csv('data/features_dictionary.csv')"
   ]
  },
  {
   "cell_type": "code",
   "execution_count": 566,
   "metadata": {},
   "outputs": [],
   "source": [
    "def feat_info(cols: list) :\n",
    "    return data_info[data_info['Identifier'].isin(cols)]"
   ]
  },
  {
   "cell_type": "markdown",
   "metadata": {},
   "source": [
    "Target Columns:"
   ]
  },
  {
   "cell_type": "code",
   "execution_count": 567,
   "metadata": {},
   "outputs": [
    {
     "data": {
      "text/html": [
       "<div>\n",
       "<style scoped>\n",
       "    .dataframe tbody tr th:only-of-type {\n",
       "        vertical-align: middle;\n",
       "    }\n",
       "\n",
       "    .dataframe tbody tr th {\n",
       "        vertical-align: top;\n",
       "    }\n",
       "\n",
       "    .dataframe thead th {\n",
       "        text-align: right;\n",
       "    }\n",
       "</style>\n",
       "<table border=\"1\" class=\"dataframe\">\n",
       "  <thead>\n",
       "    <tr style=\"text-align: right;\">\n",
       "      <th></th>\n",
       "      <th>Identifier</th>\n",
       "      <th>Description</th>\n",
       "      <th>Source</th>\n",
       "      <th>Publisher</th>\n",
       "      <th>Year</th>\n",
       "      <th>Topic</th>\n",
       "    </tr>\n",
       "  </thead>\n",
       "  <tbody>\n",
       "    <tr>\n",
       "      <th>306</th>\n",
       "      <td>WB_ny_gdp_mktp_cd</td>\n",
       "      <td>GDP (current US$)</td>\n",
       "      <td>World Development Indicators</td>\n",
       "      <td>The World Bank Group</td>\n",
       "      <td>2018</td>\n",
       "      <td>Economic Growth</td>\n",
       "    </tr>\n",
       "  </tbody>\n",
       "</table>\n",
       "</div>"
      ],
      "text/plain": [
       "            Identifier        Description                        Source  \\\n",
       "306  WB_ny_gdp_mktp_cd  GDP (current US$)  World Development Indicators   \n",
       "\n",
       "                Publisher  Year            Topic  \n",
       "306  The World Bank Group  2018  Economic Growth  "
      ]
     },
     "execution_count": 567,
     "metadata": {},
     "output_type": "execute_result"
    }
   ],
   "source": [
    "feat_info(target_cols)"
   ]
  },
  {
   "cell_type": "markdown",
   "metadata": {},
   "source": [
    "Target values (last 5 observation):"
   ]
  },
  {
   "cell_type": "code",
   "execution_count": 568,
   "metadata": {},
   "outputs": [
    {
     "data": {
      "text/html": [
       "<div>\n",
       "<style scoped>\n",
       "    .dataframe tbody tr th:only-of-type {\n",
       "        vertical-align: middle;\n",
       "    }\n",
       "\n",
       "    .dataframe tbody tr th {\n",
       "        vertical-align: top;\n",
       "    }\n",
       "\n",
       "    .dataframe thead th {\n",
       "        text-align: right;\n",
       "    }\n",
       "</style>\n",
       "<table border=\"1\" class=\"dataframe\">\n",
       "  <thead>\n",
       "    <tr style=\"text-align: right;\">\n",
       "      <th></th>\n",
       "      <th>iso</th>\n",
       "      <th>year</th>\n",
       "      <th>WB_ny_gdp_mktp_cd</th>\n",
       "    </tr>\n",
       "  </thead>\n",
       "  <tbody>\n",
       "    <tr>\n",
       "      <th>15307</th>\n",
       "      <td>ZWE</td>\n",
       "      <td>2014</td>\n",
       "      <td>1.949552e+10</td>\n",
       "    </tr>\n",
       "    <tr>\n",
       "      <th>15308</th>\n",
       "      <td>ZWE</td>\n",
       "      <td>2015</td>\n",
       "      <td>1.996312e+10</td>\n",
       "    </tr>\n",
       "    <tr>\n",
       "      <th>15309</th>\n",
       "      <td>ZWE</td>\n",
       "      <td>2016</td>\n",
       "      <td>2.054868e+10</td>\n",
       "    </tr>\n",
       "    <tr>\n",
       "      <th>15310</th>\n",
       "      <td>ZWE</td>\n",
       "      <td>2017</td>\n",
       "      <td>2.281301e+10</td>\n",
       "    </tr>\n",
       "    <tr>\n",
       "      <th>15311</th>\n",
       "      <td>ZWE</td>\n",
       "      <td>2018</td>\n",
       "      <td>3.100052e+10</td>\n",
       "    </tr>\n",
       "  </tbody>\n",
       "</table>\n",
       "</div>"
      ],
      "text/plain": [
       "       iso  year  WB_ny_gdp_mktp_cd\n",
       "15307  ZWE  2014       1.949552e+10\n",
       "15308  ZWE  2015       1.996312e+10\n",
       "15309  ZWE  2016       2.054868e+10\n",
       "15310  ZWE  2017       2.281301e+10\n",
       "15311  ZWE  2018       3.100052e+10"
      ]
     },
     "execution_count": 568,
     "metadata": {},
     "output_type": "execute_result"
    }
   ],
   "source": [
    "df[subject_iden_col+time_iden_cols+target_cols].tail()"
   ]
  },
  {
   "cell_type": "code",
   "execution_count": 569,
   "metadata": {},
   "outputs": [],
   "source": [
    "high_missing_cols =list(df.columns[(df.isna().sum()/len(df))>0.8]) #columns that more than 80% off entries missing \n",
    "\n",
    "df=df.drop(columns=high_missing_cols)"
   ]
  },
  {
   "cell_type": "code",
   "execution_count": 570,
   "metadata": {},
   "outputs": [],
   "source": [
    "df['subject']=df[subject_iden_col]\n",
    "df=df.drop(columns=subject_iden_col)\n",
    "\n",
    "df['date'] =df[time_iden_cols]\n",
    "df=df.drop(columns=time_iden_cols)\n",
    "\n",
    "df['SUBJECT']=df['subject']\n",
    "df['DATE']=df['date']"
   ]
  },
  {
   "cell_type": "code",
   "execution_count": 571,
   "metadata": {
    "scrolled": false
   },
   "outputs": [],
   "source": [
    "cat_cols=list(df.drop(['SUBJECT'],axis=1).select_dtypes(exclude=[np.float,np.int64]).columns)\n",
    "num_cols=list(df.drop(['DATE']+target_cols,axis=1).select_dtypes(include=[np.float,np.int64]).columns)\n",
    "\n",
    "df=df[['SUBJECT', 'DATE'] + target_cols + num_cols + cat_cols]"
   ]
  },
  {
   "cell_type": "markdown",
   "metadata": {},
   "source": [
    "Before imputation dataset looks like:"
   ]
  },
  {
   "cell_type": "code",
   "execution_count": 572,
   "metadata": {},
   "outputs": [
    {
     "data": {
      "text/html": [
       "<div>\n",
       "<style scoped>\n",
       "    .dataframe tbody tr th:only-of-type {\n",
       "        vertical-align: middle;\n",
       "    }\n",
       "\n",
       "    .dataframe tbody tr th {\n",
       "        vertical-align: top;\n",
       "    }\n",
       "\n",
       "    .dataframe thead th {\n",
       "        text-align: right;\n",
       "    }\n",
       "</style>\n",
       "<table border=\"1\" class=\"dataframe\">\n",
       "  <thead>\n",
       "    <tr style=\"text-align: right;\">\n",
       "      <th></th>\n",
       "      <th>SUBJECT</th>\n",
       "      <th>DATE</th>\n",
       "      <th>WB_ny_gdp_mktp_cd</th>\n",
       "      <th>WB_ag_agr_trac_no</th>\n",
       "      <th>WB_ag_lnd_agri_k2</th>\n",
       "      <th>WB_ag_lnd_agri_zs</th>\n",
       "      <th>WB_ag_lnd_arbl_ha</th>\n",
       "      <th>WB_ag_lnd_arbl_ha_pc</th>\n",
       "      <th>WB_ag_lnd_arbl_zs</th>\n",
       "      <th>WB_ag_lnd_crel_ha</th>\n",
       "      <th>...</th>\n",
       "      <th>QG_iaep_cc</th>\n",
       "      <th>QG_iaep_epmf</th>\n",
       "      <th>QG_iaep_es</th>\n",
       "      <th>QG_iaep_osp</th>\n",
       "      <th>QG_iaep_ufs</th>\n",
       "      <th>QG_lp_legor</th>\n",
       "      <th>QG_no_ef</th>\n",
       "      <th>QG_no_ufs</th>\n",
       "      <th>QG_wr_regtype</th>\n",
       "      <th>subject</th>\n",
       "    </tr>\n",
       "  </thead>\n",
       "  <tbody>\n",
       "    <tr>\n",
       "      <th>15307</th>\n",
       "      <td>ZWE</td>\n",
       "      <td>2014</td>\n",
       "      <td>1.949552e+10</td>\n",
       "      <td>NaN</td>\n",
       "      <td>162000.0</td>\n",
       "      <td>41.876696</td>\n",
       "      <td>4000000.0</td>\n",
       "      <td>0.294406</td>\n",
       "      <td>10.339925</td>\n",
       "      <td>1481135.0</td>\n",
       "      <td>...</td>\n",
       "      <td>NaN</td>\n",
       "      <td>NaN</td>\n",
       "      <td>NaN</td>\n",
       "      <td>NaN</td>\n",
       "      <td>NaN</td>\n",
       "      <td>1. English Common Law</td>\n",
       "      <td>NaN</td>\n",
       "      <td>NaN</td>\n",
       "      <td>NaN</td>\n",
       "      <td>ZWE</td>\n",
       "    </tr>\n",
       "    <tr>\n",
       "      <th>15308</th>\n",
       "      <td>ZWE</td>\n",
       "      <td>2015</td>\n",
       "      <td>1.996312e+10</td>\n",
       "      <td>NaN</td>\n",
       "      <td>162000.0</td>\n",
       "      <td>41.876696</td>\n",
       "      <td>4000000.0</td>\n",
       "      <td>0.289548</td>\n",
       "      <td>10.339925</td>\n",
       "      <td>1430952.0</td>\n",
       "      <td>...</td>\n",
       "      <td>NaN</td>\n",
       "      <td>NaN</td>\n",
       "      <td>NaN</td>\n",
       "      <td>NaN</td>\n",
       "      <td>NaN</td>\n",
       "      <td>1. English Common Law</td>\n",
       "      <td>NaN</td>\n",
       "      <td>NaN</td>\n",
       "      <td>NaN</td>\n",
       "      <td>ZWE</td>\n",
       "    </tr>\n",
       "    <tr>\n",
       "      <th>15309</th>\n",
       "      <td>ZWE</td>\n",
       "      <td>2016</td>\n",
       "      <td>2.054868e+10</td>\n",
       "      <td>NaN</td>\n",
       "      <td>162000.0</td>\n",
       "      <td>41.876696</td>\n",
       "      <td>4000000.0</td>\n",
       "      <td>0.285095</td>\n",
       "      <td>10.339925</td>\n",
       "      <td>1819721.0</td>\n",
       "      <td>...</td>\n",
       "      <td>NaN</td>\n",
       "      <td>NaN</td>\n",
       "      <td>NaN</td>\n",
       "      <td>NaN</td>\n",
       "      <td>NaN</td>\n",
       "      <td>1. English Common Law</td>\n",
       "      <td>NaN</td>\n",
       "      <td>NaN</td>\n",
       "      <td>NaN</td>\n",
       "      <td>ZWE</td>\n",
       "    </tr>\n",
       "    <tr>\n",
       "      <th>15310</th>\n",
       "      <td>ZWE</td>\n",
       "      <td>2017</td>\n",
       "      <td>2.281301e+10</td>\n",
       "      <td>NaN</td>\n",
       "      <td>NaN</td>\n",
       "      <td>NaN</td>\n",
       "      <td>NaN</td>\n",
       "      <td>NaN</td>\n",
       "      <td>NaN</td>\n",
       "      <td>1790089.0</td>\n",
       "      <td>...</td>\n",
       "      <td>NaN</td>\n",
       "      <td>NaN</td>\n",
       "      <td>NaN</td>\n",
       "      <td>NaN</td>\n",
       "      <td>NaN</td>\n",
       "      <td>1. English Common Law</td>\n",
       "      <td>NaN</td>\n",
       "      <td>NaN</td>\n",
       "      <td>NaN</td>\n",
       "      <td>ZWE</td>\n",
       "    </tr>\n",
       "    <tr>\n",
       "      <th>15311</th>\n",
       "      <td>ZWE</td>\n",
       "      <td>2018</td>\n",
       "      <td>3.100052e+10</td>\n",
       "      <td>NaN</td>\n",
       "      <td>NaN</td>\n",
       "      <td>NaN</td>\n",
       "      <td>NaN</td>\n",
       "      <td>NaN</td>\n",
       "      <td>NaN</td>\n",
       "      <td>NaN</td>\n",
       "      <td>...</td>\n",
       "      <td>NaN</td>\n",
       "      <td>NaN</td>\n",
       "      <td>NaN</td>\n",
       "      <td>NaN</td>\n",
       "      <td>NaN</td>\n",
       "      <td>1. English Common Law</td>\n",
       "      <td>NaN</td>\n",
       "      <td>NaN</td>\n",
       "      <td>NaN</td>\n",
       "      <td>ZWE</td>\n",
       "    </tr>\n",
       "  </tbody>\n",
       "</table>\n",
       "<p>5 rows × 1621 columns</p>\n",
       "</div>"
      ],
      "text/plain": [
       "      SUBJECT  DATE  WB_ny_gdp_mktp_cd  WB_ag_agr_trac_no  WB_ag_lnd_agri_k2  \\\n",
       "15307     ZWE  2014       1.949552e+10                NaN           162000.0   \n",
       "15308     ZWE  2015       1.996312e+10                NaN           162000.0   \n",
       "15309     ZWE  2016       2.054868e+10                NaN           162000.0   \n",
       "15310     ZWE  2017       2.281301e+10                NaN                NaN   \n",
       "15311     ZWE  2018       3.100052e+10                NaN                NaN   \n",
       "\n",
       "       WB_ag_lnd_agri_zs  WB_ag_lnd_arbl_ha  WB_ag_lnd_arbl_ha_pc  \\\n",
       "15307          41.876696          4000000.0              0.294406   \n",
       "15308          41.876696          4000000.0              0.289548   \n",
       "15309          41.876696          4000000.0              0.285095   \n",
       "15310                NaN                NaN                   NaN   \n",
       "15311                NaN                NaN                   NaN   \n",
       "\n",
       "       WB_ag_lnd_arbl_zs  WB_ag_lnd_crel_ha  ...  QG_iaep_cc  QG_iaep_epmf  \\\n",
       "15307          10.339925          1481135.0  ...         NaN           NaN   \n",
       "15308          10.339925          1430952.0  ...         NaN           NaN   \n",
       "15309          10.339925          1819721.0  ...         NaN           NaN   \n",
       "15310                NaN          1790089.0  ...         NaN           NaN   \n",
       "15311                NaN                NaN  ...         NaN           NaN   \n",
       "\n",
       "       QG_iaep_es  QG_iaep_osp  QG_iaep_ufs            QG_lp_legor  QG_no_ef  \\\n",
       "15307         NaN          NaN          NaN  1. English Common Law       NaN   \n",
       "15308         NaN          NaN          NaN  1. English Common Law       NaN   \n",
       "15309         NaN          NaN          NaN  1. English Common Law       NaN   \n",
       "15310         NaN          NaN          NaN  1. English Common Law       NaN   \n",
       "15311         NaN          NaN          NaN  1. English Common Law       NaN   \n",
       "\n",
       "       QG_no_ufs  QG_wr_regtype  subject  \n",
       "15307        NaN            NaN      ZWE  \n",
       "15308        NaN            NaN      ZWE  \n",
       "15309        NaN            NaN      ZWE  \n",
       "15310        NaN            NaN      ZWE  \n",
       "15311        NaN            NaN      ZWE  \n",
       "\n",
       "[5 rows x 1621 columns]"
      ]
     },
     "execution_count": 572,
     "metadata": {},
     "output_type": "execute_result"
    }
   ],
   "source": [
    "df.tail(5)"
   ]
  },
  {
   "cell_type": "markdown",
   "metadata": {},
   "source": [
    "# PART 1"
   ]
  },
  {
   "cell_type": "markdown",
   "metadata": {},
   "source": [
    "# DATA IMPUTATION"
   ]
  },
  {
   "cell_type": "markdown",
   "metadata": {},
   "source": [
    "Let's fill the missing values. We first encode the categorical values, then scale the dataset. \n",
    "Two-stage imputer:\n",
    "\n",
    "1-) Create lag and lead terms and backward and forward fill them.\n",
    "\n",
    "2-) Use the information from previous and later period and 5 nearest features to fill the missing values by Bayesian Ridge Imputer. (the imputation for categorical variables restricted such that they do not go outside their bounds)"
   ]
  },
  {
   "cell_type": "code",
   "execution_count": 16,
   "metadata": {},
   "outputs": [],
   "source": [
    "encoded_data=df.copy()\n",
    "mask = df.isnull()"
   ]
  },
  {
   "cell_type": "code",
   "execution_count": 17,
   "metadata": {},
   "outputs": [],
   "source": [
    "# Create a dictionary to sace encoded variables\n",
    "dic_encoder = defaultdict(LabelEncoder)\n",
    "\n",
    "# Encoding the variable\n",
    "encoded_data[cat_cols] = encoded_data[cat_cols].apply(lambda x: dic_encoder[x.name].fit_transform(x.astype(str)))\n",
    "\n",
    "encoded_data=encoded_data.where(~mask, df)"
   ]
  },
  {
   "cell_type": "code",
   "execution_count": 18,
   "metadata": {},
   "outputs": [],
   "source": [
    "# normalized the data \n",
    "scaler = MinMaxScaler(feature_range=(0,1))\n",
    "scaled_df = scaler.fit_transform(encoded_data.drop(columns=['SUBJECT','DATE']))"
   ]
  },
  {
   "cell_type": "code",
   "execution_count": 19,
   "metadata": {},
   "outputs": [],
   "source": [
    "# create dateframe for scaled data\n",
    "scaled_df=pd.DataFrame(data=scaled_df,columns=encoded_data.drop(['SUBJECT','DATE'],axis=1).columns,index=encoded_data.index)\n",
    "\n",
    "scaled_df[['SUBJECT','DATE']]=encoded_data[['SUBJECT','DATE']]\n",
    "scaled_df=scaled_df[['SUBJECT', 'DATE'] + target_cols + num_cols + cat_cols]"
   ]
  },
  {
   "cell_type": "code",
   "execution_count": 20,
   "metadata": {},
   "outputs": [],
   "source": [
    "def gen_lag_lead(data, n_in=1, n_out=0, dropnan=True): #t-n_in, ... t-1, t, t+1,...,t+n_out\n",
    "    agg=data\n",
    "    n_vars = data.shape[1]-2\n",
    "    \n",
    "    for i in range(n_in, 0, -1):# input sequence (t-n_in, ... t-1)\n",
    "        a=scaled_df.set_index('DATE').groupby('SUBJECT').shift(i).reset_index()\n",
    "        a=a.drop(columns='DATE') #drop DATE column\n",
    "        a.columns=[('var%d(t-%d)' % (j, i)) for j in range(n_vars)] #name columns var0(t-i),var1(t-i),..\n",
    "        agg=pd.concat([agg,a],axis=1)\n",
    "    \n",
    "    \n",
    "    for i in range(1,n_out+1):# input sequence (t+n_out, ... t+1)\n",
    "        a=scaled_df.set_index('DATE').groupby('SUBJECT').shift(-i).reset_index()\n",
    "        a=a.drop(columns='DATE') #drop DATE column\n",
    "        a.columns=[('var%d(t+%d)' % (j, i)) for j in range(n_vars)] #name columns var0(t+i),var1(t+i),..\n",
    "        agg=pd.concat([agg,a],axis=1)\n",
    "        \n",
    "    # drop rows with NaN values\n",
    "    if dropnan:\n",
    "        agg.dropna(inplace=True)\n",
    "        \n",
    "    return agg"
   ]
  },
  {
   "cell_type": "code",
   "execution_count": 21,
   "metadata": {},
   "outputs": [],
   "source": [
    "# Backward Fill method \n",
    "#(when missing data is located at the begining of the data)\n",
    "def Backward_Fill(data,col):\n",
    "    return data[col].bfill()\n",
    "\n",
    "# Forward Fill method\n",
    "#(when missing data is located at the end of the data)\n",
    "def Forward_Fill(data,col):\n",
    "    return data[col].ffill()"
   ]
  },
  {
   "cell_type": "code",
   "execution_count": 22,
   "metadata": {},
   "outputs": [],
   "source": [
    "all_subjects=scaled_df['SUBJECT'].unique()\n",
    "\n",
    "scaled_df_back_forw_fill=scaled_df.copy()\n",
    "\n",
    "for subject in all_subjects:\n",
    "    range_subject=scaled_df.index[scaled_df['SUBJECT']==subject].tolist()\n",
    "    data=scaled_df_back_forw_fill.loc[range_subject]\n",
    "    \n",
    "    # Fill out the data column by column \n",
    "    #using loop to fill the missing data \n",
    "    for col in data.columns:\n",
    "        data[col]=Backward_Fill(data,col)\n",
    "    \n",
    "    # Fill out the data column by column \n",
    "    #using loop to fill the missing data \n",
    "    for col in data.columns:\n",
    "        data[col]=Forward_Fill(data,col)\n",
    "        \n",
    "    scaled_df_back_forw_fill.loc[range_subject]=data"
   ]
  },
  {
   "cell_type": "code",
   "execution_count": 23,
   "metadata": {},
   "outputs": [],
   "source": [
    "scaled_df_lag_lead=gen_lag_lead(scaled_df_back_forw_fill,n_in=1,n_out=1,dropnan=False).drop(columns=['SUBJECT', 'DATE'])"
   ]
  },
  {
   "cell_type": "code",
   "execution_count": 24,
   "metadata": {},
   "outputs": [],
   "source": [
    "preserved_columns=scaled_df.drop(columns=['SUBJECT', 'DATE']).columns"
   ]
  },
  {
   "cell_type": "code",
   "execution_count": 25,
   "metadata": {},
   "outputs": [],
   "source": [
    "scaled_df_lag_lead[preserved_columns]=scaled_df.drop(columns=['SUBJECT', 'DATE'])"
   ]
  },
  {
   "cell_type": "code",
   "execution_count": 26,
   "metadata": {},
   "outputs": [],
   "source": [
    "#Second stage - BayesianRidge Imputer"
   ]
  },
  {
   "cell_type": "code",
   "execution_count": 27,
   "metadata": {},
   "outputs": [
    {
     "name": "stderr",
     "output_type": "stream",
     "text": [
      "C:\\Users\\xps-haydo\\anaconda3\\lib\\site-packages\\sklearn\\impute\\_iterative.py:637: ConvergenceWarning: [IterativeImputer] Early stopping criterion not reached.\n",
      "  warnings.warn(\"[IterativeImputer] Early stopping criterion not\"\n"
     ]
    }
   ],
   "source": [
    "imputer = IterativeImputer(BayesianRidge(),n_nearest_features=5,tol=0.001,verbose=0,min_value=-0.001,max_value=1.001)\n",
    "imputed_data=imputer.fit_transform(scaled_df_lag_lead)"
   ]
  },
  {
   "cell_type": "code",
   "execution_count": 28,
   "metadata": {},
   "outputs": [],
   "source": [
    "imputed_data=pd.DataFrame(data=imputed_data, columns=scaled_df_lag_lead.columns, index=scaled_df_lag_lead.index)"
   ]
  },
  {
   "cell_type": "code",
   "execution_count": 29,
   "metadata": {},
   "outputs": [],
   "source": [
    "imputed_scaled_df_lag_lead=imputed_data\n",
    "\n",
    "imputed_scaled_df=imputed_data[scaled_df.drop(columns=['SUBJECT', 'DATE']).columns]"
   ]
  },
  {
   "cell_type": "code",
   "execution_count": 30,
   "metadata": {},
   "outputs": [],
   "source": [
    "imputed_encoded_df=scaler.inverse_transform(imputed_scaled_df)"
   ]
  },
  {
   "cell_type": "code",
   "execution_count": 31,
   "metadata": {},
   "outputs": [],
   "source": [
    "imputed_encoded_df=pd.DataFrame(data=imputed_encoded_df,columns=df.drop(columns=['SUBJECT','DATE']).columns,index=df.index)\n"
   ]
  },
  {
   "cell_type": "code",
   "execution_count": 32,
   "metadata": {},
   "outputs": [],
   "source": [
    "imputed_df=imputed_encoded_df\n",
    "imputed_df[cat_cols]=imputed_df[cat_cols].apply(lambda x: np.rint(x)).astype(np.int64)\n",
    "\n",
    "imputed_df[cat_cols] = imputed_df[cat_cols].apply(lambda x: dic_encoder[x.name].inverse_transform(x))"
   ]
  },
  {
   "cell_type": "code",
   "execution_count": 33,
   "metadata": {},
   "outputs": [],
   "source": [
    "imputed_df['SUBJECT']=df['SUBJECT']\n",
    "imputed_df['DATE']=df['DATE']\n",
    "imputed_df=imputed_df[['SUBJECT', 'DATE'] + target_cols + num_cols + cat_cols]"
   ]
  },
  {
   "cell_type": "markdown",
   "metadata": {},
   "source": [
    "Final imputed dataset:"
   ]
  },
  {
   "cell_type": "code",
   "execution_count": 34,
   "metadata": {},
   "outputs": [
    {
     "data": {
      "text/html": [
       "<div>\n",
       "<style scoped>\n",
       "    .dataframe tbody tr th:only-of-type {\n",
       "        vertical-align: middle;\n",
       "    }\n",
       "\n",
       "    .dataframe tbody tr th {\n",
       "        vertical-align: top;\n",
       "    }\n",
       "\n",
       "    .dataframe thead th {\n",
       "        text-align: right;\n",
       "    }\n",
       "</style>\n",
       "<table border=\"1\" class=\"dataframe\">\n",
       "  <thead>\n",
       "    <tr style=\"text-align: right;\">\n",
       "      <th></th>\n",
       "      <th>SUBJECT</th>\n",
       "      <th>DATE</th>\n",
       "      <th>WB_ny_gdp_mktp_cd</th>\n",
       "      <th>WB_ag_agr_trac_no</th>\n",
       "      <th>WB_ag_lnd_agri_k2</th>\n",
       "      <th>WB_ag_lnd_agri_zs</th>\n",
       "      <th>WB_ag_lnd_arbl_ha</th>\n",
       "      <th>WB_ag_lnd_arbl_ha_pc</th>\n",
       "      <th>WB_ag_lnd_arbl_zs</th>\n",
       "      <th>WB_ag_lnd_crel_ha</th>\n",
       "      <th>...</th>\n",
       "      <th>QG_iaep_cc</th>\n",
       "      <th>QG_iaep_epmf</th>\n",
       "      <th>QG_iaep_es</th>\n",
       "      <th>QG_iaep_osp</th>\n",
       "      <th>QG_iaep_ufs</th>\n",
       "      <th>QG_lp_legor</th>\n",
       "      <th>QG_no_ef</th>\n",
       "      <th>QG_no_ufs</th>\n",
       "      <th>QG_wr_regtype</th>\n",
       "      <th>subject</th>\n",
       "    </tr>\n",
       "  </thead>\n",
       "  <tbody>\n",
       "    <tr>\n",
       "      <th>15302</th>\n",
       "      <td>ZWE</td>\n",
       "      <td>2009</td>\n",
       "      <td>9.665793e+09</td>\n",
       "      <td>194152.655288</td>\n",
       "      <td>163000.000000</td>\n",
       "      <td>42.135195</td>\n",
       "      <td>4.100000e+06</td>\n",
       "      <td>0.327294</td>\n",
       "      <td>10.598423</td>\n",
       "      <td>1.931208e+06</td>\n",
       "      <td>...</td>\n",
       "      <td>Yes</td>\n",
       "      <td>Yes</td>\n",
       "      <td>Plurality (FPP)</td>\n",
       "      <td>No</td>\n",
       "      <td>Unitary system</td>\n",
       "      <td>1. English Common Law</td>\n",
       "      <td>No competative elections</td>\n",
       "      <td>Unitary</td>\n",
       "      <td>Party</td>\n",
       "      <td>ZWE</td>\n",
       "    </tr>\n",
       "    <tr>\n",
       "      <th>15303</th>\n",
       "      <td>ZWE</td>\n",
       "      <td>2010</td>\n",
       "      <td>1.204166e+10</td>\n",
       "      <td>165495.657361</td>\n",
       "      <td>162000.000000</td>\n",
       "      <td>41.876696</td>\n",
       "      <td>4.000000e+06</td>\n",
       "      <td>0.315017</td>\n",
       "      <td>10.339925</td>\n",
       "      <td>1.891899e+06</td>\n",
       "      <td>...</td>\n",
       "      <td>Yes</td>\n",
       "      <td>Yes</td>\n",
       "      <td>Plurality (FPP)</td>\n",
       "      <td>No</td>\n",
       "      <td>Unitary system</td>\n",
       "      <td>1. English Common Law</td>\n",
       "      <td>No competative elections</td>\n",
       "      <td>Unitary</td>\n",
       "      <td>Party</td>\n",
       "      <td>ZWE</td>\n",
       "    </tr>\n",
       "    <tr>\n",
       "      <th>15304</th>\n",
       "      <td>ZWE</td>\n",
       "      <td>2011</td>\n",
       "      <td>1.410192e+10</td>\n",
       "      <td>220429.601260</td>\n",
       "      <td>164000.000000</td>\n",
       "      <td>42.393693</td>\n",
       "      <td>4.200000e+06</td>\n",
       "      <td>0.325725</td>\n",
       "      <td>10.856921</td>\n",
       "      <td>1.995146e+06</td>\n",
       "      <td>...</td>\n",
       "      <td>Yes</td>\n",
       "      <td>Yes</td>\n",
       "      <td>Plurality (FPP)</td>\n",
       "      <td>No</td>\n",
       "      <td>Unitary system</td>\n",
       "      <td>1. English Common Law</td>\n",
       "      <td>No competative elections</td>\n",
       "      <td>Unitary</td>\n",
       "      <td>Party-Military</td>\n",
       "      <td>ZWE</td>\n",
       "    </tr>\n",
       "    <tr>\n",
       "      <th>15305</th>\n",
       "      <td>ZWE</td>\n",
       "      <td>2012</td>\n",
       "      <td>1.711485e+10</td>\n",
       "      <td>184100.773617</td>\n",
       "      <td>162000.000000</td>\n",
       "      <td>41.876696</td>\n",
       "      <td>4.000000e+06</td>\n",
       "      <td>0.304991</td>\n",
       "      <td>10.339925</td>\n",
       "      <td>1.843825e+06</td>\n",
       "      <td>...</td>\n",
       "      <td>Yes</td>\n",
       "      <td>Yes</td>\n",
       "      <td>Plurality (FPP)</td>\n",
       "      <td>No</td>\n",
       "      <td>Unitary system</td>\n",
       "      <td>1. English Common Law</td>\n",
       "      <td>No competative elections</td>\n",
       "      <td>Unitary</td>\n",
       "      <td>Party-Military</td>\n",
       "      <td>ZWE</td>\n",
       "    </tr>\n",
       "    <tr>\n",
       "      <th>15306</th>\n",
       "      <td>ZWE</td>\n",
       "      <td>2013</td>\n",
       "      <td>1.909102e+10</td>\n",
       "      <td>108738.974440</td>\n",
       "      <td>162000.000000</td>\n",
       "      <td>41.876696</td>\n",
       "      <td>4.000000e+06</td>\n",
       "      <td>0.299617</td>\n",
       "      <td>10.339925</td>\n",
       "      <td>1.721417e+06</td>\n",
       "      <td>...</td>\n",
       "      <td>Yes</td>\n",
       "      <td>Yes</td>\n",
       "      <td>N/A - no elected legislature</td>\n",
       "      <td>No</td>\n",
       "      <td>Unitary system</td>\n",
       "      <td>1. English Common Law</td>\n",
       "      <td>No competative elections</td>\n",
       "      <td>Unitary</td>\n",
       "      <td>Party-Military</td>\n",
       "      <td>ZWE</td>\n",
       "    </tr>\n",
       "    <tr>\n",
       "      <th>15307</th>\n",
       "      <td>ZWE</td>\n",
       "      <td>2014</td>\n",
       "      <td>1.949552e+10</td>\n",
       "      <td>90336.066901</td>\n",
       "      <td>162000.000000</td>\n",
       "      <td>41.876696</td>\n",
       "      <td>4.000000e+06</td>\n",
       "      <td>0.294406</td>\n",
       "      <td>10.339925</td>\n",
       "      <td>1.481135e+06</td>\n",
       "      <td>...</td>\n",
       "      <td>Yes</td>\n",
       "      <td>No</td>\n",
       "      <td>N/A - no elected legislature</td>\n",
       "      <td>No</td>\n",
       "      <td>Unitary system</td>\n",
       "      <td>1. English Common Law</td>\n",
       "      <td>No competative elections</td>\n",
       "      <td>Unitary</td>\n",
       "      <td>Party-Military</td>\n",
       "      <td>ZWE</td>\n",
       "    </tr>\n",
       "    <tr>\n",
       "      <th>15308</th>\n",
       "      <td>ZWE</td>\n",
       "      <td>2015</td>\n",
       "      <td>1.996312e+10</td>\n",
       "      <td>94368.946275</td>\n",
       "      <td>162000.000000</td>\n",
       "      <td>41.876696</td>\n",
       "      <td>4.000000e+06</td>\n",
       "      <td>0.289548</td>\n",
       "      <td>10.339925</td>\n",
       "      <td>1.430952e+06</td>\n",
       "      <td>...</td>\n",
       "      <td>Yes</td>\n",
       "      <td>No</td>\n",
       "      <td>N/A - no elected legislature</td>\n",
       "      <td>No</td>\n",
       "      <td>Unitary system</td>\n",
       "      <td>1. English Common Law</td>\n",
       "      <td>No competative elections</td>\n",
       "      <td>Unitary</td>\n",
       "      <td>Party-Military</td>\n",
       "      <td>ZWE</td>\n",
       "    </tr>\n",
       "    <tr>\n",
       "      <th>15309</th>\n",
       "      <td>ZWE</td>\n",
       "      <td>2016</td>\n",
       "      <td>2.054868e+10</td>\n",
       "      <td>90672.694519</td>\n",
       "      <td>162000.000000</td>\n",
       "      <td>41.876696</td>\n",
       "      <td>4.000000e+06</td>\n",
       "      <td>0.285095</td>\n",
       "      <td>10.339925</td>\n",
       "      <td>1.819721e+06</td>\n",
       "      <td>...</td>\n",
       "      <td>Yes</td>\n",
       "      <td>No</td>\n",
       "      <td>N/A - no elected legislature</td>\n",
       "      <td>No</td>\n",
       "      <td>Unitary system</td>\n",
       "      <td>1. English Common Law</td>\n",
       "      <td>No competative elections</td>\n",
       "      <td>Unitary</td>\n",
       "      <td>Party-Military</td>\n",
       "      <td>ZWE</td>\n",
       "    </tr>\n",
       "    <tr>\n",
       "      <th>15310</th>\n",
       "      <td>ZWE</td>\n",
       "      <td>2017</td>\n",
       "      <td>2.281301e+10</td>\n",
       "      <td>36936.945966</td>\n",
       "      <td>415697.640785</td>\n",
       "      <td>40.453549</td>\n",
       "      <td>4.118477e+06</td>\n",
       "      <td>0.251005</td>\n",
       "      <td>11.829784</td>\n",
       "      <td>1.790089e+06</td>\n",
       "      <td>...</td>\n",
       "      <td>Yes</td>\n",
       "      <td>No</td>\n",
       "      <td>N/A - no elected legislature</td>\n",
       "      <td>No</td>\n",
       "      <td>Unitary system</td>\n",
       "      <td>1. English Common Law</td>\n",
       "      <td>No competative elections</td>\n",
       "      <td>Unitary</td>\n",
       "      <td>Party-Military</td>\n",
       "      <td>ZWE</td>\n",
       "    </tr>\n",
       "    <tr>\n",
       "      <th>15311</th>\n",
       "      <td>ZWE</td>\n",
       "      <td>2018</td>\n",
       "      <td>3.100052e+10</td>\n",
       "      <td>35851.765855</td>\n",
       "      <td>431656.184607</td>\n",
       "      <td>38.255788</td>\n",
       "      <td>4.241064e+06</td>\n",
       "      <td>0.236682</td>\n",
       "      <td>12.490485</td>\n",
       "      <td>5.598983e+06</td>\n",
       "      <td>...</td>\n",
       "      <td>No</td>\n",
       "      <td>No</td>\n",
       "      <td>N/A - no elected legislature</td>\n",
       "      <td>No</td>\n",
       "      <td>Unitary system</td>\n",
       "      <td>1. English Common Law</td>\n",
       "      <td>No competative elections</td>\n",
       "      <td>Unitary</td>\n",
       "      <td>Party-Military</td>\n",
       "      <td>ZWE</td>\n",
       "    </tr>\n",
       "  </tbody>\n",
       "</table>\n",
       "<p>10 rows × 1621 columns</p>\n",
       "</div>"
      ],
      "text/plain": [
       "      SUBJECT  DATE  WB_ny_gdp_mktp_cd  WB_ag_agr_trac_no  WB_ag_lnd_agri_k2  \\\n",
       "15302     ZWE  2009       9.665793e+09      194152.655288      163000.000000   \n",
       "15303     ZWE  2010       1.204166e+10      165495.657361      162000.000000   \n",
       "15304     ZWE  2011       1.410192e+10      220429.601260      164000.000000   \n",
       "15305     ZWE  2012       1.711485e+10      184100.773617      162000.000000   \n",
       "15306     ZWE  2013       1.909102e+10      108738.974440      162000.000000   \n",
       "15307     ZWE  2014       1.949552e+10       90336.066901      162000.000000   \n",
       "15308     ZWE  2015       1.996312e+10       94368.946275      162000.000000   \n",
       "15309     ZWE  2016       2.054868e+10       90672.694519      162000.000000   \n",
       "15310     ZWE  2017       2.281301e+10       36936.945966      415697.640785   \n",
       "15311     ZWE  2018       3.100052e+10       35851.765855      431656.184607   \n",
       "\n",
       "       WB_ag_lnd_agri_zs  WB_ag_lnd_arbl_ha  WB_ag_lnd_arbl_ha_pc  \\\n",
       "15302          42.135195       4.100000e+06              0.327294   \n",
       "15303          41.876696       4.000000e+06              0.315017   \n",
       "15304          42.393693       4.200000e+06              0.325725   \n",
       "15305          41.876696       4.000000e+06              0.304991   \n",
       "15306          41.876696       4.000000e+06              0.299617   \n",
       "15307          41.876696       4.000000e+06              0.294406   \n",
       "15308          41.876696       4.000000e+06              0.289548   \n",
       "15309          41.876696       4.000000e+06              0.285095   \n",
       "15310          40.453549       4.118477e+06              0.251005   \n",
       "15311          38.255788       4.241064e+06              0.236682   \n",
       "\n",
       "       WB_ag_lnd_arbl_zs  WB_ag_lnd_crel_ha  ...  QG_iaep_cc  QG_iaep_epmf  \\\n",
       "15302          10.598423       1.931208e+06  ...         Yes           Yes   \n",
       "15303          10.339925       1.891899e+06  ...         Yes           Yes   \n",
       "15304          10.856921       1.995146e+06  ...         Yes           Yes   \n",
       "15305          10.339925       1.843825e+06  ...         Yes           Yes   \n",
       "15306          10.339925       1.721417e+06  ...         Yes           Yes   \n",
       "15307          10.339925       1.481135e+06  ...         Yes            No   \n",
       "15308          10.339925       1.430952e+06  ...         Yes            No   \n",
       "15309          10.339925       1.819721e+06  ...         Yes            No   \n",
       "15310          11.829784       1.790089e+06  ...         Yes            No   \n",
       "15311          12.490485       5.598983e+06  ...          No            No   \n",
       "\n",
       "                         QG_iaep_es  QG_iaep_osp     QG_iaep_ufs  \\\n",
       "15302               Plurality (FPP)           No  Unitary system   \n",
       "15303               Plurality (FPP)           No  Unitary system   \n",
       "15304               Plurality (FPP)           No  Unitary system   \n",
       "15305               Plurality (FPP)           No  Unitary system   \n",
       "15306  N/A - no elected legislature           No  Unitary system   \n",
       "15307  N/A - no elected legislature           No  Unitary system   \n",
       "15308  N/A - no elected legislature           No  Unitary system   \n",
       "15309  N/A - no elected legislature           No  Unitary system   \n",
       "15310  N/A - no elected legislature           No  Unitary system   \n",
       "15311  N/A - no elected legislature           No  Unitary system   \n",
       "\n",
       "                 QG_lp_legor                  QG_no_ef  QG_no_ufs  \\\n",
       "15302  1. English Common Law  No competative elections    Unitary   \n",
       "15303  1. English Common Law  No competative elections    Unitary   \n",
       "15304  1. English Common Law  No competative elections    Unitary   \n",
       "15305  1. English Common Law  No competative elections    Unitary   \n",
       "15306  1. English Common Law  No competative elections    Unitary   \n",
       "15307  1. English Common Law  No competative elections    Unitary   \n",
       "15308  1. English Common Law  No competative elections    Unitary   \n",
       "15309  1. English Common Law  No competative elections    Unitary   \n",
       "15310  1. English Common Law  No competative elections    Unitary   \n",
       "15311  1. English Common Law  No competative elections    Unitary   \n",
       "\n",
       "        QG_wr_regtype  subject  \n",
       "15302           Party      ZWE  \n",
       "15303           Party      ZWE  \n",
       "15304  Party-Military      ZWE  \n",
       "15305  Party-Military      ZWE  \n",
       "15306  Party-Military      ZWE  \n",
       "15307  Party-Military      ZWE  \n",
       "15308  Party-Military      ZWE  \n",
       "15309  Party-Military      ZWE  \n",
       "15310  Party-Military      ZWE  \n",
       "15311  Party-Military      ZWE  \n",
       "\n",
       "[10 rows x 1621 columns]"
      ]
     },
     "execution_count": 34,
     "metadata": {},
     "output_type": "execute_result"
    }
   ],
   "source": [
    "imputed_df.tail(10)"
   ]
  },
  {
   "cell_type": "markdown",
   "metadata": {},
   "source": [
    "# PART2"
   ]
  },
  {
   "cell_type": "markdown",
   "metadata": {},
   "source": [
    "# PREPROCESS"
   ]
  },
  {
   "cell_type": "markdown",
   "metadata": {},
   "source": [
    "We deploy a feature selection then two dimensionality reduction techniques to use in model construction.\n",
    "\n",
    "Having irrelevant features in your data can decrease the accuracy of the models and make your model learn based on irrelevant features.\n",
    "\n",
    "When dealing with high dimensional data, it is often useful to reduce the dimensionality by projecting the data to a lower dimensional subspace which captures the “essence” of the data.\n",
    "\n",
    "We select the best 30 lead indicators according to F-value. (SelectKBest(f_regression, k=30) where target variables shifted by one period.)\n",
    "\n",
    "We utilize the PCA linear dimensionality reduction of the best features to project it to a lower dimensional space.\n",
    "\n",
    "We utilize the UMAP nonlinear dimension reduction technique. It is very similar to t-SNE but is very general non-linear dimension reduction and faster than t-SNE. It can accommodate both local and global properties. \n",
    "\n",
    "There are many different dimensionality reduction algorithms and no single best method for all datasets. Although, PCA tends to find linear correlations between variables, which is sometimes undesirable. We utilize two different technique to cover a lot of ground."
   ]
  },
  {
   "cell_type": "code",
   "execution_count": 573,
   "metadata": {},
   "outputs": [],
   "source": [
    "encoded_df=imputed_df.copy()\n",
    "encoder=LabelEncoder()\n",
    "encoded_df[cat_cols] = encoded_df[cat_cols].apply(lambda x: encoder.fit_transform(x.astype(str)))"
   ]
  },
  {
   "cell_type": "code",
   "execution_count": 574,
   "metadata": {},
   "outputs": [],
   "source": [
    "feat_cols= num_cols + cat_cols\n",
    "\n",
    "scaler=MinMaxScaler()\n",
    "\n",
    "scaled_df = scaler.fit_transform(encoded_df[feat_cols] )"
   ]
  },
  {
   "cell_type": "markdown",
   "metadata": {},
   "source": [
    "Feature Selection"
   ]
  },
  {
   "cell_type": "code",
   "execution_count": 575,
   "metadata": {},
   "outputs": [
    {
     "name": "stderr",
     "output_type": "stream",
     "text": [
      "C:\\Users\\xps-haydo\\anaconda3\\lib\\site-packages\\sklearn\\feature_selection\\_univariate_selection.py:299: RuntimeWarning: invalid value encountered in true_divide\n",
      "  corr /= X_norms\n",
      "C:\\Users\\xps-haydo\\anaconda3\\lib\\site-packages\\sklearn\\feature_selection\\_univariate_selection.py:299: RuntimeWarning: invalid value encountered in true_divide\n",
      "  corr /= X_norms\n"
     ]
    }
   ],
   "source": [
    "X=encoded_df[feat_cols]\n",
    "X_norm = MinMaxScaler().fit_transform(X)\n",
    "\n",
    "encoded_df_lead=encoded_df[['SUBJECT', 'DATE'] + target_cols].set_index('DATE').groupby('SUBJECT').shift(-1).reset_index().ffill()\n",
    "encoded_df_lead['SUBJECT']=encoded_df['SUBJECT']\n",
    "\n",
    "best_5_feat=[]\n",
    "best_feat = []\n",
    "for col in target_cols:\n",
    "    Y=encoded_df_lead[col]\n",
    "    X_best= SelectKBest(f_regression, k=30).fit(X_norm, Y)\n",
    "    mask = X_best.get_support() #list of booleans for selected features\n",
    "    \n",
    "    X_best_5= SelectKBest(f_regression, k=5).fit(X_norm, Y)\n",
    "    mask_best_5 = X_best_5.get_support() #list of booleans for selected features\n",
    "        \n",
    "    for bool, feature in zip(mask, X.columns):\n",
    "        if bool:\n",
    "            if feature not in best_feat:\n",
    "                best_feat.append(feature)\n",
    "\n",
    "                \n",
    "    for bool, feature in zip(mask_best_5, X.columns):\n",
    "        if bool:\n",
    "            if feature not in best_5_feat:\n",
    "                best_5_feat.append(feature)"
   ]
  },
  {
   "cell_type": "markdown",
   "metadata": {},
   "source": [
    "There are the best 5 features. Notice that some of them are representing the same measure in different methods. Dimension reduction takes care of multicollinearity that improves the model performance."
   ]
  },
  {
   "cell_type": "code",
   "execution_count": 576,
   "metadata": {},
   "outputs": [
    {
     "data": {
      "text/html": [
       "<div>\n",
       "<style scoped>\n",
       "    .dataframe tbody tr th:only-of-type {\n",
       "        vertical-align: middle;\n",
       "    }\n",
       "\n",
       "    .dataframe tbody tr th {\n",
       "        vertical-align: top;\n",
       "    }\n",
       "\n",
       "    .dataframe thead th {\n",
       "        text-align: right;\n",
       "    }\n",
       "</style>\n",
       "<table border=\"1\" class=\"dataframe\">\n",
       "  <thead>\n",
       "    <tr style=\"text-align: right;\">\n",
       "      <th></th>\n",
       "      <th>Identifier</th>\n",
       "      <th>Description</th>\n",
       "      <th>Source</th>\n",
       "      <th>Publisher</th>\n",
       "      <th>Year</th>\n",
       "      <th>Topic</th>\n",
       "    </tr>\n",
       "  </thead>\n",
       "  <tbody>\n",
       "    <tr>\n",
       "      <th>187</th>\n",
       "      <td>WB_ne_con_prvt_cd</td>\n",
       "      <td>Households and NPISHs Final consumption expend...</td>\n",
       "      <td>World Development Indicators</td>\n",
       "      <td>The World Bank Group</td>\n",
       "      <td>2018</td>\n",
       "      <td>Economic Growth</td>\n",
       "    </tr>\n",
       "    <tr>\n",
       "      <th>287</th>\n",
       "      <td>WB_ny_adj_nnty_cd</td>\n",
       "      <td>Adjusted net national income (current US$)</td>\n",
       "      <td>World Development Indicators</td>\n",
       "      <td>The World Bank Group</td>\n",
       "      <td>2018</td>\n",
       "      <td>Economic Growth</td>\n",
       "    </tr>\n",
       "    <tr>\n",
       "      <th>302</th>\n",
       "      <td>WB_ny_gdp_fcst_cd</td>\n",
       "      <td>Gross value added at basic prices (GVA) (curre...</td>\n",
       "      <td>World Development Indicators</td>\n",
       "      <td>The World Bank Group</td>\n",
       "      <td>2018</td>\n",
       "      <td>Economic Growth</td>\n",
       "    </tr>\n",
       "    <tr>\n",
       "      <th>325</th>\n",
       "      <td>WB_ny_gnp_atls_cd</td>\n",
       "      <td>GNI, Atlas method (current US$)</td>\n",
       "      <td>World Development Indicators</td>\n",
       "      <td>The World Bank Group</td>\n",
       "      <td>2018</td>\n",
       "      <td>Economic Growth</td>\n",
       "    </tr>\n",
       "    <tr>\n",
       "      <th>326</th>\n",
       "      <td>WB_ny_gnp_mktp_cd</td>\n",
       "      <td>GNI (current US$)</td>\n",
       "      <td>World Development Indicators</td>\n",
       "      <td>The World Bank Group</td>\n",
       "      <td>2018</td>\n",
       "      <td>Economic Growth</td>\n",
       "    </tr>\n",
       "  </tbody>\n",
       "</table>\n",
       "</div>"
      ],
      "text/plain": [
       "            Identifier                                        Description  \\\n",
       "187  WB_ne_con_prvt_cd  Households and NPISHs Final consumption expend...   \n",
       "287  WB_ny_adj_nnty_cd         Adjusted net national income (current US$)   \n",
       "302  WB_ny_gdp_fcst_cd  Gross value added at basic prices (GVA) (curre...   \n",
       "325  WB_ny_gnp_atls_cd                    GNI, Atlas method (current US$)   \n",
       "326  WB_ny_gnp_mktp_cd                                  GNI (current US$)   \n",
       "\n",
       "                           Source             Publisher  Year            Topic  \n",
       "187  World Development Indicators  The World Bank Group  2018  Economic Growth  \n",
       "287  World Development Indicators  The World Bank Group  2018  Economic Growth  \n",
       "302  World Development Indicators  The World Bank Group  2018  Economic Growth  \n",
       "325  World Development Indicators  The World Bank Group  2018  Economic Growth  \n",
       "326  World Development Indicators  The World Bank Group  2018  Economic Growth  "
      ]
     },
     "execution_count": 576,
     "metadata": {},
     "output_type": "execute_result"
    }
   ],
   "source": [
    "feat_info(best_5_feat)"
   ]
  },
  {
   "cell_type": "markdown",
   "metadata": {},
   "source": [
    "Dimensionality Reduction"
   ]
  },
  {
   "cell_type": "code",
   "execution_count": 577,
   "metadata": {},
   "outputs": [],
   "source": [
    "n_components=3\n",
    "scaled_df_best_feat=MinMaxScaler().fit_transform(encoded_df[best_feat])\n",
    "pca_data = PCA(n_components=n_components).fit_transform(scaled_df_best_feat)"
   ]
  },
  {
   "cell_type": "code",
   "execution_count": 578,
   "metadata": {},
   "outputs": [],
   "source": [
    "pca_data=pd.DataFrame(data=pca_data, columns=[('pca%d' % (j)) for j in range(n_components)], index=imputed_df.index)"
   ]
  },
  {
   "cell_type": "code",
   "execution_count": 579,
   "metadata": {},
   "outputs": [
    {
     "data": {
      "text/html": [
       "<div>\n",
       "<style scoped>\n",
       "    .dataframe tbody tr th:only-of-type {\n",
       "        vertical-align: middle;\n",
       "    }\n",
       "\n",
       "    .dataframe tbody tr th {\n",
       "        vertical-align: top;\n",
       "    }\n",
       "\n",
       "    .dataframe thead th {\n",
       "        text-align: right;\n",
       "    }\n",
       "</style>\n",
       "<table border=\"1\" class=\"dataframe\">\n",
       "  <thead>\n",
       "    <tr style=\"text-align: right;\">\n",
       "      <th></th>\n",
       "      <th>pca0</th>\n",
       "      <th>pca1</th>\n",
       "      <th>pca2</th>\n",
       "    </tr>\n",
       "  </thead>\n",
       "  <tbody>\n",
       "    <tr>\n",
       "      <th>0</th>\n",
       "      <td>-0.042787</td>\n",
       "      <td>0.001981</td>\n",
       "      <td>0.000146</td>\n",
       "    </tr>\n",
       "    <tr>\n",
       "      <th>1</th>\n",
       "      <td>-0.045854</td>\n",
       "      <td>0.002245</td>\n",
       "      <td>0.000075</td>\n",
       "    </tr>\n",
       "    <tr>\n",
       "      <th>2</th>\n",
       "      <td>-0.045376</td>\n",
       "      <td>0.002307</td>\n",
       "      <td>0.000096</td>\n",
       "    </tr>\n",
       "    <tr>\n",
       "      <th>3</th>\n",
       "      <td>-0.045516</td>\n",
       "      <td>0.002461</td>\n",
       "      <td>0.000119</td>\n",
       "    </tr>\n",
       "    <tr>\n",
       "      <th>4</th>\n",
       "      <td>-0.044894</td>\n",
       "      <td>0.002401</td>\n",
       "      <td>0.000023</td>\n",
       "    </tr>\n",
       "  </tbody>\n",
       "</table>\n",
       "</div>"
      ],
      "text/plain": [
       "       pca0      pca1      pca2\n",
       "0 -0.042787  0.001981  0.000146\n",
       "1 -0.045854  0.002245  0.000075\n",
       "2 -0.045376  0.002307  0.000096\n",
       "3 -0.045516  0.002461  0.000119\n",
       "4 -0.044894  0.002401  0.000023"
      ]
     },
     "execution_count": 579,
     "metadata": {},
     "output_type": "execute_result"
    }
   ],
   "source": [
    "pca_data.head()"
   ]
  },
  {
   "cell_type": "code",
   "execution_count": 580,
   "metadata": {},
   "outputs": [],
   "source": [
    "n_components=3\n",
    "# scaled_df_best_feat=MinMaxScaler().fit_transform(encoded_df[best_feat])\n",
    "umap_data = umap.UMAP(n_neighbors=10, min_dist=0.3, n_components=n_components).fit_transform(scaled_df_best_feat)"
   ]
  },
  {
   "cell_type": "code",
   "execution_count": 581,
   "metadata": {},
   "outputs": [],
   "source": [
    "umap_data=pd.DataFrame(data=umap_data, columns=[('umap%d' % (j)) for j in range(n_components)], index=imputed_df.index)"
   ]
  },
  {
   "cell_type": "code",
   "execution_count": 582,
   "metadata": {},
   "outputs": [
    {
     "data": {
      "text/html": [
       "<div>\n",
       "<style scoped>\n",
       "    .dataframe tbody tr th:only-of-type {\n",
       "        vertical-align: middle;\n",
       "    }\n",
       "\n",
       "    .dataframe tbody tr th {\n",
       "        vertical-align: top;\n",
       "    }\n",
       "\n",
       "    .dataframe thead th {\n",
       "        text-align: right;\n",
       "    }\n",
       "</style>\n",
       "<table border=\"1\" class=\"dataframe\">\n",
       "  <thead>\n",
       "    <tr style=\"text-align: right;\">\n",
       "      <th></th>\n",
       "      <th>umap0</th>\n",
       "      <th>umap1</th>\n",
       "      <th>umap2</th>\n",
       "    </tr>\n",
       "  </thead>\n",
       "  <tbody>\n",
       "    <tr>\n",
       "      <th>0</th>\n",
       "      <td>7.673544</td>\n",
       "      <td>-3.309184</td>\n",
       "      <td>2.740360</td>\n",
       "    </tr>\n",
       "    <tr>\n",
       "      <th>1</th>\n",
       "      <td>7.584056</td>\n",
       "      <td>-3.149572</td>\n",
       "      <td>2.853826</td>\n",
       "    </tr>\n",
       "    <tr>\n",
       "      <th>2</th>\n",
       "      <td>7.560796</td>\n",
       "      <td>-3.199497</td>\n",
       "      <td>2.810457</td>\n",
       "    </tr>\n",
       "    <tr>\n",
       "      <th>3</th>\n",
       "      <td>7.589560</td>\n",
       "      <td>-3.145691</td>\n",
       "      <td>2.858384</td>\n",
       "    </tr>\n",
       "    <tr>\n",
       "      <th>4</th>\n",
       "      <td>7.580264</td>\n",
       "      <td>-3.185156</td>\n",
       "      <td>2.824124</td>\n",
       "    </tr>\n",
       "  </tbody>\n",
       "</table>\n",
       "</div>"
      ],
      "text/plain": [
       "      umap0     umap1     umap2\n",
       "0  7.673544 -3.309184  2.740360\n",
       "1  7.584056 -3.149572  2.853826\n",
       "2  7.560796 -3.199497  2.810457\n",
       "3  7.589560 -3.145691  2.858384\n",
       "4  7.580264 -3.185156  2.824124"
      ]
     },
     "execution_count": 582,
     "metadata": {},
     "output_type": "execute_result"
    }
   ],
   "source": [
    "umap_data.head()"
   ]
  },
  {
   "cell_type": "code",
   "execution_count": 583,
   "metadata": {},
   "outputs": [],
   "source": [
    "reduced_df=imputed_df[['SUBJECT','DATE']+target_cols+['subject','date']].copy()\n",
    "encoder=LabelEncoder()\n",
    "reduced_df['subject'] = encoder.fit_transform(reduced_df['subject'])"
   ]
  },
  {
   "cell_type": "code",
   "execution_count": 584,
   "metadata": {},
   "outputs": [],
   "source": [
    "add_cols=[('umap%d' % (j)) for j in range(n_components)]\n",
    "reduced_df[add_cols]=umap_data"
   ]
  },
  {
   "cell_type": "code",
   "execution_count": 585,
   "metadata": {},
   "outputs": [],
   "source": [
    "add_cols=[('pca%d' % (j)) for j in range(n_components)]\n",
    "reduced_df[add_cols]=pca_data"
   ]
  },
  {
   "cell_type": "markdown",
   "metadata": {},
   "source": [
    "Dataset after dimension reduction:"
   ]
  },
  {
   "cell_type": "code",
   "execution_count": 589,
   "metadata": {},
   "outputs": [],
   "source": [
    "reduced_df.to_csv('ds5.csv')"
   ]
  },
  {
   "cell_type": "code",
   "execution_count": 590,
   "metadata": {
    "scrolled": true
   },
   "outputs": [
    {
     "data": {
      "text/html": [
       "<div>\n",
       "<style scoped>\n",
       "    .dataframe tbody tr th:only-of-type {\n",
       "        vertical-align: middle;\n",
       "    }\n",
       "\n",
       "    .dataframe tbody tr th {\n",
       "        vertical-align: top;\n",
       "    }\n",
       "\n",
       "    .dataframe thead th {\n",
       "        text-align: right;\n",
       "    }\n",
       "</style>\n",
       "<table border=\"1\" class=\"dataframe\">\n",
       "  <thead>\n",
       "    <tr style=\"text-align: right;\">\n",
       "      <th></th>\n",
       "      <th>SUBJECT</th>\n",
       "      <th>DATE</th>\n",
       "      <th>WB_ny_gdp_mktp_cd</th>\n",
       "      <th>subject</th>\n",
       "      <th>date</th>\n",
       "      <th>umap0</th>\n",
       "      <th>umap1</th>\n",
       "      <th>umap2</th>\n",
       "      <th>pca0</th>\n",
       "      <th>pca1</th>\n",
       "      <th>pca2</th>\n",
       "    </tr>\n",
       "  </thead>\n",
       "  <tbody>\n",
       "    <tr>\n",
       "      <th>0</th>\n",
       "      <td>ABW</td>\n",
       "      <td>1961</td>\n",
       "      <td>5.664328e+11</td>\n",
       "      <td>0</td>\n",
       "      <td>1961.0</td>\n",
       "      <td>7.673544</td>\n",
       "      <td>-3.309184</td>\n",
       "      <td>2.740360</td>\n",
       "      <td>-0.042787</td>\n",
       "      <td>0.001981</td>\n",
       "      <td>0.000146</td>\n",
       "    </tr>\n",
       "    <tr>\n",
       "      <th>1</th>\n",
       "      <td>ABW</td>\n",
       "      <td>1962</td>\n",
       "      <td>3.055660e+11</td>\n",
       "      <td>0</td>\n",
       "      <td>1962.0</td>\n",
       "      <td>7.584056</td>\n",
       "      <td>-3.149572</td>\n",
       "      <td>2.853826</td>\n",
       "      <td>-0.045854</td>\n",
       "      <td>0.002245</td>\n",
       "      <td>0.000075</td>\n",
       "    </tr>\n",
       "    <tr>\n",
       "      <th>2</th>\n",
       "      <td>ABW</td>\n",
       "      <td>1963</td>\n",
       "      <td>3.202148e+11</td>\n",
       "      <td>0</td>\n",
       "      <td>1963.0</td>\n",
       "      <td>7.560796</td>\n",
       "      <td>-3.199497</td>\n",
       "      <td>2.810457</td>\n",
       "      <td>-0.045376</td>\n",
       "      <td>0.002307</td>\n",
       "      <td>0.000096</td>\n",
       "    </tr>\n",
       "    <tr>\n",
       "      <th>3</th>\n",
       "      <td>ABW</td>\n",
       "      <td>1964</td>\n",
       "      <td>3.299147e+11</td>\n",
       "      <td>0</td>\n",
       "      <td>1964.0</td>\n",
       "      <td>7.589560</td>\n",
       "      <td>-3.145691</td>\n",
       "      <td>2.858384</td>\n",
       "      <td>-0.045516</td>\n",
       "      <td>0.002461</td>\n",
       "      <td>0.000119</td>\n",
       "    </tr>\n",
       "    <tr>\n",
       "      <th>4</th>\n",
       "      <td>ABW</td>\n",
       "      <td>1965</td>\n",
       "      <td>3.488399e+11</td>\n",
       "      <td>0</td>\n",
       "      <td>1965.0</td>\n",
       "      <td>7.580264</td>\n",
       "      <td>-3.185156</td>\n",
       "      <td>2.824124</td>\n",
       "      <td>-0.044894</td>\n",
       "      <td>0.002401</td>\n",
       "      <td>0.000023</td>\n",
       "    </tr>\n",
       "  </tbody>\n",
       "</table>\n",
       "</div>"
      ],
      "text/plain": [
       "  SUBJECT  DATE  WB_ny_gdp_mktp_cd  subject    date     umap0     umap1  \\\n",
       "0     ABW  1961       5.664328e+11        0  1961.0  7.673544 -3.309184   \n",
       "1     ABW  1962       3.055660e+11        0  1962.0  7.584056 -3.149572   \n",
       "2     ABW  1963       3.202148e+11        0  1963.0  7.560796 -3.199497   \n",
       "3     ABW  1964       3.299147e+11        0  1964.0  7.589560 -3.145691   \n",
       "4     ABW  1965       3.488399e+11        0  1965.0  7.580264 -3.185156   \n",
       "\n",
       "      umap2      pca0      pca1      pca2  \n",
       "0  2.740360 -0.042787  0.001981  0.000146  \n",
       "1  2.853826 -0.045854  0.002245  0.000075  \n",
       "2  2.810457 -0.045376  0.002307  0.000096  \n",
       "3  2.858384 -0.045516  0.002461  0.000119  \n",
       "4  2.824124 -0.044894  0.002401  0.000023  "
      ]
     },
     "execution_count": 590,
     "metadata": {},
     "output_type": "execute_result"
    }
   ],
   "source": [
    "reduced_df.head()"
   ]
  },
  {
   "cell_type": "markdown",
   "metadata": {},
   "source": [
    "The next step is detecting the possible periodicity in target variables. It would be very beneficial to know this periodicity information for the LSTM model. It would optimize how long data window model needs to feed into LSTM. It finds the highest power periods in the FFT transformation of the target columns."
   ]
  },
  {
   "cell_type": "markdown",
   "metadata": {},
   "source": [
    "Let's find whether there is a meaningful periodicity in the dataset"
   ]
  },
  {
   "cell_type": "code",
   "execution_count": 591,
   "metadata": {
    "scrolled": true
   },
   "outputs": [
    {
     "name": "stderr",
     "output_type": "stream",
     "text": [
      "<ipython-input-591-c93a1f2cd8ba>:3: RuntimeWarning: divide by zero encountered in true_divide\n",
      "  periods = 1 / frequencies\n"
     ]
    },
    {
     "data": {
      "image/png": "[encoded data removed]",
      "text/plain": [
       "<Figure size 360x360 with 1 Axes>"
      ]
     },
     "metadata": {
      "needs_background": "light"
     },
     "output_type": "display_data"
    }
   ],
   "source": [
    "ft_targets = fftpack.fft(reduced_df[target_cols], axis=0)\n",
    "frequencies = fftpack.fftfreq(reduced_df[target_cols].shape[0],1)\n",
    "periods = 1 / frequencies\n",
    "\n",
    "periodicity_find=pd.DataFrame(abs(ft_targets) * 1e-3,columns=target_cols)\n",
    "periodicity_find['periods']=periods\n",
    "\n",
    "plt.figure(figsize=(5,5))\n",
    "\n",
    "\n",
    "plt.plot(periodicity_find['periods'], periodicity_find[target_cols], 'o')\n",
    "plt.xlim(1, 50)\n",
    "plt.xlabel('Period')\n",
    "plt.ylabel('Power ($\\cdot10^3$)')\n",
    "\n",
    "plt.show()"
   ]
  },
  {
   "cell_type": "code",
   "execution_count": 415,
   "metadata": {},
   "outputs": [],
   "source": [
    "# periodicity_find[((periodicity_find['periods']>0) & (periodicity_find['periods']<50))].max()"
   ]
  },
  {
   "cell_type": "code",
   "execution_count": 416,
   "metadata": {
    "scrolled": true
   },
   "outputs": [],
   "source": [
    "# periodicity_find[((periodicity_find['periods']>0) & (periodicity_find['periods']<50))].idxmax()"
   ]
  },
  {
   "cell_type": "code",
   "execution_count": 417,
   "metadata": {},
   "outputs": [],
   "source": [
    "opt_period=np.rint(periodicity_find.loc[528,'periods'])"
   ]
  },
  {
   "cell_type": "code",
   "execution_count": 418,
   "metadata": {},
   "outputs": [],
   "source": [
    "#time constant t_r=0.35*period\n",
    "t_r=opt_period*0.35"
   ]
  },
  {
   "cell_type": "code",
   "execution_count": 419,
   "metadata": {},
   "outputs": [
    {
     "name": "stdout",
     "output_type": "stream",
     "text": [
      "Time constant is equal to 10 (highest period in the power spectrum times 0.35)\n"
     ]
    }
   ],
   "source": [
    "print('Time constant is equal to %d (highest period in the power spectrum times 0.35)' %t_r)"
   ]
  },
  {
   "cell_type": "code",
   "execution_count": 420,
   "metadata": {},
   "outputs": [],
   "source": [
    "window=np.rint(t_r/2).astype(np.int64)"
   ]
  },
  {
   "cell_type": "code",
   "execution_count": 421,
   "metadata": {},
   "outputs": [
    {
     "name": "stdout",
     "output_type": "stream",
     "text": [
      "Optimal window length is 5 (approximately half of the time constant)\n"
     ]
    }
   ],
   "source": [
    "print('Optimal window length is %d (approximately half of the time constant)' %window)"
   ]
  },
  {
   "cell_type": "markdown",
   "metadata": {},
   "source": [
    "# PART 3"
   ]
  },
  {
   "cell_type": "markdown",
   "metadata": {},
   "source": [
    "# First train the model for nontarget subjects (Rest of the World)"
   ]
  },
  {
   "cell_type": "markdown",
   "metadata": {},
   "source": [
    "There are two ways to solve time-series panel data: either loop throughout the model for each country’s data or the countries’ panel data once. If you try both and obtain the RMSE for each way, you can compare the result and choose the best way for your time series panel data."
   ]
  },
  {
   "cell_type": "markdown",
   "metadata": {},
   "source": [
    "Let's first train the LSTM model with Global Dataset"
   ]
  },
  {
   "cell_type": "code",
   "execution_count": 720,
   "metadata": {},
   "outputs": [],
   "source": [
    "#SCALE FEATURES "
   ]
  },
  {
   "cell_type": "code",
   "execution_count": 721,
   "metadata": {},
   "outputs": [],
   "source": [
    "s=MinMaxScaler()\n",
    "Xs=s.fit_transform(reduced_df.drop(columns=['SUBJECT','DATE']))\n",
    "Ys=Xs"
   ]
  },
  {
   "cell_type": "code",
   "execution_count": 722,
   "metadata": {},
   "outputs": [],
   "source": [
    "X=[]\n",
    "Y=[]"
   ]
  },
  {
   "cell_type": "code",
   "execution_count": 723,
   "metadata": {},
   "outputs": [],
   "source": [
    "subject_lists=reduced_df['SUBJECT'].unique().tolist()\n",
    "\n",
    "subject_range_list=[]\n",
    "\n",
    "for subject in subject_lists:\n",
    "    range_subject=reduced_df.index[reduced_df['SUBJECT']==subject].tolist()\n",
    "    \n",
    "    if not subject in target_subjects:\n",
    "        start=range_subject[0]\n",
    "        end=range_subject[-1]\n",
    "        \n",
    "        for i in range(start+window,end+1):\n",
    "            X.append(Xs[i-window:i,:])\n",
    "            Y.append(Ys[i])\n",
    "            subject_range_list.append(i)"
   ]
  },
  {
   "cell_type": "code",
   "execution_count": 724,
   "metadata": {},
   "outputs": [],
   "source": [
    "X, Y =np.array(X), np.array(Y)"
   ]
  },
  {
   "cell_type": "code",
   "execution_count": 725,
   "metadata": {},
   "outputs": [],
   "source": [
    "model = Sequential()\n",
    "\n",
    "model.add(LSTM(units=4*Y.shape[1], activation='gelu',input_shape=(X.shape[1], X.shape[2]), return_sequences=True ))\n",
    "model.add(Dropout(0.2))\n",
    "\n",
    "model.add(LSTM(units=2*Y.shape[1], activation='gelu',return_sequences=False))\n",
    "model.add(Dropout(0.2))\n",
    "\n",
    "model.add(Dense(Y.shape[1]))\n",
    "model.add(Activation(\"linear\"))\n",
    "\n",
    "model.compile(optimizer=\"adam\",\n",
    "              loss='mse',\n",
    "              loss_weights=[1]*len(target_cols) + [0.5]*2 + [0.5]*(Y.shape[1]-len(target_cols)-2)\n",
    "             )"
   ]
  },
  {
   "cell_type": "code",
   "execution_count": 726,
   "metadata": {},
   "outputs": [
    {
     "name": "stdout",
     "output_type": "stream",
     "text": [
      "Runtime for training the model: 86.69 s\n"
     ]
    }
   ],
   "source": [
    "t0=time.time()\n",
    "\n",
    "model.fit(X,Y, \n",
    "          epochs=50, \n",
    "          batch_size=128,  verbose=0, shuffle=False,\n",
    "         )\n",
    "        \n",
    "t1=time.time()\n",
    "print('Runtime for training the model: %.2f s' %(t1-t0))"
   ]
  },
  {
   "cell_type": "markdown",
   "metadata": {},
   "source": [
    "Model loss in each epoch"
   ]
  },
  {
   "cell_type": "code",
   "execution_count": 727,
   "metadata": {
    "scrolled": true
   },
   "outputs": [
    {
     "data": {
      "text/plain": [
       "<AxesSubplot:>"
      ]
     },
     "execution_count": 727,
     "metadata": {},
     "output_type": "execute_result"
    },
    {
     "data": {
      "image/png": "[encoded data removed]",
      "text/plain": [
       "<Figure size 432x288 with 1 Axes>"
      ]
     },
     "metadata": {
      "needs_background": "light"
     },
     "output_type": "display_data"
    }
   ],
   "source": [
    "# plot history\n",
    "model_loss = pd.DataFrame(model.history.history)\n",
    "model_loss.plot()"
   ]
  },
  {
   "cell_type": "markdown",
   "metadata": {},
   "source": [
    "# Model Evaluation (Rest of The World)"
   ]
  },
  {
   "cell_type": "code",
   "execution_count": 629,
   "metadata": {},
   "outputs": [],
   "source": [
    "Y_pred=model.predict(X)\n",
    "Y_pred=s.inverse_transform(Y_pred)\n",
    "Y_pred=pd.DataFrame(Y_pred,index=subject_range_list, columns=reduced_df.drop(columns=['SUBJECT','DATE']).columns)\n",
    "Y_pred['SUBJECT']=reduced_df.loc[subject_range_list]['SUBJECT']\n",
    "Y_pred['DATE']=reduced_df.loc[subject_range_list]['DATE']\n",
    "Y_pred=Y_pred[reduced_df.columns]\n",
    "Y=reduced_df.loc[subject_range_list]"
   ]
  },
  {
   "cell_type": "markdown",
   "metadata": {},
   "source": [
    "How model performed for total for Rest of The World:"
   ]
  },
  {
   "cell_type": "code",
   "execution_count": 631,
   "metadata": {
    "scrolled": true
   },
   "outputs": [
    {
     "data": {
      "image/png": "[encoded data removed]",
      "text/plain": [
       "<Figure size 1440x720 with 1 Axes>"
      ]
     },
     "metadata": {
      "needs_background": "light"
     },
     "output_type": "display_data"
    }
   ],
   "source": [
    "plt.figure(figsize=(20,10))\n",
    "Y_pred.groupby('DATE')[target_cols[0]].sum()[-40:].plot(kind='line',label='prediction',color='red',alpha=1)\n",
    "Y.groupby('DATE')[target_cols[0]].sum()[-40:].plot(kind='line',label='actual value',color='blue',alpha=0.4)\n",
    "plt.xticks(rotation=90,size=20)\n",
    "plt.yticks(size=20)\n",
    "\n",
    "plt.ylabel(target_cols[0],fontsize=20)\n",
    "plt.xlabel('Date',fontsize=20)\n",
    "plt.title('Predicted Values VS Actual Values - REST OF THE WORD ',fontsize=20)\n",
    "plt.legend()\n",
    " "
   ]
  },
  {
   "cell_type": "code",
   "execution_count": 632,
   "metadata": {},
   "outputs": [],
   "source": [
    "def RMSE(actual,prediction):\n",
    "    rmse = np.sqrt(mean_squared_error(actual,prediction))\n",
    "    return rmse"
   ]
  },
  {
   "cell_type": "code",
   "execution_count": 638,
   "metadata": {},
   "outputs": [
    {
     "name": "stdout",
     "output_type": "stream",
     "text": [
      "RMSE is 1075992814248\n"
     ]
    }
   ],
   "source": [
    "print('RMSE is %d' %RMSE(Y[target_cols[0]],Y_pred[target_cols[0]]))"
   ]
  },
  {
   "cell_type": "code",
   "execution_count": 639,
   "metadata": {},
   "outputs": [],
   "source": [
    "#Defining MAPE function\n",
    "def MAPE(actual,prediction):\n",
    "    mape = np.mean(np.abs((actual - prediction)/actual))\n",
    "    return mape"
   ]
  },
  {
   "cell_type": "code",
   "execution_count": 640,
   "metadata": {},
   "outputs": [
    {
     "name": "stdout",
     "output_type": "stream",
     "text": [
      "MAPE is 263\n"
     ]
    }
   ],
   "source": [
    "print('MAPE is %d' %MAPE(Y[target_cols[0]],Y_pred[target_cols[0]]))"
   ]
  },
  {
   "cell_type": "markdown",
   "metadata": {},
   "source": [
    "# BACKTESTING TARGET COUNTRIES"
   ]
  },
  {
   "cell_type": "markdown",
   "metadata": {},
   "source": [
    "LSTM for Target Subjects"
   ]
  },
  {
   "cell_type": "markdown",
   "metadata": {},
   "source": [
    "Train Test Split and Back Testing for Target Countries"
   ]
  },
  {
   "cell_type": "code",
   "execution_count": 641,
   "metadata": {},
   "outputs": [],
   "source": [
    "#create a train test split for given subject\n",
    "def train_test_split(subject, percent=0.8):\n",
    "    X_train=[]\n",
    "    Y_train=[]\n",
    "    X_test=[]\n",
    "    Y_test=[]\n",
    "    \n",
    "    range_subject=reduced_df.index[reduced_df['SUBJECT']==subject].tolist()\n",
    "    subject_test_range_list=[]\n",
    "    \n",
    "    start_train=range_subject[0]\n",
    "    size=int((range_subject[-1]-range_subject[0])*percent)\n",
    "    end_train=range_subject[size]\n",
    "    \n",
    "    for i in range(start_train+window,end_train+1):\n",
    "        X_train.append(Xs[i-window:i,:])\n",
    "        Y_train.append(Ys[i])        \n",
    "\n",
    "    start_test=range_subject[size+1]\n",
    "    end_test=range_subject[-1]\n",
    "    \n",
    "    for i in range(start_test,end_test+1):\n",
    "        X_test.append(Xs[i-window:i,:])\n",
    "        Y_test.append(Ys[i])\n",
    "        subject_test_range_list.append(i) \n",
    "    \n",
    "    X_train,Y_train,X_test,Y_test =np.array(X_train), np.array(Y_train),np.array(X_test), np.array(Y_test)\n",
    "    \n",
    "    return X_train, Y_train, X_test, Y_test, subject_test_range_list"
   ]
  },
  {
   "cell_type": "code",
   "execution_count": 736,
   "metadata": {
    "scrolled": false
   },
   "outputs": [
    {
     "name": "stdout",
     "output_type": "stream",
     "text": [
      "Epoch 00015: early stopping\n",
      "Epoch 00018: early stopping\n"
     ]
    },
    {
     "data": {
      "image/png": "[encoded data removed]",
      "text/plain": [
       "<Figure size 1080x720 with 1 Axes>"
      ]
     },
     "metadata": {
      "needs_background": "light"
     },
     "output_type": "display_data"
    },
    {
     "data": {
      "image/png": "[encoded data removed]",
      "text/plain": [
       "<Figure size 1080x720 with 1 Axes>"
      ]
     },
     "metadata": {
      "needs_background": "light"
     },
     "output_type": "display_data"
    }
   ],
   "source": [
    "# loop through target subjects\n",
    "for i, subject in enumerate(target_subjects):\n",
    "    X_train, Y_train, X_test, Y_test, subject_test_range_list = train_test_split(subject)\n",
    "    \n",
    "    early_stop = EarlyStopping(monitor='val_loss', mode='min', verbose=1, patience=10)\n",
    "    \n",
    "    t0=time.time()\n",
    "    model.fit(X_train,Y_train, \n",
    "              epochs=100, \n",
    "              batch_size=8,  verbose=0, shuffle=False,\n",
    "              validation_data=(X_test, Y_test),\n",
    "              callbacks=[early_stop])\n",
    "    t1=time.time()\n",
    "#     print('Runtime: %.2f s' %(t1-t0))\n",
    "    Y_test_pred=model.predict(X_test)\n",
    "    Y_test_pred=s.inverse_transform(Y_test_pred)\n",
    "    Y_test_pred=pd.DataFrame(Y_test_pred,index=subject_test_range_list, columns=reduced_df.drop(columns=['SUBJECT','DATE']).columns)\n",
    "    Y_test_pred['SUBJECT']=reduced_df.loc[subject_test_range_list]['SUBJECT']\n",
    "    Y_test_pred['DATE']=reduced_df.loc[subject_test_range_list]['DATE']\n",
    "    Y=reduced_df.loc[subject_test_range_list]\n",
    "\n",
    "    \n",
    "    plt.figure(figsize=(15,10))\n",
    "    plt.plot('DATE',target_cols[0], data=Y_test_pred, label='prediction',color='red',alpha=1)\n",
    "    plt.plot('DATE',target_cols[0], data=Y, label='actual values',color='blue',alpha=0.8)\n",
    "    \n",
    "    plt.xticks(rotation=90,size=20)\n",
    "    plt.yticks(size=20)\n",
    "    \n",
    "    \n",
    "    plt.ylabel(target_cols[0],fontsize=20)\n",
    "    plt.xlabel('Date',fontsize=20)\n",
    "    plt.title('Predicted Values VS Actual Values - %s' %(subject),fontsize=20)\n",
    "    plt.legend()\n",
    "    \n",
    "    plt.tight_layout()\n"
   ]
  },
  {
   "cell_type": "markdown",
   "metadata": {},
   "source": [
    "The plot shows the predicted values versus actual values."
   ]
  },
  {
   "cell_type": "markdown",
   "metadata": {},
   "source": [
    "# FORECAST"
   ]
  },
  {
   "cell_type": "markdown",
   "metadata": {},
   "source": [
    "We forecast next 3 periods for each target county."
   ]
  },
  {
   "cell_type": "code",
   "execution_count": 735,
   "metadata": {},
   "outputs": [],
   "source": [
    "#First fit model for test data then create a forcast for next periods\n",
    "\n",
    "for subject in target_subjects:\n",
    "    X_train, Y_train, X_test, Y_test, subject_test_range_list = train_test_split(subject)\n",
    "    \n",
    "    model.fit(X_test,Y_test, \n",
    "              epochs=100, \n",
    "              batch_size=16,  verbose=0, shuffle=False,\n",
    "             ) "
   ]
  },
  {
   "cell_type": "code",
   "execution_count": 85,
   "metadata": {},
   "outputs": [],
   "source": [
    "#Using predicted values to predict next step"
   ]
  },
  {
   "cell_type": "code",
   "execution_count": 553,
   "metadata": {
    "scrolled": true
   },
   "outputs": [
    {
     "data": {
      "image/png": "[encoded data removed]",
      "text/plain": [
       "<Figure size 1080x360 with 1 Axes>"
      ]
     },
     "metadata": {
      "needs_background": "light"
     },
     "output_type": "display_data"
    },
    {
     "data": {
      "image/png": "[encoded data removed]",
      "text/plain": [
       "<Figure size 1080x360 with 1 Axes>"
      ]
     },
     "metadata": {
      "needs_background": "light"
     },
     "output_type": "display_data"
    },
    {
     "data": {
      "image/png": "[encoded data removed]",
      "text/plain": [
       "<Figure size 1080x360 with 1 Axes>"
      ]
     },
     "metadata": {
      "needs_background": "light"
     },
     "output_type": "display_data"
    }
   ],
   "source": [
    "for i, subject in enumerate(target_subjects):\n",
    "    \n",
    "    Yf=[]\n",
    "    range_subject=reduced_df.index[reduced_df['SUBJECT']==subject].tolist()\n",
    "    \n",
    "    start=range_subject[-1]\n",
    "    \n",
    "    X=Xs[start+1-window:start+1,:].copy()\n",
    "    Yf.append(X[-1])\n",
    "    for j in range(window,window+target_periods):\n",
    "        Xin=X[j-window:j].reshape((1,window,-1))\n",
    "        X=np.append(X,model.predict(Xin)).reshape((-1,Xin.shape[2]))\n",
    "        Yf.append(X[-1])\n",
    "    \n",
    "    Yf=s.inverse_transform(Yf)\n",
    "    \n",
    "    Yf=pd.DataFrame(Yf, columns=reduced_df.drop(columns=['SUBJECT','DATE']).columns)\n",
    "    Yf['SUBJECT']=reduced_df.loc[start]['SUBJECT']\n",
    "    Yf['DATE']=range(reduced_df.loc[start]['DATE'],reduced_df.loc[start]['DATE']+1+target_periods)\n",
    "        \n",
    "    fig=plt.figure(figsize=(15,5))\n",
    "    plt.plot('DATE',target_cols[0], data=Yf,label='forecast',color='red',alpha=1,linestyle = '--')\n",
    "\n",
    "    plt.yticks(size=15)\n",
    "    \n",
    "\n",
    "    Xf=reduced_df.loc[range_subject[-5*target_periods:]]\n",
    "    plt.plot('DATE',target_cols[0], data=Xf,label='observed',color='blue',alpha=1)\n",
    "\n",
    "    dates=range(reduced_df.loc[start-5*target_periods+1]['DATE'],reduced_df.loc[start]['DATE']+1+target_periods)\n",
    "    plt.xticks(dates,rotation=90,size=15)\n",
    "    \n",
    "    \n",
    "    plt.ylabel(target_cols[0],fontsize=15)\n",
    "    plt.xlabel('Date',fontsize=15)\n",
    "    plt.title('Forecast - %s' %(subject),fontsize=20)\n",
    "    plt.legend()  \n",
    "    pickle.dump(fig, open(names[i], 'wb'))"
   ]
  }
 ],
 "metadata": {
  "kernelspec": {
   "display_name": "Python 3",
   "language": "python",
   "name": "python3"
  },
  "language_info": {
   "codemirror_mode": {
    "name": "ipython",
    "version": 3
   },
   "file_extension": ".py",
   "mimetype": "text/x-python",
   "name": "python",
   "nbconvert_exporter": "python",
   "pygments_lexer": "ipython3",
   "version": "3.8.5"
  }
 },
 "nbformat": 4,
 "nbformat_minor": 4
}
