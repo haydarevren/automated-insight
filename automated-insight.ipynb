{
 "cells": [
  {
   "cell_type": "markdown",
   "metadata": {},
   "source": [
    "How much of the data processing can be automated? Is it possible to manage all aspects of data analysis with a single click? Our best friends for the decision-making process are the insights from the results. Organizations that have been effective in adopting and evangelizing analytics have set themselves apart from their competitors. However, it is always a huge hassle for small-size companies to use data for a better-informed decision. Hiring a data analyst or scientist might not always be cost effective. The first step toward alleviating the burden is automated data processing. It offers a systematic approach to reviewing, cleaning, transforming, and modeling data to uncover valuable knowledge, make recommendations and help decision-making for further investigation.\n",
    "\n",
    "This project aims to guide enterprise stakeholders in their future business decisions. The users can upload several datasets and choose the target subjects, target variables, and requested prediction interval.\n",
    "\n",
    "It will bring the following for its users:\n",
    "•\tthe predictions for the target subjects and variables,\n",
    "•\tdata insights related to target subjects and target variables,\n",
    "•\ta combined dataset that all missing entries are interpolated.\n",
    "\n",
    "For example, if a shoe store manager knows how many units each brand would sell for the next two months, s(he) can adjust his/her stock accordingly.\n",
    "\n",
    "For the best user experience, it is deployed as a webapp on heroku. One can simply go to https://automated-insight-capstone.herokuapp.com/ to give it a try.\n",
    "\n",
    "I will use the GDP and inflation forecast example to demonstrate how automated data analysis can be done and what values it will bring to the users.\n",
    "\n",
    "Data: \n",
    "I have used 2019 dataset from across 13 publicly available sources. (15312 observations, 3451 variables, 403.2MB memory usage, 196 countries observed for 58 years)\n",
    "1.\tWorld Bank Development Indicators (https://datacatalog.worldbank.org/dataset/world-development-indicators)\n",
    "2.\tPenn World tables (https://www.rug.nl/ggdc/productivity/pwt/?lang=en)\n",
    "3.\tGlobal competitiveness indices (https://govdata360.worldbank.org/indicators/h93b3b7a4)\n",
    "4.\tGlobal competitiveness report (https://www.weforum.org/reports/how-to-end-a-decade-of-lost-productivity-growth)\n",
    "5.\tWorld governance indicators (https://info.worldbank.org/governance/wgi/)\n",
    "6.\tIMF World economic outlook (https://www.imf.org/en/Publications/SPROLLs/world-economic-outlook-databases)\n",
    "7.\tAtlas of Economic complexity (https://atlas.cid.harvard.edu/)\n",
    "8.\tReinhart and Rogoff FX (https://www.ilzetzki.com/irr-data)\n",
    "9.\tBarro-Lee education data (http://www.barrolee.com/)\n",
    "10.\tEnterprise survey (https://www.enterprisesurveys.org/en/enterprisesurveys)\n",
    "11.\tDoing business indicators (DBI) (https://www.doingbusiness.org/en/data)\n",
    "12.\tEconomist intelligence unit (https://country.eiu.com/united-states)\n",
    "13.\tQuality of government (https://www.gu.se/en/quality-government/qog-data)\n",
    "\n",
    "Model:\n",
    "\n",
    "The users will upload the datasets and select their target subjects and variables to predict. They will also choose the prediction interval in the future. The example is a panel (longitudinal) data set. It is multi-dimensional data involving measurements over time. Time-series and cross-sectional data can be considered special cases of panel data in one dimension only. I pick this type of dataset since it is the most common type of data we see in business data analysis. The aim is to both automate all steps and find fast and reliable predictions.\n",
    "\n",
    "I used the combined dataset and built a generic preprocessing step. The aim is to accommodate all types of uncleaned datasets. The dataset in my example has too many missing values. The first step is imputation of missing data.\n",
    "\n",
    "I first encode the categorical columns (leave out the missing values and save encoders as a dictionary). Then I created lag and lead terms for each observation (ensure that lags and leads are coming from the same subject). Then I use Bayesian Ridge iterative imputer (ensure that the estimates for categorical variables do not go outside their bounds). Then, I transform the scaled data to obtain the imputed dataset. This is the first output of the project. The users can use utilize this dataset for past information if they choose to. The next step is creating automated prediction and insight.\n",
    "\n",
    "I used a feature reduction technique to transform high-dimensional non-target columns into a space of fewer dimensions. I utilized the UMAP dimension reduction technique. It is very similar to t-SNE but is very general non-linear dimension reduction and faster than t-SNE. It can accommodate both local and global properties. The next step is detecting the possible periodicity in target variables. It would be very beneficial to know this periodicity information for the LSTM model. It would optimize how long data window model needs to feed into LSTM. It finds the highest power periods in the FFT transformation of the target columns.\n",
    "\n",
    "Long Short-Term Memory (LSTM) recurrent neural networks are an excellent algorithm for time series data that also can easily adapt to multivariate or multiple input forecasting problems. LSTM models require reshaping your dataset to a 3-dimensional object. I fed all these seven variables with found optimal periodicity lag (found from previous FFT spectrum analysis). There are two hidden layers in the model. It takes around 1 minute to train the model and gives a similar result to the baseline model that does not use any feature reduction.\n",
    "\n",
    "The deliverable of this project will be a web app. What it yields and the inputs are listed below.\n",
    "\n",
    "•\tSeveral datasets: uploaded by users\n",
    "•\tTarget subject columns, target subject names, target variables, date columns, prediction interval: selected by user\n",
    "•\tImputed data set: created by the webapp\n",
    "•\tScatter graphs: created using plotly\n",
    "•\tPrediction data set: created by the webapp\n",
    "•\tPerformance of the model in backtesting: created by the model"
   ]
  },
  {
   "cell_type": "code",
   "execution_count": 1,
   "metadata": {},
   "outputs": [],
   "source": [
    "import pandas as pd\n",
    "import numpy as np\n",
    "import matplotlib.pyplot as plt\n",
    "import seaborn as sns\n",
    "\n",
    "from collections import defaultdict\n",
    "from sklearn.preprocessing import LabelEncoder\n",
    "\n",
    "from sklearn.preprocessing import MinMaxScaler\n",
    "\n",
    "from sklearn.experimental import enable_iterative_imputer  # noqa\n",
    "from sklearn.impute import IterativeImputer\n",
    "from sklearn.linear_model import BayesianRidge\n",
    "\n",
    "import umap\n",
    "\n",
    "import tensorflow as tf\n",
    "from tensorflow.keras.models import Sequential\n",
    "from tensorflow.keras.layers import Dense, Activation,Dropout, LSTM, TimeDistributed\n",
    "from tensorflow.keras.callbacks import EarlyStopping\n",
    "import time\n",
    "\n",
    "from scipy import fftpack\n",
    "from sklearn.metrics import mean_squared_error"
   ]
  },
  {
   "cell_type": "code",
   "execution_count": 2,
   "metadata": {},
   "outputs": [
    {
     "name": "stderr",
     "output_type": "stream",
     "text": [
      "C:\\Users\\xps-haydo\\anaconda3\\lib\\site-packages\\IPython\\core\\interactiveshell.py:3146: DtypeWarning: Columns (5,6,1594,1595,1596,1597,1598,3182,3183,3184,3185,3186,3187,3220,3229,3278,3279,3280,3281,3292,3318,3319,3320,3321,3322,3323,3354,3355,3357,3450) have mixed types. Specify dtype option on import or set low_memory=False.\n",
      "  has_raised = await self.run_ast_nodes(code_ast.body, cell_name,\n"
     ]
    }
   ],
   "source": [
    "df = pd.read_csv('data/capstone_dataset.csv')\n",
    "subject_iden_col=['iso']\n",
    "time_iden_cols=['year']\n",
    "\n",
    "target_cols=['WB_ny_gdp_mktp_cd', 'WB_ny_gdp_defl_kd_zg']\n",
    "target_subjects=['USA', 'OED', 'HIC']\n",
    "\n",
    "target_periods=3"
   ]
  },
  {
   "cell_type": "markdown",
   "metadata": {},
   "source": [
    "Data Set (first 10 observations):"
   ]
  },
  {
   "cell_type": "code",
   "execution_count": 3,
   "metadata": {
    "scrolled": true
   },
   "outputs": [
    {
     "data": {
      "text/html": [
       "<div>\n",
       "<style scoped>\n",
       "    .dataframe tbody tr th:only-of-type {\n",
       "        vertical-align: middle;\n",
       "    }\n",
       "\n",
       "    .dataframe tbody tr th {\n",
       "        vertical-align: top;\n",
       "    }\n",
       "\n",
       "    .dataframe thead th {\n",
       "        text-align: right;\n",
       "    }\n",
       "</style>\n",
       "<table border=\"1\" class=\"dataframe\">\n",
       "  <thead>\n",
       "    <tr style=\"text-align: right;\">\n",
       "      <th></th>\n",
       "      <th>iso</th>\n",
       "      <th>countrycode</th>\n",
       "      <th>countryname</th>\n",
       "      <th>year</th>\n",
       "      <th>regionname</th>\n",
       "      <th>adminregion</th>\n",
       "      <th>adminregionname</th>\n",
       "      <th>incomelevel</th>\n",
       "      <th>incomelevelname</th>\n",
       "      <th>lendingtype</th>\n",
       "      <th>...</th>\n",
       "      <th>QG_wdi_unempfilo</th>\n",
       "      <th>QG_wdi_unempilo</th>\n",
       "      <th>QG_wdi_unempmilo</th>\n",
       "      <th>QG_wdi_unempyfilo</th>\n",
       "      <th>QG_wdi_unempyilo</th>\n",
       "      <th>QG_wdi_unempymilo</th>\n",
       "      <th>QG_wdi_wip</th>\n",
       "      <th>QG_who_sanittot</th>\n",
       "      <th>QG_whr_hap</th>\n",
       "      <th>QG_wr_regtype</th>\n",
       "    </tr>\n",
       "  </thead>\n",
       "  <tbody>\n",
       "    <tr>\n",
       "      <th>0</th>\n",
       "      <td>ABW</td>\n",
       "      <td>ABW</td>\n",
       "      <td>Aruba</td>\n",
       "      <td>1961</td>\n",
       "      <td>Latin America and Caribbean</td>\n",
       "      <td>NaN</td>\n",
       "      <td>NaN</td>\n",
       "      <td>HIC</td>\n",
       "      <td>High income</td>\n",
       "      <td>LNX</td>\n",
       "      <td>...</td>\n",
       "      <td>NaN</td>\n",
       "      <td>NaN</td>\n",
       "      <td>NaN</td>\n",
       "      <td>NaN</td>\n",
       "      <td>NaN</td>\n",
       "      <td>NaN</td>\n",
       "      <td>NaN</td>\n",
       "      <td>NaN</td>\n",
       "      <td>NaN</td>\n",
       "      <td>NaN</td>\n",
       "    </tr>\n",
       "    <tr>\n",
       "      <th>1</th>\n",
       "      <td>ABW</td>\n",
       "      <td>ABW</td>\n",
       "      <td>Aruba</td>\n",
       "      <td>1962</td>\n",
       "      <td>Latin America and Caribbean</td>\n",
       "      <td>NaN</td>\n",
       "      <td>NaN</td>\n",
       "      <td>HIC</td>\n",
       "      <td>High income</td>\n",
       "      <td>LNX</td>\n",
       "      <td>...</td>\n",
       "      <td>NaN</td>\n",
       "      <td>NaN</td>\n",
       "      <td>NaN</td>\n",
       "      <td>NaN</td>\n",
       "      <td>NaN</td>\n",
       "      <td>NaN</td>\n",
       "      <td>NaN</td>\n",
       "      <td>NaN</td>\n",
       "      <td>NaN</td>\n",
       "      <td>NaN</td>\n",
       "    </tr>\n",
       "    <tr>\n",
       "      <th>2</th>\n",
       "      <td>ABW</td>\n",
       "      <td>ABW</td>\n",
       "      <td>Aruba</td>\n",
       "      <td>1963</td>\n",
       "      <td>Latin America and Caribbean</td>\n",
       "      <td>NaN</td>\n",
       "      <td>NaN</td>\n",
       "      <td>HIC</td>\n",
       "      <td>High income</td>\n",
       "      <td>LNX</td>\n",
       "      <td>...</td>\n",
       "      <td>NaN</td>\n",
       "      <td>NaN</td>\n",
       "      <td>NaN</td>\n",
       "      <td>NaN</td>\n",
       "      <td>NaN</td>\n",
       "      <td>NaN</td>\n",
       "      <td>NaN</td>\n",
       "      <td>NaN</td>\n",
       "      <td>NaN</td>\n",
       "      <td>NaN</td>\n",
       "    </tr>\n",
       "    <tr>\n",
       "      <th>3</th>\n",
       "      <td>ABW</td>\n",
       "      <td>ABW</td>\n",
       "      <td>Aruba</td>\n",
       "      <td>1964</td>\n",
       "      <td>Latin America and Caribbean</td>\n",
       "      <td>NaN</td>\n",
       "      <td>NaN</td>\n",
       "      <td>HIC</td>\n",
       "      <td>High income</td>\n",
       "      <td>LNX</td>\n",
       "      <td>...</td>\n",
       "      <td>NaN</td>\n",
       "      <td>NaN</td>\n",
       "      <td>NaN</td>\n",
       "      <td>NaN</td>\n",
       "      <td>NaN</td>\n",
       "      <td>NaN</td>\n",
       "      <td>NaN</td>\n",
       "      <td>NaN</td>\n",
       "      <td>NaN</td>\n",
       "      <td>NaN</td>\n",
       "    </tr>\n",
       "    <tr>\n",
       "      <th>4</th>\n",
       "      <td>ABW</td>\n",
       "      <td>ABW</td>\n",
       "      <td>Aruba</td>\n",
       "      <td>1965</td>\n",
       "      <td>Latin America and Caribbean</td>\n",
       "      <td>NaN</td>\n",
       "      <td>NaN</td>\n",
       "      <td>HIC</td>\n",
       "      <td>High income</td>\n",
       "      <td>LNX</td>\n",
       "      <td>...</td>\n",
       "      <td>NaN</td>\n",
       "      <td>NaN</td>\n",
       "      <td>NaN</td>\n",
       "      <td>NaN</td>\n",
       "      <td>NaN</td>\n",
       "      <td>NaN</td>\n",
       "      <td>NaN</td>\n",
       "      <td>NaN</td>\n",
       "      <td>NaN</td>\n",
       "      <td>NaN</td>\n",
       "    </tr>\n",
       "    <tr>\n",
       "      <th>5</th>\n",
       "      <td>ABW</td>\n",
       "      <td>ABW</td>\n",
       "      <td>Aruba</td>\n",
       "      <td>1966</td>\n",
       "      <td>Latin America and Caribbean</td>\n",
       "      <td>NaN</td>\n",
       "      <td>NaN</td>\n",
       "      <td>HIC</td>\n",
       "      <td>High income</td>\n",
       "      <td>LNX</td>\n",
       "      <td>...</td>\n",
       "      <td>NaN</td>\n",
       "      <td>NaN</td>\n",
       "      <td>NaN</td>\n",
       "      <td>NaN</td>\n",
       "      <td>NaN</td>\n",
       "      <td>NaN</td>\n",
       "      <td>NaN</td>\n",
       "      <td>NaN</td>\n",
       "      <td>NaN</td>\n",
       "      <td>NaN</td>\n",
       "    </tr>\n",
       "    <tr>\n",
       "      <th>6</th>\n",
       "      <td>ABW</td>\n",
       "      <td>ABW</td>\n",
       "      <td>Aruba</td>\n",
       "      <td>1967</td>\n",
       "      <td>Latin America and Caribbean</td>\n",
       "      <td>NaN</td>\n",
       "      <td>NaN</td>\n",
       "      <td>HIC</td>\n",
       "      <td>High income</td>\n",
       "      <td>LNX</td>\n",
       "      <td>...</td>\n",
       "      <td>NaN</td>\n",
       "      <td>NaN</td>\n",
       "      <td>NaN</td>\n",
       "      <td>NaN</td>\n",
       "      <td>NaN</td>\n",
       "      <td>NaN</td>\n",
       "      <td>NaN</td>\n",
       "      <td>NaN</td>\n",
       "      <td>NaN</td>\n",
       "      <td>NaN</td>\n",
       "    </tr>\n",
       "    <tr>\n",
       "      <th>7</th>\n",
       "      <td>ABW</td>\n",
       "      <td>ABW</td>\n",
       "      <td>Aruba</td>\n",
       "      <td>1968</td>\n",
       "      <td>Latin America and Caribbean</td>\n",
       "      <td>NaN</td>\n",
       "      <td>NaN</td>\n",
       "      <td>HIC</td>\n",
       "      <td>High income</td>\n",
       "      <td>LNX</td>\n",
       "      <td>...</td>\n",
       "      <td>NaN</td>\n",
       "      <td>NaN</td>\n",
       "      <td>NaN</td>\n",
       "      <td>NaN</td>\n",
       "      <td>NaN</td>\n",
       "      <td>NaN</td>\n",
       "      <td>NaN</td>\n",
       "      <td>NaN</td>\n",
       "      <td>NaN</td>\n",
       "      <td>NaN</td>\n",
       "    </tr>\n",
       "    <tr>\n",
       "      <th>8</th>\n",
       "      <td>ABW</td>\n",
       "      <td>ABW</td>\n",
       "      <td>Aruba</td>\n",
       "      <td>1969</td>\n",
       "      <td>Latin America and Caribbean</td>\n",
       "      <td>NaN</td>\n",
       "      <td>NaN</td>\n",
       "      <td>HIC</td>\n",
       "      <td>High income</td>\n",
       "      <td>LNX</td>\n",
       "      <td>...</td>\n",
       "      <td>NaN</td>\n",
       "      <td>NaN</td>\n",
       "      <td>NaN</td>\n",
       "      <td>NaN</td>\n",
       "      <td>NaN</td>\n",
       "      <td>NaN</td>\n",
       "      <td>NaN</td>\n",
       "      <td>NaN</td>\n",
       "      <td>NaN</td>\n",
       "      <td>NaN</td>\n",
       "    </tr>\n",
       "    <tr>\n",
       "      <th>9</th>\n",
       "      <td>ABW</td>\n",
       "      <td>ABW</td>\n",
       "      <td>Aruba</td>\n",
       "      <td>1970</td>\n",
       "      <td>Latin America and Caribbean</td>\n",
       "      <td>NaN</td>\n",
       "      <td>NaN</td>\n",
       "      <td>HIC</td>\n",
       "      <td>High income</td>\n",
       "      <td>LNX</td>\n",
       "      <td>...</td>\n",
       "      <td>NaN</td>\n",
       "      <td>NaN</td>\n",
       "      <td>NaN</td>\n",
       "      <td>NaN</td>\n",
       "      <td>NaN</td>\n",
       "      <td>NaN</td>\n",
       "      <td>NaN</td>\n",
       "      <td>NaN</td>\n",
       "      <td>NaN</td>\n",
       "      <td>NaN</td>\n",
       "    </tr>\n",
       "  </tbody>\n",
       "</table>\n",
       "<p>10 rows × 3451 columns</p>\n",
       "</div>"
      ],
      "text/plain": [
       "   iso countrycode countryname  year                   regionname adminregion  \\\n",
       "0  ABW         ABW       Aruba  1961  Latin America and Caribbean         NaN   \n",
       "1  ABW         ABW       Aruba  1962  Latin America and Caribbean         NaN   \n",
       "2  ABW         ABW       Aruba  1963  Latin America and Caribbean         NaN   \n",
       "3  ABW         ABW       Aruba  1964  Latin America and Caribbean         NaN   \n",
       "4  ABW         ABW       Aruba  1965  Latin America and Caribbean         NaN   \n",
       "5  ABW         ABW       Aruba  1966  Latin America and Caribbean         NaN   \n",
       "6  ABW         ABW       Aruba  1967  Latin America and Caribbean         NaN   \n",
       "7  ABW         ABW       Aruba  1968  Latin America and Caribbean         NaN   \n",
       "8  ABW         ABW       Aruba  1969  Latin America and Caribbean         NaN   \n",
       "9  ABW         ABW       Aruba  1970  Latin America and Caribbean         NaN   \n",
       "\n",
       "  adminregionname incomelevel incomelevelname lendingtype  ...  \\\n",
       "0             NaN         HIC     High income         LNX  ...   \n",
       "1             NaN         HIC     High income         LNX  ...   \n",
       "2             NaN         HIC     High income         LNX  ...   \n",
       "3             NaN         HIC     High income         LNX  ...   \n",
       "4             NaN         HIC     High income         LNX  ...   \n",
       "5             NaN         HIC     High income         LNX  ...   \n",
       "6             NaN         HIC     High income         LNX  ...   \n",
       "7             NaN         HIC     High income         LNX  ...   \n",
       "8             NaN         HIC     High income         LNX  ...   \n",
       "9             NaN         HIC     High income         LNX  ...   \n",
       "\n",
       "  QG_wdi_unempfilo  QG_wdi_unempilo  QG_wdi_unempmilo  QG_wdi_unempyfilo  \\\n",
       "0              NaN              NaN               NaN                NaN   \n",
       "1              NaN              NaN               NaN                NaN   \n",
       "2              NaN              NaN               NaN                NaN   \n",
       "3              NaN              NaN               NaN                NaN   \n",
       "4              NaN              NaN               NaN                NaN   \n",
       "5              NaN              NaN               NaN                NaN   \n",
       "6              NaN              NaN               NaN                NaN   \n",
       "7              NaN              NaN               NaN                NaN   \n",
       "8              NaN              NaN               NaN                NaN   \n",
       "9              NaN              NaN               NaN                NaN   \n",
       "\n",
       "   QG_wdi_unempyilo  QG_wdi_unempymilo  QG_wdi_wip  QG_who_sanittot  \\\n",
       "0               NaN                NaN         NaN              NaN   \n",
       "1               NaN                NaN         NaN              NaN   \n",
       "2               NaN                NaN         NaN              NaN   \n",
       "3               NaN                NaN         NaN              NaN   \n",
       "4               NaN                NaN         NaN              NaN   \n",
       "5               NaN                NaN         NaN              NaN   \n",
       "6               NaN                NaN         NaN              NaN   \n",
       "7               NaN                NaN         NaN              NaN   \n",
       "8               NaN                NaN         NaN              NaN   \n",
       "9               NaN                NaN         NaN              NaN   \n",
       "\n",
       "   QG_whr_hap  QG_wr_regtype  \n",
       "0         NaN            NaN  \n",
       "1         NaN            NaN  \n",
       "2         NaN            NaN  \n",
       "3         NaN            NaN  \n",
       "4         NaN            NaN  \n",
       "5         NaN            NaN  \n",
       "6         NaN            NaN  \n",
       "7         NaN            NaN  \n",
       "8         NaN            NaN  \n",
       "9         NaN            NaN  \n",
       "\n",
       "[10 rows x 3451 columns]"
      ]
     },
     "execution_count": 3,
     "metadata": {},
     "output_type": "execute_result"
    }
   ],
   "source": [
    "df.head(10)"
   ]
  },
  {
   "cell_type": "markdown",
   "metadata": {},
   "source": [
    "Information about dataset:"
   ]
  },
  {
   "cell_type": "code",
   "execution_count": 4,
   "metadata": {},
   "outputs": [
    {
     "name": "stdout",
     "output_type": "stream",
     "text": [
      "<class 'pandas.core.frame.DataFrame'>\n",
      "RangeIndex: 15312 entries, 0 to 15311\n",
      "Columns: 3451 entries, iso to QG_wr_regtype\n",
      "dtypes: float64(3398), int64(1), object(52)\n",
      "memory usage: 403.2+ MB\n"
     ]
    }
   ],
   "source": [
    "df.info()"
   ]
  },
  {
   "cell_type": "code",
   "execution_count": 5,
   "metadata": {},
   "outputs": [
    {
     "name": "stdout",
     "output_type": "stream",
     "text": [
      "Target subjects are : ['USA', 'OED', 'HIC', 'IND']\n"
     ]
    }
   ],
   "source": [
    "print('Target subjects are : %s' %(target_subjects))"
   ]
  },
  {
   "cell_type": "code",
   "execution_count": 6,
   "metadata": {},
   "outputs": [
    {
     "name": "stdout",
     "output_type": "stream",
     "text": [
      "Forecast for next 3 periods.\n"
     ]
    }
   ],
   "source": [
    "print('Forecast for next %d periods.' %(target_periods))"
   ]
  },
  {
   "cell_type": "code",
   "execution_count": 7,
   "metadata": {},
   "outputs": [],
   "source": [
    "data_info = pd.read_csv('data/features_dictionary.csv')"
   ]
  },
  {
   "cell_type": "code",
   "execution_count": 8,
   "metadata": {},
   "outputs": [],
   "source": [
    "def feat_info(cols: list) :\n",
    "    return data_info[data_info['Identifier'].isin(cols)]"
   ]
  },
  {
   "cell_type": "markdown",
   "metadata": {},
   "source": [
    "Target Columns:"
   ]
  },
  {
   "cell_type": "code",
   "execution_count": 9,
   "metadata": {},
   "outputs": [
    {
     "data": {
      "text/html": [
       "<div>\n",
       "<style scoped>\n",
       "    .dataframe tbody tr th:only-of-type {\n",
       "        vertical-align: middle;\n",
       "    }\n",
       "\n",
       "    .dataframe tbody tr th {\n",
       "        vertical-align: top;\n",
       "    }\n",
       "\n",
       "    .dataframe thead th {\n",
       "        text-align: right;\n",
       "    }\n",
       "</style>\n",
       "<table border=\"1\" class=\"dataframe\">\n",
       "  <thead>\n",
       "    <tr style=\"text-align: right;\">\n",
       "      <th></th>\n",
       "      <th>Identifier</th>\n",
       "      <th>Description</th>\n",
       "      <th>Source</th>\n",
       "      <th>Publisher</th>\n",
       "      <th>Year</th>\n",
       "      <th>Topic</th>\n",
       "    </tr>\n",
       "  </thead>\n",
       "  <tbody>\n",
       "    <tr>\n",
       "      <th>298</th>\n",
       "      <td>WB_ny_gdp_defl_kd_zg</td>\n",
       "      <td>Inflation, GDP deflator (annual %)</td>\n",
       "      <td>World Development Indicators</td>\n",
       "      <td>The World Bank Group</td>\n",
       "      <td>2018</td>\n",
       "      <td>Economic Growth</td>\n",
       "    </tr>\n",
       "    <tr>\n",
       "      <th>306</th>\n",
       "      <td>WB_ny_gdp_mktp_cd</td>\n",
       "      <td>GDP (current US$)</td>\n",
       "      <td>World Development Indicators</td>\n",
       "      <td>The World Bank Group</td>\n",
       "      <td>2018</td>\n",
       "      <td>Economic Growth</td>\n",
       "    </tr>\n",
       "  </tbody>\n",
       "</table>\n",
       "</div>"
      ],
      "text/plain": [
       "               Identifier                         Description  \\\n",
       "298  WB_ny_gdp_defl_kd_zg  Inflation, GDP deflator (annual %)   \n",
       "306     WB_ny_gdp_mktp_cd                   GDP (current US$)   \n",
       "\n",
       "                           Source             Publisher  Year            Topic  \n",
       "298  World Development Indicators  The World Bank Group  2018  Economic Growth  \n",
       "306  World Development Indicators  The World Bank Group  2018  Economic Growth  "
      ]
     },
     "execution_count": 9,
     "metadata": {},
     "output_type": "execute_result"
    }
   ],
   "source": [
    "feat_info(target_cols)"
   ]
  },
  {
   "cell_type": "markdown",
   "metadata": {},
   "source": [
    "Taget values (last 5 observation):"
   ]
  },
  {
   "cell_type": "code",
   "execution_count": 10,
   "metadata": {},
   "outputs": [
    {
     "data": {
      "text/html": [
       "<div>\n",
       "<style scoped>\n",
       "    .dataframe tbody tr th:only-of-type {\n",
       "        vertical-align: middle;\n",
       "    }\n",
       "\n",
       "    .dataframe tbody tr th {\n",
       "        vertical-align: top;\n",
       "    }\n",
       "\n",
       "    .dataframe thead th {\n",
       "        text-align: right;\n",
       "    }\n",
       "</style>\n",
       "<table border=\"1\" class=\"dataframe\">\n",
       "  <thead>\n",
       "    <tr style=\"text-align: right;\">\n",
       "      <th></th>\n",
       "      <th>iso</th>\n",
       "      <th>year</th>\n",
       "      <th>WB_ny_gdp_mktp_cd</th>\n",
       "      <th>WB_ny_gdp_defl_kd_zg</th>\n",
       "    </tr>\n",
       "  </thead>\n",
       "  <tbody>\n",
       "    <tr>\n",
       "      <th>15307</th>\n",
       "      <td>ZWE</td>\n",
       "      <td>2014</td>\n",
       "      <td>1.949552e+10</td>\n",
       "      <td>-0.252141</td>\n",
       "    </tr>\n",
       "    <tr>\n",
       "      <th>15308</th>\n",
       "      <td>ZWE</td>\n",
       "      <td>2015</td>\n",
       "      <td>1.996312e+10</td>\n",
       "      <td>0.607814</td>\n",
       "    </tr>\n",
       "    <tr>\n",
       "      <th>15309</th>\n",
       "      <td>ZWE</td>\n",
       "      <td>2016</td>\n",
       "      <td>2.054868e+10</td>\n",
       "      <td>2.160993</td>\n",
       "    </tr>\n",
       "    <tr>\n",
       "      <th>15310</th>\n",
       "      <td>ZWE</td>\n",
       "      <td>2017</td>\n",
       "      <td>2.281301e+10</td>\n",
       "      <td>6.031593</td>\n",
       "    </tr>\n",
       "    <tr>\n",
       "      <th>15311</th>\n",
       "      <td>ZWE</td>\n",
       "      <td>2018</td>\n",
       "      <td>3.100052e+10</td>\n",
       "      <td>28.005545</td>\n",
       "    </tr>\n",
       "  </tbody>\n",
       "</table>\n",
       "</div>"
      ],
      "text/plain": [
       "       iso  year  WB_ny_gdp_mktp_cd  WB_ny_gdp_defl_kd_zg\n",
       "15307  ZWE  2014       1.949552e+10             -0.252141\n",
       "15308  ZWE  2015       1.996312e+10              0.607814\n",
       "15309  ZWE  2016       2.054868e+10              2.160993\n",
       "15310  ZWE  2017       2.281301e+10              6.031593\n",
       "15311  ZWE  2018       3.100052e+10             28.005545"
      ]
     },
     "execution_count": 10,
     "metadata": {},
     "output_type": "execute_result"
    }
   ],
   "source": [
    "df[subject_iden_col+time_iden_cols+target_cols].tail()"
   ]
  },
  {
   "cell_type": "code",
   "execution_count": 11,
   "metadata": {},
   "outputs": [],
   "source": [
    "high_missing_cols =list(df.columns[(df.isna().sum()/len(df))>0.8]) #columns that more than 80% off entries missing \n",
    "\n",
    "df=df.drop(columns=high_missing_cols)"
   ]
  },
  {
   "cell_type": "code",
   "execution_count": 12,
   "metadata": {},
   "outputs": [],
   "source": [
    "df['subject']=df[subject_iden_col]\n",
    "df=df.drop(columns=subject_iden_col)\n",
    "\n",
    "df['date'] =df[time_iden_cols]\n",
    "df=df.drop(columns=time_iden_cols)\n",
    "\n",
    "df['SUBJECT']=df['subject']\n",
    "df['DATE']=df['date']"
   ]
  },
  {
   "cell_type": "code",
   "execution_count": 13,
   "metadata": {
    "scrolled": false
   },
   "outputs": [],
   "source": [
    "cat_cols=list(df.drop(['SUBJECT'],axis=1).select_dtypes(exclude=[np.float,np.int64]).columns)\n",
    "num_cols=list(df.drop(['DATE']+target_cols,axis=1).select_dtypes(include=[np.float,np.int64]).columns)\n",
    "\n",
    "df=df[['SUBJECT', 'DATE'] + target_cols + num_cols + cat_cols]"
   ]
  },
  {
   "cell_type": "markdown",
   "metadata": {},
   "source": [
    "Before imputation dataset looks like:"
   ]
  },
  {
   "cell_type": "code",
   "execution_count": 14,
   "metadata": {},
   "outputs": [
    {
     "data": {
      "text/html": [
       "<div>\n",
       "<style scoped>\n",
       "    .dataframe tbody tr th:only-of-type {\n",
       "        vertical-align: middle;\n",
       "    }\n",
       "\n",
       "    .dataframe tbody tr th {\n",
       "        vertical-align: top;\n",
       "    }\n",
       "\n",
       "    .dataframe thead th {\n",
       "        text-align: right;\n",
       "    }\n",
       "</style>\n",
       "<table border=\"1\" class=\"dataframe\">\n",
       "  <thead>\n",
       "    <tr style=\"text-align: right;\">\n",
       "      <th></th>\n",
       "      <th>SUBJECT</th>\n",
       "      <th>DATE</th>\n",
       "      <th>WB_ny_gdp_mktp_cd</th>\n",
       "      <th>WB_ny_gdp_defl_kd_zg</th>\n",
       "      <th>WB_ag_agr_trac_no</th>\n",
       "      <th>WB_ag_lnd_agri_k2</th>\n",
       "      <th>WB_ag_lnd_agri_zs</th>\n",
       "      <th>WB_ag_lnd_arbl_ha</th>\n",
       "      <th>WB_ag_lnd_arbl_ha_pc</th>\n",
       "      <th>WB_ag_lnd_arbl_zs</th>\n",
       "      <th>...</th>\n",
       "      <th>QG_iaep_cc</th>\n",
       "      <th>QG_iaep_epmf</th>\n",
       "      <th>QG_iaep_es</th>\n",
       "      <th>QG_iaep_osp</th>\n",
       "      <th>QG_iaep_ufs</th>\n",
       "      <th>QG_lp_legor</th>\n",
       "      <th>QG_no_ef</th>\n",
       "      <th>QG_no_ufs</th>\n",
       "      <th>QG_wr_regtype</th>\n",
       "      <th>subject</th>\n",
       "    </tr>\n",
       "  </thead>\n",
       "  <tbody>\n",
       "    <tr>\n",
       "      <th>15302</th>\n",
       "      <td>ZWE</td>\n",
       "      <td>2009</td>\n",
       "      <td>9.665793e+09</td>\n",
       "      <td>95.408660</td>\n",
       "      <td>NaN</td>\n",
       "      <td>163000.0</td>\n",
       "      <td>42.135195</td>\n",
       "      <td>4100000.0</td>\n",
       "      <td>0.327294</td>\n",
       "      <td>10.598423</td>\n",
       "      <td>...</td>\n",
       "      <td>Yes</td>\n",
       "      <td>Yes</td>\n",
       "      <td>Plurality (FPP)</td>\n",
       "      <td>No</td>\n",
       "      <td>Unitary system</td>\n",
       "      <td>1. English Common Law</td>\n",
       "      <td>NaN</td>\n",
       "      <td>NaN</td>\n",
       "      <td>Party</td>\n",
       "      <td>ZWE</td>\n",
       "    </tr>\n",
       "    <tr>\n",
       "      <th>15303</th>\n",
       "      <td>ZWE</td>\n",
       "      <td>2010</td>\n",
       "      <td>1.204166e+10</td>\n",
       "      <td>4.098405</td>\n",
       "      <td>NaN</td>\n",
       "      <td>162000.0</td>\n",
       "      <td>41.876696</td>\n",
       "      <td>4000000.0</td>\n",
       "      <td>0.315017</td>\n",
       "      <td>10.339925</td>\n",
       "      <td>...</td>\n",
       "      <td>Yes</td>\n",
       "      <td>Yes</td>\n",
       "      <td>Plurality (FPP)</td>\n",
       "      <td>No</td>\n",
       "      <td>Unitary system</td>\n",
       "      <td>1. English Common Law</td>\n",
       "      <td>NaN</td>\n",
       "      <td>NaN</td>\n",
       "      <td>Party</td>\n",
       "      <td>ZWE</td>\n",
       "    </tr>\n",
       "    <tr>\n",
       "      <th>15304</th>\n",
       "      <td>ZWE</td>\n",
       "      <td>2011</td>\n",
       "      <td>1.410192e+10</td>\n",
       "      <td>2.553176</td>\n",
       "      <td>NaN</td>\n",
       "      <td>164000.0</td>\n",
       "      <td>42.393693</td>\n",
       "      <td>4200000.0</td>\n",
       "      <td>0.325725</td>\n",
       "      <td>10.856921</td>\n",
       "      <td>...</td>\n",
       "      <td>Yes</td>\n",
       "      <td>Yes</td>\n",
       "      <td>Plurality (FPP)</td>\n",
       "      <td>No</td>\n",
       "      <td>Unitary system</td>\n",
       "      <td>1. English Common Law</td>\n",
       "      <td>NaN</td>\n",
       "      <td>NaN</td>\n",
       "      <td>NaN</td>\n",
       "      <td>ZWE</td>\n",
       "    </tr>\n",
       "    <tr>\n",
       "      <th>15305</th>\n",
       "      <td>ZWE</td>\n",
       "      <td>2012</td>\n",
       "      <td>1.711485e+10</td>\n",
       "      <td>4.028577</td>\n",
       "      <td>NaN</td>\n",
       "      <td>162000.0</td>\n",
       "      <td>41.876696</td>\n",
       "      <td>4000000.0</td>\n",
       "      <td>0.304991</td>\n",
       "      <td>10.339925</td>\n",
       "      <td>...</td>\n",
       "      <td>Yes</td>\n",
       "      <td>Yes</td>\n",
       "      <td>Plurality (FPP)</td>\n",
       "      <td>No</td>\n",
       "      <td>Unitary system</td>\n",
       "      <td>1. English Common Law</td>\n",
       "      <td>NaN</td>\n",
       "      <td>NaN</td>\n",
       "      <td>NaN</td>\n",
       "      <td>ZWE</td>\n",
       "    </tr>\n",
       "    <tr>\n",
       "      <th>15306</th>\n",
       "      <td>ZWE</td>\n",
       "      <td>2013</td>\n",
       "      <td>1.909102e+10</td>\n",
       "      <td>9.370603</td>\n",
       "      <td>NaN</td>\n",
       "      <td>162000.0</td>\n",
       "      <td>41.876696</td>\n",
       "      <td>4000000.0</td>\n",
       "      <td>0.299617</td>\n",
       "      <td>10.339925</td>\n",
       "      <td>...</td>\n",
       "      <td>NaN</td>\n",
       "      <td>NaN</td>\n",
       "      <td>NaN</td>\n",
       "      <td>NaN</td>\n",
       "      <td>NaN</td>\n",
       "      <td>1. English Common Law</td>\n",
       "      <td>NaN</td>\n",
       "      <td>NaN</td>\n",
       "      <td>NaN</td>\n",
       "      <td>ZWE</td>\n",
       "    </tr>\n",
       "    <tr>\n",
       "      <th>15307</th>\n",
       "      <td>ZWE</td>\n",
       "      <td>2014</td>\n",
       "      <td>1.949552e+10</td>\n",
       "      <td>-0.252141</td>\n",
       "      <td>NaN</td>\n",
       "      <td>162000.0</td>\n",
       "      <td>41.876696</td>\n",
       "      <td>4000000.0</td>\n",
       "      <td>0.294406</td>\n",
       "      <td>10.339925</td>\n",
       "      <td>...</td>\n",
       "      <td>NaN</td>\n",
       "      <td>NaN</td>\n",
       "      <td>NaN</td>\n",
       "      <td>NaN</td>\n",
       "      <td>NaN</td>\n",
       "      <td>1. English Common Law</td>\n",
       "      <td>NaN</td>\n",
       "      <td>NaN</td>\n",
       "      <td>NaN</td>\n",
       "      <td>ZWE</td>\n",
       "    </tr>\n",
       "    <tr>\n",
       "      <th>15308</th>\n",
       "      <td>ZWE</td>\n",
       "      <td>2015</td>\n",
       "      <td>1.996312e+10</td>\n",
       "      <td>0.607814</td>\n",
       "      <td>NaN</td>\n",
       "      <td>162000.0</td>\n",
       "      <td>41.876696</td>\n",
       "      <td>4000000.0</td>\n",
       "      <td>0.289548</td>\n",
       "      <td>10.339925</td>\n",
       "      <td>...</td>\n",
       "      <td>NaN</td>\n",
       "      <td>NaN</td>\n",
       "      <td>NaN</td>\n",
       "      <td>NaN</td>\n",
       "      <td>NaN</td>\n",
       "      <td>1. English Common Law</td>\n",
       "      <td>NaN</td>\n",
       "      <td>NaN</td>\n",
       "      <td>NaN</td>\n",
       "      <td>ZWE</td>\n",
       "    </tr>\n",
       "    <tr>\n",
       "      <th>15309</th>\n",
       "      <td>ZWE</td>\n",
       "      <td>2016</td>\n",
       "      <td>2.054868e+10</td>\n",
       "      <td>2.160993</td>\n",
       "      <td>NaN</td>\n",
       "      <td>162000.0</td>\n",
       "      <td>41.876696</td>\n",
       "      <td>4000000.0</td>\n",
       "      <td>0.285095</td>\n",
       "      <td>10.339925</td>\n",
       "      <td>...</td>\n",
       "      <td>NaN</td>\n",
       "      <td>NaN</td>\n",
       "      <td>NaN</td>\n",
       "      <td>NaN</td>\n",
       "      <td>NaN</td>\n",
       "      <td>1. English Common Law</td>\n",
       "      <td>NaN</td>\n",
       "      <td>NaN</td>\n",
       "      <td>NaN</td>\n",
       "      <td>ZWE</td>\n",
       "    </tr>\n",
       "    <tr>\n",
       "      <th>15310</th>\n",
       "      <td>ZWE</td>\n",
       "      <td>2017</td>\n",
       "      <td>2.281301e+10</td>\n",
       "      <td>6.031593</td>\n",
       "      <td>NaN</td>\n",
       "      <td>NaN</td>\n",
       "      <td>NaN</td>\n",
       "      <td>NaN</td>\n",
       "      <td>NaN</td>\n",
       "      <td>NaN</td>\n",
       "      <td>...</td>\n",
       "      <td>NaN</td>\n",
       "      <td>NaN</td>\n",
       "      <td>NaN</td>\n",
       "      <td>NaN</td>\n",
       "      <td>NaN</td>\n",
       "      <td>1. English Common Law</td>\n",
       "      <td>NaN</td>\n",
       "      <td>NaN</td>\n",
       "      <td>NaN</td>\n",
       "      <td>ZWE</td>\n",
       "    </tr>\n",
       "    <tr>\n",
       "      <th>15311</th>\n",
       "      <td>ZWE</td>\n",
       "      <td>2018</td>\n",
       "      <td>3.100052e+10</td>\n",
       "      <td>28.005545</td>\n",
       "      <td>NaN</td>\n",
       "      <td>NaN</td>\n",
       "      <td>NaN</td>\n",
       "      <td>NaN</td>\n",
       "      <td>NaN</td>\n",
       "      <td>NaN</td>\n",
       "      <td>...</td>\n",
       "      <td>NaN</td>\n",
       "      <td>NaN</td>\n",
       "      <td>NaN</td>\n",
       "      <td>NaN</td>\n",
       "      <td>NaN</td>\n",
       "      <td>1. English Common Law</td>\n",
       "      <td>NaN</td>\n",
       "      <td>NaN</td>\n",
       "      <td>NaN</td>\n",
       "      <td>ZWE</td>\n",
       "    </tr>\n",
       "  </tbody>\n",
       "</table>\n",
       "<p>10 rows × 1621 columns</p>\n",
       "</div>"
      ],
      "text/plain": [
       "      SUBJECT  DATE  WB_ny_gdp_mktp_cd  WB_ny_gdp_defl_kd_zg  \\\n",
       "15302     ZWE  2009       9.665793e+09             95.408660   \n",
       "15303     ZWE  2010       1.204166e+10              4.098405   \n",
       "15304     ZWE  2011       1.410192e+10              2.553176   \n",
       "15305     ZWE  2012       1.711485e+10              4.028577   \n",
       "15306     ZWE  2013       1.909102e+10              9.370603   \n",
       "15307     ZWE  2014       1.949552e+10             -0.252141   \n",
       "15308     ZWE  2015       1.996312e+10              0.607814   \n",
       "15309     ZWE  2016       2.054868e+10              2.160993   \n",
       "15310     ZWE  2017       2.281301e+10              6.031593   \n",
       "15311     ZWE  2018       3.100052e+10             28.005545   \n",
       "\n",
       "       WB_ag_agr_trac_no  WB_ag_lnd_agri_k2  WB_ag_lnd_agri_zs  \\\n",
       "15302                NaN           163000.0          42.135195   \n",
       "15303                NaN           162000.0          41.876696   \n",
       "15304                NaN           164000.0          42.393693   \n",
       "15305                NaN           162000.0          41.876696   \n",
       "15306                NaN           162000.0          41.876696   \n",
       "15307                NaN           162000.0          41.876696   \n",
       "15308                NaN           162000.0          41.876696   \n",
       "15309                NaN           162000.0          41.876696   \n",
       "15310                NaN                NaN                NaN   \n",
       "15311                NaN                NaN                NaN   \n",
       "\n",
       "       WB_ag_lnd_arbl_ha  WB_ag_lnd_arbl_ha_pc  WB_ag_lnd_arbl_zs  ...  \\\n",
       "15302          4100000.0              0.327294          10.598423  ...   \n",
       "15303          4000000.0              0.315017          10.339925  ...   \n",
       "15304          4200000.0              0.325725          10.856921  ...   \n",
       "15305          4000000.0              0.304991          10.339925  ...   \n",
       "15306          4000000.0              0.299617          10.339925  ...   \n",
       "15307          4000000.0              0.294406          10.339925  ...   \n",
       "15308          4000000.0              0.289548          10.339925  ...   \n",
       "15309          4000000.0              0.285095          10.339925  ...   \n",
       "15310                NaN                   NaN                NaN  ...   \n",
       "15311                NaN                   NaN                NaN  ...   \n",
       "\n",
       "       QG_iaep_cc  QG_iaep_epmf       QG_iaep_es  QG_iaep_osp     QG_iaep_ufs  \\\n",
       "15302         Yes           Yes  Plurality (FPP)           No  Unitary system   \n",
       "15303         Yes           Yes  Plurality (FPP)           No  Unitary system   \n",
       "15304         Yes           Yes  Plurality (FPP)           No  Unitary system   \n",
       "15305         Yes           Yes  Plurality (FPP)           No  Unitary system   \n",
       "15306         NaN           NaN              NaN          NaN             NaN   \n",
       "15307         NaN           NaN              NaN          NaN             NaN   \n",
       "15308         NaN           NaN              NaN          NaN             NaN   \n",
       "15309         NaN           NaN              NaN          NaN             NaN   \n",
       "15310         NaN           NaN              NaN          NaN             NaN   \n",
       "15311         NaN           NaN              NaN          NaN             NaN   \n",
       "\n",
       "                 QG_lp_legor  QG_no_ef  QG_no_ufs  QG_wr_regtype  subject  \n",
       "15302  1. English Common Law       NaN        NaN          Party      ZWE  \n",
       "15303  1. English Common Law       NaN        NaN          Party      ZWE  \n",
       "15304  1. English Common Law       NaN        NaN            NaN      ZWE  \n",
       "15305  1. English Common Law       NaN        NaN            NaN      ZWE  \n",
       "15306  1. English Common Law       NaN        NaN            NaN      ZWE  \n",
       "15307  1. English Common Law       NaN        NaN            NaN      ZWE  \n",
       "15308  1. English Common Law       NaN        NaN            NaN      ZWE  \n",
       "15309  1. English Common Law       NaN        NaN            NaN      ZWE  \n",
       "15310  1. English Common Law       NaN        NaN            NaN      ZWE  \n",
       "15311  1. English Common Law       NaN        NaN            NaN      ZWE  \n",
       "\n",
       "[10 rows x 1621 columns]"
      ]
     },
     "execution_count": 14,
     "metadata": {},
     "output_type": "execute_result"
    }
   ],
   "source": [
    "df.tail(10)"
   ]
  },
  {
   "cell_type": "markdown",
   "metadata": {},
   "source": [
    "# PART 1"
   ]
  },
  {
   "cell_type": "markdown",
   "metadata": {},
   "source": [
    "# IMPUTATION"
   ]
  },
  {
   "cell_type": "markdown",
   "metadata": {},
   "source": [
    "Let's fill the missing values. We first encode the categorical values, then scale the dataset. We use the information from previous and later period and 3 nearest features to fill the missing values by Bayesian Ridge Imputer."
   ]
  },
  {
   "cell_type": "code",
   "execution_count": 15,
   "metadata": {},
   "outputs": [],
   "source": [
    "encoded_data=df.copy()\n",
    "mask = df.isnull()"
   ]
  },
  {
   "cell_type": "code",
   "execution_count": 16,
   "metadata": {},
   "outputs": [],
   "source": [
    "dic_encoder = defaultdict(LabelEncoder)\n",
    "\n",
    "# Encoding the variable\n",
    "encoded_data[cat_cols] = encoded_data[cat_cols].apply(lambda x: dic_encoder[x.name].fit_transform(x.astype(str)))\n",
    "\n",
    "encoded_data=encoded_data.where(~mask, df)"
   ]
  },
  {
   "cell_type": "code",
   "execution_count": 17,
   "metadata": {},
   "outputs": [],
   "source": [
    "# normalized the data \n",
    "scaler = MinMaxScaler(feature_range=(0,1))\n",
    "scaled_df = scaler.fit_transform(encoded_data.drop(columns=['SUBJECT','DATE']))"
   ]
  },
  {
   "cell_type": "code",
   "execution_count": 18,
   "metadata": {},
   "outputs": [],
   "source": [
    "# create datefrane fir scaled data\n",
    "scaled_df=pd.DataFrame(data=scaled_df,columns=encoded_data.drop(['SUBJECT','DATE'],axis=1).columns,index=encoded_data.index)\n",
    "\n",
    "scaled_df[['SUBJECT','DATE']]=encoded_data[['SUBJECT','DATE']]\n",
    "scaled_df=scaled_df[['SUBJECT', 'DATE'] + target_cols + num_cols + cat_cols]"
   ]
  },
  {
   "cell_type": "code",
   "execution_count": 19,
   "metadata": {},
   "outputs": [],
   "source": [
    "def gen_lag_lead(data, n_in=1, n_out=0, dropnan=True): #t-n_in, ... t-1, t, t+1,...,t+n_out\n",
    "    agg=data\n",
    "    n_vars = data.shape[1]-2\n",
    "    \n",
    "    for i in range(n_in, 0, -1):# input sequence (t-n_in, ... t-1)\n",
    "        a=scaled_df.set_index('DATE').groupby('SUBJECT').shift(i).reset_index()\n",
    "        a=a.drop(columns='DATE') #drop DATE column\n",
    "        a.columns=[('var%d(t-%d)' % (j, i)) for j in range(n_vars)] #name columns var0(t-i),var1(t-i),..\n",
    "        agg=pd.concat([agg,a],axis=1)\n",
    "    \n",
    "    \n",
    "    for i in range(1,n_out+1):# input sequence (t-n_in, ... t-1)\n",
    "        a=scaled_df.set_index('DATE').groupby('SUBJECT').shift(-i).reset_index()\n",
    "        a=a.drop(columns='DATE') #drop DATE column\n",
    "        a.columns=[('var%d(t+%d)' % (j, i)) for j in range(n_vars)] #name columns var0(t-i),var1(t-i),..\n",
    "        agg=pd.concat([agg,a],axis=1)\n",
    "        \n",
    "    # drop rows with NaN values\n",
    "    if dropnan:\n",
    "        agg.dropna(inplace=True)\n",
    "        \n",
    "    return agg"
   ]
  },
  {
   "cell_type": "code",
   "execution_count": 20,
   "metadata": {},
   "outputs": [],
   "source": [
    "scaled_df_lag_lead=gen_lag_lead(scaled_df,n_in=1,n_out=1,dropnan=False).drop(columns=['SUBJECT', 'DATE'])"
   ]
  },
  {
   "cell_type": "code",
   "execution_count": 21,
   "metadata": {},
   "outputs": [
    {
     "name": "stderr",
     "output_type": "stream",
     "text": [
      "C:\\Users\\xps-haydo\\anaconda3\\lib\\site-packages\\sklearn\\impute\\_iterative.py:637: ConvergenceWarning: [IterativeImputer] Early stopping criterion not reached.\n",
      "  warnings.warn(\"[IterativeImputer] Early stopping criterion not\"\n"
     ]
    }
   ],
   "source": [
    "imputer = IterativeImputer(BayesianRidge(),n_nearest_features=3,tol=0.01,verbose=0,min_value=-0.001,max_value=1.001)\n",
    "imputed_data=imputer.fit_transform(scaled_df_lag_lead)"
   ]
  },
  {
   "cell_type": "code",
   "execution_count": 22,
   "metadata": {},
   "outputs": [],
   "source": [
    "imputed_data=pd.DataFrame(data=imputed_data, columns=scaled_df_lag_lead.columns, index=scaled_df_lag_lead.index)"
   ]
  },
  {
   "cell_type": "code",
   "execution_count": 23,
   "metadata": {},
   "outputs": [],
   "source": [
    "imputed_scaled_df_lag_lead=imputed_data\n",
    "\n",
    "imputed_scaled_df=imputed_data[scaled_df.drop(columns=['SUBJECT', 'DATE']).columns]\n"
   ]
  },
  {
   "cell_type": "code",
   "execution_count": 24,
   "metadata": {},
   "outputs": [],
   "source": [
    "imputed_encoded_df=scaler.inverse_transform(imputed_scaled_df)"
   ]
  },
  {
   "cell_type": "code",
   "execution_count": 25,
   "metadata": {},
   "outputs": [],
   "source": [
    "imputed_encoded_df=pd.DataFrame(data=imputed_encoded_df,columns=df.drop(columns=['SUBJECT','DATE']).columns,index=df.index)\n"
   ]
  },
  {
   "cell_type": "code",
   "execution_count": 26,
   "metadata": {},
   "outputs": [],
   "source": [
    "imputed_df=imputed_encoded_df\n",
    "imputed_df[cat_cols]=imputed_df[cat_cols].apply(lambda x: np.rint(x)).astype(np.int64)\n",
    "\n",
    "imputed_df[cat_cols] = imputed_df[cat_cols].apply(lambda x: dic_encoder[x.name].inverse_transform(x))"
   ]
  },
  {
   "cell_type": "code",
   "execution_count": 27,
   "metadata": {},
   "outputs": [],
   "source": [
    "imputed_df['SUBJECT']=df['SUBJECT']\n",
    "imputed_df['DATE']=df['DATE']\n",
    "imputed_df=imputed_df[['SUBJECT', 'DATE'] + target_cols + num_cols + cat_cols]"
   ]
  },
  {
   "cell_type": "markdown",
   "metadata": {},
   "source": [
    "Final imputed dataset:"
   ]
  },
  {
   "cell_type": "code",
   "execution_count": 28,
   "metadata": {},
   "outputs": [
    {
     "data": {
      "text/html": [
       "<div>\n",
       "<style scoped>\n",
       "    .dataframe tbody tr th:only-of-type {\n",
       "        vertical-align: middle;\n",
       "    }\n",
       "\n",
       "    .dataframe tbody tr th {\n",
       "        vertical-align: top;\n",
       "    }\n",
       "\n",
       "    .dataframe thead th {\n",
       "        text-align: right;\n",
       "    }\n",
       "</style>\n",
       "<table border=\"1\" class=\"dataframe\">\n",
       "  <thead>\n",
       "    <tr style=\"text-align: right;\">\n",
       "      <th></th>\n",
       "      <th>SUBJECT</th>\n",
       "      <th>DATE</th>\n",
       "      <th>WB_ny_gdp_mktp_cd</th>\n",
       "      <th>WB_ny_gdp_defl_kd_zg</th>\n",
       "      <th>WB_ag_agr_trac_no</th>\n",
       "      <th>WB_ag_lnd_agri_k2</th>\n",
       "      <th>WB_ag_lnd_agri_zs</th>\n",
       "      <th>WB_ag_lnd_arbl_ha</th>\n",
       "      <th>WB_ag_lnd_arbl_ha_pc</th>\n",
       "      <th>WB_ag_lnd_arbl_zs</th>\n",
       "      <th>...</th>\n",
       "      <th>QG_iaep_cc</th>\n",
       "      <th>QG_iaep_epmf</th>\n",
       "      <th>QG_iaep_es</th>\n",
       "      <th>QG_iaep_osp</th>\n",
       "      <th>QG_iaep_ufs</th>\n",
       "      <th>QG_lp_legor</th>\n",
       "      <th>QG_no_ef</th>\n",
       "      <th>QG_no_ufs</th>\n",
       "      <th>QG_wr_regtype</th>\n",
       "      <th>subject</th>\n",
       "    </tr>\n",
       "  </thead>\n",
       "  <tbody>\n",
       "    <tr>\n",
       "      <th>15302</th>\n",
       "      <td>ZWE</td>\n",
       "      <td>2009</td>\n",
       "      <td>9.665793e+09</td>\n",
       "      <td>95.408660</td>\n",
       "      <td>54226.097271</td>\n",
       "      <td>163000.000000</td>\n",
       "      <td>42.135195</td>\n",
       "      <td>4.100000e+06</td>\n",
       "      <td>0.327294</td>\n",
       "      <td>10.598423</td>\n",
       "      <td>...</td>\n",
       "      <td>Yes</td>\n",
       "      <td>Yes</td>\n",
       "      <td>Plurality (FPP)</td>\n",
       "      <td>No</td>\n",
       "      <td>Unitary system</td>\n",
       "      <td>1. English Common Law</td>\n",
       "      <td>No competative elections</td>\n",
       "      <td>Unitary</td>\n",
       "      <td>Party</td>\n",
       "      <td>ZWE</td>\n",
       "    </tr>\n",
       "    <tr>\n",
       "      <th>15303</th>\n",
       "      <td>ZWE</td>\n",
       "      <td>2010</td>\n",
       "      <td>1.204166e+10</td>\n",
       "      <td>4.098405</td>\n",
       "      <td>84913.140184</td>\n",
       "      <td>162000.000000</td>\n",
       "      <td>41.876696</td>\n",
       "      <td>4.000000e+06</td>\n",
       "      <td>0.315017</td>\n",
       "      <td>10.339925</td>\n",
       "      <td>...</td>\n",
       "      <td>Yes</td>\n",
       "      <td>Yes</td>\n",
       "      <td>Plurality (FPP)</td>\n",
       "      <td>No</td>\n",
       "      <td>Unitary system</td>\n",
       "      <td>1. English Common Law</td>\n",
       "      <td>No competative elections</td>\n",
       "      <td>Unitary</td>\n",
       "      <td>Party</td>\n",
       "      <td>ZWE</td>\n",
       "    </tr>\n",
       "    <tr>\n",
       "      <th>15304</th>\n",
       "      <td>ZWE</td>\n",
       "      <td>2011</td>\n",
       "      <td>1.410192e+10</td>\n",
       "      <td>2.553176</td>\n",
       "      <td>98067.232036</td>\n",
       "      <td>164000.000000</td>\n",
       "      <td>42.393693</td>\n",
       "      <td>4.200000e+06</td>\n",
       "      <td>0.325725</td>\n",
       "      <td>10.856921</td>\n",
       "      <td>...</td>\n",
       "      <td>Yes</td>\n",
       "      <td>Yes</td>\n",
       "      <td>Plurality (FPP)</td>\n",
       "      <td>No</td>\n",
       "      <td>Unitary system</td>\n",
       "      <td>1. English Common Law</td>\n",
       "      <td>No competative elections</td>\n",
       "      <td>Unitary</td>\n",
       "      <td>Party-Military</td>\n",
       "      <td>ZWE</td>\n",
       "    </tr>\n",
       "    <tr>\n",
       "      <th>15305</th>\n",
       "      <td>ZWE</td>\n",
       "      <td>2012</td>\n",
       "      <td>1.711485e+10</td>\n",
       "      <td>4.028577</td>\n",
       "      <td>88643.761438</td>\n",
       "      <td>162000.000000</td>\n",
       "      <td>41.876696</td>\n",
       "      <td>4.000000e+06</td>\n",
       "      <td>0.304991</td>\n",
       "      <td>10.339925</td>\n",
       "      <td>...</td>\n",
       "      <td>Yes</td>\n",
       "      <td>Yes</td>\n",
       "      <td>Plurality (FPP)</td>\n",
       "      <td>No</td>\n",
       "      <td>Unitary system</td>\n",
       "      <td>1. English Common Law</td>\n",
       "      <td>No competative elections</td>\n",
       "      <td>Unitary</td>\n",
       "      <td>Party-Military</td>\n",
       "      <td>ZWE</td>\n",
       "    </tr>\n",
       "    <tr>\n",
       "      <th>15306</th>\n",
       "      <td>ZWE</td>\n",
       "      <td>2013</td>\n",
       "      <td>1.909102e+10</td>\n",
       "      <td>9.370603</td>\n",
       "      <td>82092.840801</td>\n",
       "      <td>162000.000000</td>\n",
       "      <td>41.876696</td>\n",
       "      <td>4.000000e+06</td>\n",
       "      <td>0.299617</td>\n",
       "      <td>10.339925</td>\n",
       "      <td>...</td>\n",
       "      <td>Yes</td>\n",
       "      <td>Yes</td>\n",
       "      <td>N/A - no elected legislature</td>\n",
       "      <td>No</td>\n",
       "      <td>Unitary system</td>\n",
       "      <td>1. English Common Law</td>\n",
       "      <td>No competative elections</td>\n",
       "      <td>Unitary</td>\n",
       "      <td>Party-Military</td>\n",
       "      <td>ZWE</td>\n",
       "    </tr>\n",
       "    <tr>\n",
       "      <th>15307</th>\n",
       "      <td>ZWE</td>\n",
       "      <td>2014</td>\n",
       "      <td>1.949552e+10</td>\n",
       "      <td>-0.252141</td>\n",
       "      <td>90416.884189</td>\n",
       "      <td>162000.000000</td>\n",
       "      <td>41.876696</td>\n",
       "      <td>4.000000e+06</td>\n",
       "      <td>0.294406</td>\n",
       "      <td>10.339925</td>\n",
       "      <td>...</td>\n",
       "      <td>Yes</td>\n",
       "      <td>No</td>\n",
       "      <td>N/A - no elected legislature</td>\n",
       "      <td>No</td>\n",
       "      <td>Unitary system</td>\n",
       "      <td>1. English Common Law</td>\n",
       "      <td>No competative elections</td>\n",
       "      <td>Unitary</td>\n",
       "      <td>Party-Military</td>\n",
       "      <td>ZWE</td>\n",
       "    </tr>\n",
       "    <tr>\n",
       "      <th>15308</th>\n",
       "      <td>ZWE</td>\n",
       "      <td>2015</td>\n",
       "      <td>1.996312e+10</td>\n",
       "      <td>0.607814</td>\n",
       "      <td>80377.145711</td>\n",
       "      <td>162000.000000</td>\n",
       "      <td>41.876696</td>\n",
       "      <td>4.000000e+06</td>\n",
       "      <td>0.289548</td>\n",
       "      <td>10.339925</td>\n",
       "      <td>...</td>\n",
       "      <td>Yes</td>\n",
       "      <td>No</td>\n",
       "      <td>N/A - no elected legislature</td>\n",
       "      <td>No</td>\n",
       "      <td>Unitary system</td>\n",
       "      <td>1. English Common Law</td>\n",
       "      <td>No competative elections</td>\n",
       "      <td>Unitary</td>\n",
       "      <td>Party-Military</td>\n",
       "      <td>ZWE</td>\n",
       "    </tr>\n",
       "    <tr>\n",
       "      <th>15309</th>\n",
       "      <td>ZWE</td>\n",
       "      <td>2016</td>\n",
       "      <td>2.054868e+10</td>\n",
       "      <td>2.160993</td>\n",
       "      <td>71813.501004</td>\n",
       "      <td>162000.000000</td>\n",
       "      <td>41.876696</td>\n",
       "      <td>4.000000e+06</td>\n",
       "      <td>0.285095</td>\n",
       "      <td>10.339925</td>\n",
       "      <td>...</td>\n",
       "      <td>Yes</td>\n",
       "      <td>No</td>\n",
       "      <td>N/A - no elected legislature</td>\n",
       "      <td>No</td>\n",
       "      <td>Unitary system</td>\n",
       "      <td>1. English Common Law</td>\n",
       "      <td>No competative elections</td>\n",
       "      <td>Unitary</td>\n",
       "      <td>Party-Military</td>\n",
       "      <td>ZWE</td>\n",
       "    </tr>\n",
       "    <tr>\n",
       "      <th>15310</th>\n",
       "      <td>ZWE</td>\n",
       "      <td>2017</td>\n",
       "      <td>2.281301e+10</td>\n",
       "      <td>6.031593</td>\n",
       "      <td>15502.978487</td>\n",
       "      <td>441729.246618</td>\n",
       "      <td>42.216761</td>\n",
       "      <td>8.015503e+06</td>\n",
       "      <td>0.334283</td>\n",
       "      <td>14.956018</td>\n",
       "      <td>...</td>\n",
       "      <td>Yes</td>\n",
       "      <td>No</td>\n",
       "      <td>N/A - no elected legislature</td>\n",
       "      <td>No</td>\n",
       "      <td>Unitary system</td>\n",
       "      <td>1. English Common Law</td>\n",
       "      <td>No competative elections</td>\n",
       "      <td>Unitary</td>\n",
       "      <td>Party-Military</td>\n",
       "      <td>ZWE</td>\n",
       "    </tr>\n",
       "    <tr>\n",
       "      <th>15311</th>\n",
       "      <td>ZWE</td>\n",
       "      <td>2018</td>\n",
       "      <td>3.100052e+10</td>\n",
       "      <td>28.005545</td>\n",
       "      <td>78531.810652</td>\n",
       "      <td>547141.949296</td>\n",
       "      <td>37.459998</td>\n",
       "      <td>7.137705e+06</td>\n",
       "      <td>0.258592</td>\n",
       "      <td>14.766989</td>\n",
       "      <td>...</td>\n",
       "      <td>Yes</td>\n",
       "      <td>Yes</td>\n",
       "      <td>N/A - no elected legislature</td>\n",
       "      <td>No</td>\n",
       "      <td>Missing information</td>\n",
       "      <td>1. English Common Law</td>\n",
       "      <td>No competative elections</td>\n",
       "      <td>Unitary</td>\n",
       "      <td>Party-Military</td>\n",
       "      <td>ZWE</td>\n",
       "    </tr>\n",
       "  </tbody>\n",
       "</table>\n",
       "<p>10 rows × 1621 columns</p>\n",
       "</div>"
      ],
      "text/plain": [
       "      SUBJECT  DATE  WB_ny_gdp_mktp_cd  WB_ny_gdp_defl_kd_zg  \\\n",
       "15302     ZWE  2009       9.665793e+09             95.408660   \n",
       "15303     ZWE  2010       1.204166e+10              4.098405   \n",
       "15304     ZWE  2011       1.410192e+10              2.553176   \n",
       "15305     ZWE  2012       1.711485e+10              4.028577   \n",
       "15306     ZWE  2013       1.909102e+10              9.370603   \n",
       "15307     ZWE  2014       1.949552e+10             -0.252141   \n",
       "15308     ZWE  2015       1.996312e+10              0.607814   \n",
       "15309     ZWE  2016       2.054868e+10              2.160993   \n",
       "15310     ZWE  2017       2.281301e+10              6.031593   \n",
       "15311     ZWE  2018       3.100052e+10             28.005545   \n",
       "\n",
       "       WB_ag_agr_trac_no  WB_ag_lnd_agri_k2  WB_ag_lnd_agri_zs  \\\n",
       "15302       54226.097271      163000.000000          42.135195   \n",
       "15303       84913.140184      162000.000000          41.876696   \n",
       "15304       98067.232036      164000.000000          42.393693   \n",
       "15305       88643.761438      162000.000000          41.876696   \n",
       "15306       82092.840801      162000.000000          41.876696   \n",
       "15307       90416.884189      162000.000000          41.876696   \n",
       "15308       80377.145711      162000.000000          41.876696   \n",
       "15309       71813.501004      162000.000000          41.876696   \n",
       "15310       15502.978487      441729.246618          42.216761   \n",
       "15311       78531.810652      547141.949296          37.459998   \n",
       "\n",
       "       WB_ag_lnd_arbl_ha  WB_ag_lnd_arbl_ha_pc  WB_ag_lnd_arbl_zs  ...  \\\n",
       "15302       4.100000e+06              0.327294          10.598423  ...   \n",
       "15303       4.000000e+06              0.315017          10.339925  ...   \n",
       "15304       4.200000e+06              0.325725          10.856921  ...   \n",
       "15305       4.000000e+06              0.304991          10.339925  ...   \n",
       "15306       4.000000e+06              0.299617          10.339925  ...   \n",
       "15307       4.000000e+06              0.294406          10.339925  ...   \n",
       "15308       4.000000e+06              0.289548          10.339925  ...   \n",
       "15309       4.000000e+06              0.285095          10.339925  ...   \n",
       "15310       8.015503e+06              0.334283          14.956018  ...   \n",
       "15311       7.137705e+06              0.258592          14.766989  ...   \n",
       "\n",
       "       QG_iaep_cc  QG_iaep_epmf                    QG_iaep_es  QG_iaep_osp  \\\n",
       "15302         Yes           Yes               Plurality (FPP)           No   \n",
       "15303         Yes           Yes               Plurality (FPP)           No   \n",
       "15304         Yes           Yes               Plurality (FPP)           No   \n",
       "15305         Yes           Yes               Plurality (FPP)           No   \n",
       "15306         Yes           Yes  N/A - no elected legislature           No   \n",
       "15307         Yes            No  N/A - no elected legislature           No   \n",
       "15308         Yes            No  N/A - no elected legislature           No   \n",
       "15309         Yes            No  N/A - no elected legislature           No   \n",
       "15310         Yes            No  N/A - no elected legislature           No   \n",
       "15311         Yes           Yes  N/A - no elected legislature           No   \n",
       "\n",
       "               QG_iaep_ufs            QG_lp_legor                  QG_no_ef  \\\n",
       "15302       Unitary system  1. English Common Law  No competative elections   \n",
       "15303       Unitary system  1. English Common Law  No competative elections   \n",
       "15304       Unitary system  1. English Common Law  No competative elections   \n",
       "15305       Unitary system  1. English Common Law  No competative elections   \n",
       "15306       Unitary system  1. English Common Law  No competative elections   \n",
       "15307       Unitary system  1. English Common Law  No competative elections   \n",
       "15308       Unitary system  1. English Common Law  No competative elections   \n",
       "15309       Unitary system  1. English Common Law  No competative elections   \n",
       "15310       Unitary system  1. English Common Law  No competative elections   \n",
       "15311  Missing information  1. English Common Law  No competative elections   \n",
       "\n",
       "       QG_no_ufs   QG_wr_regtype  subject  \n",
       "15302    Unitary           Party      ZWE  \n",
       "15303    Unitary           Party      ZWE  \n",
       "15304    Unitary  Party-Military      ZWE  \n",
       "15305    Unitary  Party-Military      ZWE  \n",
       "15306    Unitary  Party-Military      ZWE  \n",
       "15307    Unitary  Party-Military      ZWE  \n",
       "15308    Unitary  Party-Military      ZWE  \n",
       "15309    Unitary  Party-Military      ZWE  \n",
       "15310    Unitary  Party-Military      ZWE  \n",
       "15311    Unitary  Party-Military      ZWE  \n",
       "\n",
       "[10 rows x 1621 columns]"
      ]
     },
     "execution_count": 28,
     "metadata": {},
     "output_type": "execute_result"
    }
   ],
   "source": [
    "imputed_df.tail(10)"
   ]
  },
  {
   "cell_type": "markdown",
   "metadata": {},
   "source": [
    "# PART2"
   ]
  },
  {
   "cell_type": "markdown",
   "metadata": {},
   "source": [
    "# PREPROCESS"
   ]
  },
  {
   "cell_type": "markdown",
   "metadata": {},
   "source": [
    "We use a feature reduction technique to transform high-dimensional non-target columns into a space of fewer dimensions. I utilized the UMAP dimension reduction technique. It is very similar to t-SNE but is very general non-linear dimension reduction and faster than t-SNE. It can accommodate both local and global properties. The next step is detecting the possible periodicity in target variables. It would be very beneficial to know this periodicity information for the LSTM model. It would optimize how long data window model needs to feed into LSTM. It finds the highest power periods in the FFT transformation of the target columns."
   ]
  },
  {
   "cell_type": "code",
   "execution_count": 29,
   "metadata": {},
   "outputs": [],
   "source": [
    "encoded_df=imputed_df.copy()\n",
    "encoder=LabelEncoder()\n",
    "encoded_df[cat_cols] = encoded_df[cat_cols].apply(lambda x: encoder.fit_transform(x.astype(str)))"
   ]
  },
  {
   "cell_type": "code",
   "execution_count": 30,
   "metadata": {},
   "outputs": [],
   "source": [
    "feat_cols= num_cols + cat_cols\n",
    "\n",
    "scaler=MinMaxScaler()\n",
    "\n",
    "scaled_df = scaler.fit_transform(encoded_df[feat_cols] )\n",
    "\n",
    "n_components=5\n",
    "umap_data = umap.UMAP(n_neighbors=5, min_dist=0.3, n_components=n_components).fit_transform(scaled_df)"
   ]
  },
  {
   "cell_type": "code",
   "execution_count": 31,
   "metadata": {},
   "outputs": [],
   "source": [
    "umap_data=pd.DataFrame(data=umap_data, columns=[('umap%d' % (j)) for j in range(n_components)], index=imputed_df.index)"
   ]
  },
  {
   "cell_type": "code",
   "execution_count": 32,
   "metadata": {},
   "outputs": [
    {
     "data": {
      "text/html": [
       "<div>\n",
       "<style scoped>\n",
       "    .dataframe tbody tr th:only-of-type {\n",
       "        vertical-align: middle;\n",
       "    }\n",
       "\n",
       "    .dataframe tbody tr th {\n",
       "        vertical-align: top;\n",
       "    }\n",
       "\n",
       "    .dataframe thead th {\n",
       "        text-align: right;\n",
       "    }\n",
       "</style>\n",
       "<table border=\"1\" class=\"dataframe\">\n",
       "  <thead>\n",
       "    <tr style=\"text-align: right;\">\n",
       "      <th></th>\n",
       "      <th>umap0</th>\n",
       "      <th>umap1</th>\n",
       "      <th>umap2</th>\n",
       "      <th>umap3</th>\n",
       "      <th>umap4</th>\n",
       "    </tr>\n",
       "  </thead>\n",
       "  <tbody>\n",
       "    <tr>\n",
       "      <th>0</th>\n",
       "      <td>2.596534</td>\n",
       "      <td>3.194169</td>\n",
       "      <td>1.134695</td>\n",
       "      <td>-1.033040</td>\n",
       "      <td>-5.579732</td>\n",
       "    </tr>\n",
       "    <tr>\n",
       "      <th>1</th>\n",
       "      <td>2.640637</td>\n",
       "      <td>3.234908</td>\n",
       "      <td>1.175088</td>\n",
       "      <td>-1.076223</td>\n",
       "      <td>-5.624588</td>\n",
       "    </tr>\n",
       "    <tr>\n",
       "      <th>2</th>\n",
       "      <td>2.586943</td>\n",
       "      <td>3.181154</td>\n",
       "      <td>1.121627</td>\n",
       "      <td>-1.022754</td>\n",
       "      <td>-5.570744</td>\n",
       "    </tr>\n",
       "    <tr>\n",
       "      <th>3</th>\n",
       "      <td>2.573624</td>\n",
       "      <td>3.164159</td>\n",
       "      <td>1.104329</td>\n",
       "      <td>-1.008313</td>\n",
       "      <td>-5.558768</td>\n",
       "    </tr>\n",
       "    <tr>\n",
       "      <th>4</th>\n",
       "      <td>2.553404</td>\n",
       "      <td>3.136536</td>\n",
       "      <td>1.076778</td>\n",
       "      <td>-0.986485</td>\n",
       "      <td>-5.538689</td>\n",
       "    </tr>\n",
       "  </tbody>\n",
       "</table>\n",
       "</div>"
      ],
      "text/plain": [
       "      umap0     umap1     umap2     umap3     umap4\n",
       "0  2.596534  3.194169  1.134695 -1.033040 -5.579732\n",
       "1  2.640637  3.234908  1.175088 -1.076223 -5.624588\n",
       "2  2.586943  3.181154  1.121627 -1.022754 -5.570744\n",
       "3  2.573624  3.164159  1.104329 -1.008313 -5.558768\n",
       "4  2.553404  3.136536  1.076778 -0.986485 -5.538689"
      ]
     },
     "execution_count": 32,
     "metadata": {},
     "output_type": "execute_result"
    }
   ],
   "source": [
    "umap_data.head()"
   ]
  },
  {
   "cell_type": "code",
   "execution_count": 33,
   "metadata": {},
   "outputs": [],
   "source": [
    "reduced_df=imputed_df[['SUBJECT','DATE']+target_cols+['subject','date']].copy()\n",
    "encoder=LabelEncoder()\n",
    "reduced_df['subject'] = encoder.fit_transform(reduced_df['subject'])"
   ]
  },
  {
   "cell_type": "code",
   "execution_count": 34,
   "metadata": {},
   "outputs": [],
   "source": [
    "add_cols=[('umap%d' % (j)) for j in range(n_components)]"
   ]
  },
  {
   "cell_type": "code",
   "execution_count": 35,
   "metadata": {},
   "outputs": [],
   "source": [
    "reduced_df[add_cols]=umap_data"
   ]
  },
  {
   "cell_type": "markdown",
   "metadata": {},
   "source": [
    "Dataset after dimension reduction:"
   ]
  },
  {
   "cell_type": "code",
   "execution_count": 36,
   "metadata": {
    "scrolled": true
   },
   "outputs": [
    {
     "data": {
      "text/html": [
       "<div>\n",
       "<style scoped>\n",
       "    .dataframe tbody tr th:only-of-type {\n",
       "        vertical-align: middle;\n",
       "    }\n",
       "\n",
       "    .dataframe tbody tr th {\n",
       "        vertical-align: top;\n",
       "    }\n",
       "\n",
       "    .dataframe thead th {\n",
       "        text-align: right;\n",
       "    }\n",
       "</style>\n",
       "<table border=\"1\" class=\"dataframe\">\n",
       "  <thead>\n",
       "    <tr style=\"text-align: right;\">\n",
       "      <th></th>\n",
       "      <th>SUBJECT</th>\n",
       "      <th>DATE</th>\n",
       "      <th>WB_ny_gdp_mktp_cd</th>\n",
       "      <th>WB_ny_gdp_defl_kd_zg</th>\n",
       "      <th>subject</th>\n",
       "      <th>date</th>\n",
       "      <th>umap0</th>\n",
       "      <th>umap1</th>\n",
       "      <th>umap2</th>\n",
       "      <th>umap3</th>\n",
       "      <th>umap4</th>\n",
       "    </tr>\n",
       "  </thead>\n",
       "  <tbody>\n",
       "    <tr>\n",
       "      <th>0</th>\n",
       "      <td>ABW</td>\n",
       "      <td>1961</td>\n",
       "      <td>5.594926e+11</td>\n",
       "      <td>26.766034</td>\n",
       "      <td>0</td>\n",
       "      <td>1961.0</td>\n",
       "      <td>2.596534</td>\n",
       "      <td>3.194169</td>\n",
       "      <td>1.134695</td>\n",
       "      <td>-1.033040</td>\n",
       "      <td>-5.579732</td>\n",
       "    </tr>\n",
       "    <tr>\n",
       "      <th>1</th>\n",
       "      <td>ABW</td>\n",
       "      <td>1962</td>\n",
       "      <td>2.148444e+11</td>\n",
       "      <td>26.079552</td>\n",
       "      <td>0</td>\n",
       "      <td>1962.0</td>\n",
       "      <td>2.640637</td>\n",
       "      <td>3.234908</td>\n",
       "      <td>1.175088</td>\n",
       "      <td>-1.076223</td>\n",
       "      <td>-5.624588</td>\n",
       "    </tr>\n",
       "    <tr>\n",
       "      <th>2</th>\n",
       "      <td>ABW</td>\n",
       "      <td>1963</td>\n",
       "      <td>2.144410e+11</td>\n",
       "      <td>26.235968</td>\n",
       "      <td>0</td>\n",
       "      <td>1963.0</td>\n",
       "      <td>2.586943</td>\n",
       "      <td>3.181154</td>\n",
       "      <td>1.121627</td>\n",
       "      <td>-1.022754</td>\n",
       "      <td>-5.570744</td>\n",
       "    </tr>\n",
       "    <tr>\n",
       "      <th>3</th>\n",
       "      <td>ABW</td>\n",
       "      <td>1964</td>\n",
       "      <td>2.132275e+11</td>\n",
       "      <td>26.396784</td>\n",
       "      <td>0</td>\n",
       "      <td>1964.0</td>\n",
       "      <td>2.573624</td>\n",
       "      <td>3.164159</td>\n",
       "      <td>1.104329</td>\n",
       "      <td>-1.008313</td>\n",
       "      <td>-5.558768</td>\n",
       "    </tr>\n",
       "    <tr>\n",
       "      <th>4</th>\n",
       "      <td>ABW</td>\n",
       "      <td>1965</td>\n",
       "      <td>2.158921e+11</td>\n",
       "      <td>26.546872</td>\n",
       "      <td>0</td>\n",
       "      <td>1965.0</td>\n",
       "      <td>2.553404</td>\n",
       "      <td>3.136536</td>\n",
       "      <td>1.076778</td>\n",
       "      <td>-0.986485</td>\n",
       "      <td>-5.538689</td>\n",
       "    </tr>\n",
       "  </tbody>\n",
       "</table>\n",
       "</div>"
      ],
      "text/plain": [
       "  SUBJECT  DATE  WB_ny_gdp_mktp_cd  WB_ny_gdp_defl_kd_zg  subject    date  \\\n",
       "0     ABW  1961       5.594926e+11             26.766034        0  1961.0   \n",
       "1     ABW  1962       2.148444e+11             26.079552        0  1962.0   \n",
       "2     ABW  1963       2.144410e+11             26.235968        0  1963.0   \n",
       "3     ABW  1964       2.132275e+11             26.396784        0  1964.0   \n",
       "4     ABW  1965       2.158921e+11             26.546872        0  1965.0   \n",
       "\n",
       "      umap0     umap1     umap2     umap3     umap4  \n",
       "0  2.596534  3.194169  1.134695 -1.033040 -5.579732  \n",
       "1  2.640637  3.234908  1.175088 -1.076223 -5.624588  \n",
       "2  2.586943  3.181154  1.121627 -1.022754 -5.570744  \n",
       "3  2.573624  3.164159  1.104329 -1.008313 -5.558768  \n",
       "4  2.553404  3.136536  1.076778 -0.986485 -5.538689  "
      ]
     },
     "execution_count": 36,
     "metadata": {},
     "output_type": "execute_result"
    }
   ],
   "source": [
    "reduced_df.head()"
   ]
  },
  {
   "cell_type": "markdown",
   "metadata": {},
   "source": [
    "Let's find whether there is a meaningful periodicity in the dataset"
   ]
  },
  {
   "cell_type": "code",
   "execution_count": 37,
   "metadata": {
    "scrolled": true
   },
   "outputs": [
    {
     "name": "stderr",
     "output_type": "stream",
     "text": [
      "<ipython-input-37-c93a1f2cd8ba>:3: RuntimeWarning: divide by zero encountered in true_divide\n",
      "  periods = 1 / frequencies\n"
     ]
    },
    {
     "data": {
      "image/png": "[encoded data removed]",
      "text/plain": [
       "<Figure size 360x360 with 1 Axes>"
      ]
     },
     "metadata": {
      "needs_background": "light"
     },
     "output_type": "display_data"
    }
   ],
   "source": [
    "ft_targets = fftpack.fft(reduced_df[target_cols], axis=0)\n",
    "frequencies = fftpack.fftfreq(reduced_df[target_cols].shape[0],1)\n",
    "periods = 1 / frequencies\n",
    "\n",
    "periodicity_find=pd.DataFrame(abs(ft_targets) * 1e-3,columns=target_cols)\n",
    "periodicity_find['periods']=periods\n",
    "\n",
    "plt.figure(figsize=(5,5))\n",
    "\n",
    "\n",
    "plt.plot(periodicity_find['periods'], periodicity_find[target_cols], 'o')\n",
    "plt.xlim(1, 50)\n",
    "plt.xlabel('Period')\n",
    "plt.ylabel('Power ($\\cdot10^3$)')\n",
    "\n",
    "plt.show()"
   ]
  },
  {
   "cell_type": "code",
   "execution_count": 38,
   "metadata": {},
   "outputs": [],
   "source": [
    "# periodicity_find[((periodicity_find['periods']>0) & (periodicity_find['periods']<50))].max()"
   ]
  },
  {
   "cell_type": "code",
   "execution_count": 39,
   "metadata": {
    "scrolled": true
   },
   "outputs": [],
   "source": [
    "# periodicity_find[((periodicity_find['periods']>0) & (periodicity_find['periods']<50))].idxmax()"
   ]
  },
  {
   "cell_type": "code",
   "execution_count": 40,
   "metadata": {},
   "outputs": [],
   "source": [
    "opt_period=np.rint(periodicity_find.loc[528,'periods'])"
   ]
  },
  {
   "cell_type": "code",
   "execution_count": 41,
   "metadata": {},
   "outputs": [],
   "source": [
    "#time constant t_r=0.35*period\n",
    "t_r=opt_period*0.35"
   ]
  },
  {
   "cell_type": "code",
   "execution_count": 42,
   "metadata": {},
   "outputs": [
    {
     "name": "stdout",
     "output_type": "stream",
     "text": [
      "Time constant is equal to 10 (highest period in the power spectrum times 0.35)\n"
     ]
    }
   ],
   "source": [
    "print('Time constant is equal to %d (highest period in the power spectrum times 0.35)' %t_r)"
   ]
  },
  {
   "cell_type": "code",
   "execution_count": 43,
   "metadata": {},
   "outputs": [],
   "source": [
    "window=np.rint(t_r/2).astype(np.int64)"
   ]
  },
  {
   "cell_type": "code",
   "execution_count": 44,
   "metadata": {},
   "outputs": [
    {
     "name": "stdout",
     "output_type": "stream",
     "text": [
      "Optimal window length is 5 (approximately half of the time constant)\n"
     ]
    }
   ],
   "source": [
    "print('Optimal window length is %d (approximately half of the time constant)' %window)"
   ]
  },
  {
   "cell_type": "markdown",
   "metadata": {},
   "source": [
    "# First train the model for nontarget subjects (Global Data)"
   ]
  },
  {
   "cell_type": "markdown",
   "metadata": {},
   "source": [
    "There are two ways to solve time-series panel data: either loop throughout the model for each country’s data or the countries’ panel data once. If you try both and obtain the RMSE for each way, you can compare the result and choose the best way for your time series panel data."
   ]
  },
  {
   "cell_type": "markdown",
   "metadata": {},
   "source": [
    "Let's first train the LSTM model with Global Dataset"
   ]
  },
  {
   "cell_type": "code",
   "execution_count": 45,
   "metadata": {},
   "outputs": [],
   "source": [
    "#SCALE FEATURES "
   ]
  },
  {
   "cell_type": "code",
   "execution_count": 70,
   "metadata": {},
   "outputs": [],
   "source": [
    "s=MinMaxScaler()\n",
    "Xs=s.fit_transform(reduced_df.drop(columns=['SUBJECT','DATE']))\n",
    "Ys=Xs"
   ]
  },
  {
   "cell_type": "code",
   "execution_count": 71,
   "metadata": {},
   "outputs": [],
   "source": [
    "X=[]\n",
    "Y=[]"
   ]
  },
  {
   "cell_type": "code",
   "execution_count": 72,
   "metadata": {},
   "outputs": [],
   "source": [
    "subject_lists=reduced_df['SUBJECT'].unique().tolist()\n",
    "\n",
    "subject_range_list=[]\n",
    "\n",
    "for subject in subject_lists:\n",
    "    range_subject=reduced_df.index[reduced_df['SUBJECT']==subject].tolist()\n",
    "    \n",
    "    if not subject in target_subjects:\n",
    "        start=range_subject[0]\n",
    "        end=range_subject[-1]\n",
    "        \n",
    "        for i in range(start+window,end+1):\n",
    "            X.append(Xs[i-window:i,:])\n",
    "            Y.append(Ys[i])\n",
    "            subject_range_list.append(i)"
   ]
  },
  {
   "cell_type": "code",
   "execution_count": 73,
   "metadata": {},
   "outputs": [],
   "source": [
    "X, Y =np.array(X), np.array(Y)"
   ]
  },
  {
   "cell_type": "code",
   "execution_count": 74,
   "metadata": {},
   "outputs": [],
   "source": [
    "model = Sequential()\n",
    "\n",
    "model.add(LSTM(units=32*Y.shape[1], activation='relu',input_shape=(X.shape[1], X.shape[2]), return_sequences=True ))\n",
    "model.add(Dropout(0.1))\n",
    "\n",
    "model.add(LSTM(units=8*Y.shape[1],return_sequences=False))\n",
    "model.add(Dropout(0.1))\n",
    "\n",
    "model.add(Dense(Y.shape[1]))\n",
    "model.add(Activation(\"linear\"))\n",
    "\n",
    "model.compile(optimizer=\"adam\",\n",
    "              loss='mse',\n",
    "              loss_weights=[1,0.001,0.001,0.01,0.00001,0.00001,0.00001,0.00001,0.00001]\n",
    "             )\n",
    "\n",
    "t0=time.time()\n",
    "\n",
    "model.fit(X,Y, \n",
    "          epochs=30, \n",
    "          batch_size=128,  verbose=0, shuffle=False,\n",
    "         )\n",
    "        \n",
    "t1=time.time()"
   ]
  },
  {
   "cell_type": "code",
   "execution_count": 75,
   "metadata": {},
   "outputs": [
    {
     "name": "stdout",
     "output_type": "stream",
     "text": [
      "Runtime for training the model: 63.16 s\n"
     ]
    }
   ],
   "source": [
    "print('Runtime for training the model: %.2f s' %(t1-t0))"
   ]
  },
  {
   "cell_type": "markdown",
   "metadata": {},
   "source": [
    "Model loss in each epoch"
   ]
  },
  {
   "cell_type": "code",
   "execution_count": 76,
   "metadata": {
    "scrolled": true
   },
   "outputs": [
    {
     "data": {
      "text/plain": [
       "<AxesSubplot:>"
      ]
     },
     "execution_count": 76,
     "metadata": {},
     "output_type": "execute_result"
    },
    {
     "data": {
      "image/png": "[encoded data removed]",
      "text/plain": [
       "<Figure size 432x288 with 1 Axes>"
      ]
     },
     "metadata": {
      "needs_background": "light"
     },
     "output_type": "display_data"
    }
   ],
   "source": [
    "# plot history\n",
    "model_loss = pd.DataFrame(model.history.history)\n",
    "model_loss.plot()"
   ]
  },
  {
   "cell_type": "markdown",
   "metadata": {},
   "source": [
    "# Model Evaluation Global Data"
   ]
  },
  {
   "cell_type": "code",
   "execution_count": 77,
   "metadata": {},
   "outputs": [],
   "source": [
    "Y_pred=model.predict(X)\n",
    "Y_pred=s.inverse_transform(Y_pred)\n",
    "Y_pred=pd.DataFrame(Y_pred,index=subject_range_list, columns=reduced_df.drop(columns=['SUBJECT','DATE']).columns)\n",
    "Y_pred['SUBJECT']=reduced_df.loc[subject_range_list]['SUBJECT']\n",
    "Y_pred['DATE']=reduced_df.loc[subject_range_list]['DATE']\n",
    "Y_pred=Y_pred[reduced_df.columns]\n",
    "Y=reduced_df.loc[subject_range_list]"
   ]
  },
  {
   "cell_type": "markdown",
   "metadata": {},
   "source": [
    "How model performed for the mean values in each year:"
   ]
  },
  {
   "cell_type": "code",
   "execution_count": 78,
   "metadata": {
    "scrolled": true
   },
   "outputs": [
    {
     "data": {
      "text/plain": [
       "<matplotlib.legend.Legend at 0x2454da93640>"
      ]
     },
     "execution_count": 78,
     "metadata": {},
     "output_type": "execute_result"
    },
    {
     "data": {
      "image/png": "[encoded data removed]",
      "text/plain": [
       "<Figure size 1440x720 with 1 Axes>"
      ]
     },
     "metadata": {
      "needs_background": "light"
     },
     "output_type": "display_data"
    }
   ],
   "source": [
    "plt.figure(figsize=(20,10))\n",
    "Y_pred.groupby('DATE')[target_cols[0]].mean().plot(kind='line',label='mean prediction',color='red',alpha=1)\n",
    "Y.groupby('DATE')[target_cols[0]].mean().plot(kind='line',label='mean actual values',color='blue',alpha=0.4)\n",
    "plt.xticks(rotation=90,size=20)\n",
    "plt.yticks(size=20)\n",
    "\n",
    "plt.ylabel(target_cols[0],fontsize=20)\n",
    "plt.xlabel('Date',fontsize=20)\n",
    "plt.title('Predicted Values VS Actual Values - Mean ',fontsize=20)\n",
    "plt.legend()"
   ]
  },
  {
   "cell_type": "code",
   "execution_count": 79,
   "metadata": {},
   "outputs": [],
   "source": [
    "def RMSE(actual,prediction):\n",
    "    rmse = np.sqrt(mean_squared_error(actual,prediction))\n",
    "    return rmse"
   ]
  },
  {
   "cell_type": "code",
   "execution_count": 80,
   "metadata": {},
   "outputs": [
    {
     "name": "stdout",
     "output_type": "stream",
     "text": [
      "RMSE is 782718697999\n"
     ]
    }
   ],
   "source": [
    "print('RMSE is %d' %RMSE(Y[target_cols[0]],Y_pred[target_cols[0]]))"
   ]
  },
  {
   "cell_type": "markdown",
   "metadata": {},
   "source": [
    "# LSTM for Target Subjects"
   ]
  },
  {
   "cell_type": "markdown",
   "metadata": {},
   "source": [
    "Train Test Split and Back Testing for Target Countries"
   ]
  },
  {
   "cell_type": "code",
   "execution_count": 81,
   "metadata": {},
   "outputs": [],
   "source": [
    "#create a train test split for given subject\n",
    "def train_test_split(subject, percent=0.8):\n",
    "    X_train=[]\n",
    "    Y_train=[]\n",
    "    X_test=[]\n",
    "    Y_test=[]\n",
    "    \n",
    "    range_subject=reduced_df.index[reduced_df['SUBJECT']==subject].tolist()\n",
    "    subject_test_range_list=[]\n",
    "    \n",
    "    start_train=range_subject[0]\n",
    "    size=int((range_subject[-1]-range_subject[0])*percent)\n",
    "    end_train=range_subject[size]\n",
    "    \n",
    "    for i in range(start_train+window,end_train+1):\n",
    "        X_train.append(Xs[i-window:i,:])\n",
    "        Y_train.append(Ys[i])        \n",
    "\n",
    "    start_test=range_subject[size+1]\n",
    "    end_test=range_subject[-1]\n",
    "    \n",
    "    for i in range(start_test,end_test+1):\n",
    "        X_test.append(Xs[i-window:i,:])\n",
    "        Y_test.append(Ys[i])\n",
    "        subject_test_range_list.append(i) \n",
    "    \n",
    "    X_train,Y_train,X_test,Y_test =np.array(X_train), np.array(Y_train),np.array(X_test), np.array(Y_test)\n",
    "    \n",
    "    return X_train, Y_train, X_test, Y_test, subject_test_range_list"
   ]
  },
  {
   "cell_type": "code",
   "execution_count": 82,
   "metadata": {
    "scrolled": false
   },
   "outputs": [
    {
     "name": "stdout",
     "output_type": "stream",
     "text": [
      "Epoch 00017: early stopping\n",
      "Epoch 00014: early stopping\n"
     ]
    },
    {
     "data": {
      "image/png": "[encoded data removed]",
      "text/plain": [
       "<Figure size 1440x720 with 1 Axes>"
      ]
     },
     "metadata": {
      "needs_background": "light"
     },
     "output_type": "display_data"
    },
    {
     "data": {
      "image/png": "[encoded data removed]",
      "text/plain": [
       "<Figure size 1440x720 with 1 Axes>"
      ]
     },
     "metadata": {
      "needs_background": "light"
     },
     "output_type": "display_data"
    },
    {
     "data": {
      "image/png": "[encoded data removed]",
      "text/plain": [
       "<Figure size 1440x720 with 1 Axes>"
      ]
     },
     "metadata": {
      "needs_background": "light"
     },
     "output_type": "display_data"
    }
   ],
   "source": [
    "# loop through target subjects\n",
    "for i, subject in enumerate(target_subjects):\n",
    "    X_train, Y_train, X_test, Y_test, subject_test_range_list = train_test_split(subject)\n",
    "    \n",
    "    early_stop = EarlyStopping(monitor='val_loss', mode='min', verbose=1, patience=10)\n",
    "    \n",
    "    t0=time.time()\n",
    "    model.fit(X_train,Y_train, \n",
    "              epochs=20, \n",
    "              batch_size=32,  verbose=0, shuffle=False,\n",
    "              validation_data=(X_test, Y_test),\n",
    "              callbacks=[early_stop])\n",
    "    t1=time.time()\n",
    "#     print('Runtime: %.2f s' %(t1-t0))\n",
    "    Y_test_pred=model.predict(X_test)\n",
    "    Y_test_pred=s.inverse_transform(Y_test_pred)\n",
    "    Y_test_pred=pd.DataFrame(Y_test_pred,index=subject_test_range_list, columns=reduced_df.drop(columns=['SUBJECT','DATE']).columns)\n",
    "    Y_test_pred['SUBJECT']=reduced_df.loc[subject_test_range_list]['SUBJECT']\n",
    "    Y_test_pred['DATE']=reduced_df.loc[subject_test_range_list]['DATE']\n",
    "    Y=reduced_df.loc[subject_test_range_list]\n",
    "    \n",
    "#     print(RMSE(Y[target_cols[0]],Y_test_pred[target_cols[0]]))\n",
    "    \n",
    "    plt.figure(figsize=(20,10))\n",
    "    Y_test_pred.groupby('DATE')[target_cols[0]].mean().plot(kind='line',label='prediction',color='red',alpha=1)\n",
    "    Y.groupby('DATE')[target_cols[0]].mean().plot(kind='line',label='actual values',color='blue',alpha=0.4)\n",
    "    plt.xticks(rotation=90,size=20)\n",
    "    plt.yticks(size=20)\n",
    "    \n",
    "    \n",
    "    plt.ylabel(target_cols[0],fontsize=20)\n",
    "    plt.xlabel('Date',fontsize=20)\n",
    "    plt.title('Predicted Values VS Actual Values - %s' %(subject),fontsize=20)\n",
    "    plt.legend()"
   ]
  },
  {
   "cell_type": "markdown",
   "metadata": {},
   "source": [
    "The plot shows the predicted values versus actual values. Our model predicted very well"
   ]
  },
  {
   "cell_type": "markdown",
   "metadata": {},
   "source": [
    "# FORECAST"
   ]
  },
  {
   "cell_type": "markdown",
   "metadata": {},
   "source": [
    "We forecast next 3 periods for each target county."
   ]
  },
  {
   "cell_type": "code",
   "execution_count": 83,
   "metadata": {},
   "outputs": [],
   "source": [
    "#First fit model for test data then create a forcast for next periods\n",
    "\n",
    "for i, subject in enumerate(target_subjects):\n",
    "    X_train, Y_train, X_test, Y_test, subject_test_range_list = train_test_split(subject)\n",
    "    \n",
    "    t0=time.time()\n",
    "    model.fit(X_test,Y_test, \n",
    "              epochs=60, \n",
    "              batch_size=16,  verbose=0, shuffle=False,\n",
    "             ) "
   ]
  },
  {
   "cell_type": "code",
   "execution_count": 84,
   "metadata": {},
   "outputs": [],
   "source": [
    "#Using predicted values to predict next step"
   ]
  },
  {
   "cell_type": "code",
   "execution_count": 85,
   "metadata": {},
   "outputs": [
    {
     "data": {
      "image/png": "[encoded data removed]",
      "text/plain": [
       "<Figure size 360x360 with 1 Axes>"
      ]
     },
     "metadata": {
      "needs_background": "light"
     },
     "output_type": "display_data"
    },
    {
     "data": {
      "image/png": "[encoded data removed]",
      "text/plain": [
       "<Figure size 360x360 with 1 Axes>"
      ]
     },
     "metadata": {
      "needs_background": "light"
     },
     "output_type": "display_data"
    },
    {
     "data": {
      "image/png": "[encoded data removed]",
      "text/plain": [
       "<Figure size 360x360 with 1 Axes>"
      ]
     },
     "metadata": {
      "needs_background": "light"
     },
     "output_type": "display_data"
    }
   ],
   "source": [
    "for i, subject in enumerate(target_subjects):\n",
    "    \n",
    "    Yf=[]\n",
    "    range_subject=reduced_df.index[reduced_df['SUBJECT']==subject].tolist()\n",
    "    \n",
    "    start=range_subject[-1]\n",
    "    \n",
    "    X=Xs[start+1-window:start+1,:].copy()\n",
    "    for j in range(window,window+target_periods):\n",
    "        Xin=X[j-window:j].reshape((1,window,-1))\n",
    "        X=np.append(X,model.predict(Xin)).reshape((-1,9))\n",
    "        Yf.append(X[-1])\n",
    "    \n",
    "    Yf=s.inverse_transform(Yf)\n",
    "    \n",
    "    Yf=pd.DataFrame(Yf, columns=reduced_df.drop(columns=['SUBJECT','DATE']).columns)\n",
    "    Yf['SUBJECT']=reduced_df.loc[start]['SUBJECT']\n",
    "    Yf['DATE']=range(reduced_df.loc[start]['DATE']+1,reduced_df.loc[start]['DATE']+1+target_periods)\n",
    "    \n",
    "        \n",
    "    plt.figure(figsize=(5,5))\n",
    "    Yf.groupby('DATE')[target_cols[0]].mean().plot(kind='line',label='forecast',color='red',alpha=1)\n",
    "    plt.xticks(Yf['DATE'],rotation=90,size=15)\n",
    "    plt.yticks(size=15)\n",
    "    \n",
    "    \n",
    "    plt.ylabel(target_cols[0],fontsize=15)\n",
    "    plt.xlabel('Date',fontsize=15)\n",
    "    plt.title('Forecast Values - %s' %(subject),fontsize=20)\n",
    "    plt.legend()  "
   ]
  }
 ],
 "metadata": {
  "kernelspec": {
   "display_name": "Python 3",
   "language": "python",
   "name": "python3"
  },
  "language_info": {
   "codemirror_mode": {
    "name": "ipython",
    "version": 3
   },
   "file_extension": ".py",
   "mimetype": "text/x-python",
   "name": "python",
   "nbconvert_exporter": "python",
   "pygments_lexer": "ipython3",
   "version": "3.8.5"
  }
 },
 "nbformat": 4,
 "nbformat_minor": 4
}
